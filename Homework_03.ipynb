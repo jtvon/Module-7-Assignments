{
 "cells": [
  {
   "cell_type": "markdown",
   "id": "46913eb8-92a6-4118-b860-869d4a889226",
   "metadata": {},
   "source": [
    "# Homework 03: Learning Curves and Training Workflow\n",
    "\n",
    "## Due: Midnight on September 21 (with 2-hour grace period)\n",
    "\n",
    "**Points:** 85\n",
    "\n",
    "In this assignment, you will learn how to design, train, and evaluate neural networks by systematically exploring key design choices. Your focus will be on developing an effective **training workflow** — using learning curves and validation metrics to guide your decisions.\n",
    "\n",
    "We'll use the **Forest Cover Type (Covertype) dataset,** which has ~581k tabular records with 54 cartographic/topographic features (elevation, aspect, slope, soil and wilderness indicators) used to predict one of seven tree cover types in Colorado’s Roosevelt National Forest. It’s a large, mildly imbalanced multi-class benchmark commonly used to compare classical ML and deep learning on tabular data.\n",
    "\n",
    "We will start with a **baseline model** (two hidden layers of sizes 64 and 32), and gradually introduce and tune different hyperparameters. Each of the first five problems considers  different hyperparameter choices, and the last problem is your chance to use what you have learned to design your best model:\n",
    "\n",
    "1. **Activation function** – Compare ReLU, sigmoid, and tanh to see which provides the best accuracy.\n",
    "2. **Learning rate** – Explore a range of learning rates and identify which balances convergence speed and stability.\n",
    "3. **Dropout** – Investigate how different dropout rates reduce overfitting and where they are most effective.\n",
    "4. **L2 regularization** – Experiment with weight penalties to encourage simpler models and avoid memorization.\n",
    "5. **Dropout + L2** – Combine both regularization techniques and study their interaction.\n",
    "6. **Best model design** – Use all your insights to build and train your strongest model, with the option to try **learning rate scheduling** for further improvement.\n",
    "\n",
    "Throughout, you will use **early stopping** to select the model at the epoch of **minimum validation loss**, and you will report the **validation accuracy** of that selected model as the primary measure of performance.\n",
    "\n",
    "By the end of this homework, you will not only understand how different hyperparameters affect training and generalization, but also gain hands-on practice in building a disciplined workflow for model development.\n",
    "\n",
    "There are 10 graded problems, worth 8 points each, with 5 points for free if you complete the homework. "
   ]
  },
  {
   "cell_type": "code",
   "execution_count": 1,
   "id": "647c362e-70fa-4713-a7e5-b9172b3c4a7f",
   "metadata": {},
   "outputs": [],
   "source": [
    "# Useful imports\n",
    "\n",
    "import pandas as pd\n",
    "import numpy as np\n",
    "import matplotlib.pyplot as plt\n",
    "import seaborn as sns\n",
    "from collections import Counter\n",
    "import time\n",
    "import os\n",
    "\n",
    "from sklearn.model_selection import train_test_split, StratifiedShuffleSplit\n",
    "from sklearn.preprocessing import StandardScaler\n",
    "from sklearn.utils import class_weight\n",
    "\n",
    "import tensorflow as tf\n",
    "from tensorflow.keras import layers, models, regularizers\n",
    "from tensorflow.keras.models import Sequential\n",
    "from tensorflow.keras.layers import Dense,Input,Dropout\n",
    "from tensorflow.keras.optimizers import Adam\n",
    "\n",
    "from tensorflow.keras.callbacks import EarlyStopping\n",
    "from tensorflow.keras.optimizers.schedules import ExponentialDecay\n",
    "\n",
    "\n",
    "from tensorflow.keras.datasets import fashion_mnist\n",
    "\n",
    "# utility code\n",
    "\n",
    "random_seed = 42\n",
    "\n",
    "def format_hms(seconds):\n",
    "    return time.strftime(\"%H:%M:%S\", time.gmtime(seconds))\n",
    "\n",
    "os.environ['TF_CPP_MIN_LOG_LEVEL'] = '2'  # Suppresses INFO and WARNING messages\n"
   ]
  },
  {
   "cell_type": "code",
   "execution_count": 2,
   "id": "44fc0cdc-c99e-4983-8526-09ff935ea698",
   "metadata": {},
   "outputs": [],
   "source": [
    "# Utility function to plot learning curves and keep track of all results\n",
    "\n",
    "# Call `print_results()` to see listing of all results logged so far\n",
    "\n",
    "\n",
    "def plot_learning_curves(hist, title, verbose=True):\n",
    "    \n",
    "    val_losses = hist.history['val_loss']\n",
    "    min_val_loss = min(val_losses)\n",
    "    min_val_epoch = val_losses.index(min_val_loss)\n",
    "    val_acc_at_min_loss = hist.history['val_accuracy'][min_val_epoch]\n",
    "\n",
    "    epochs = range(1, len(val_losses) + 1)  # epoch numbers starting at 1\n",
    "\n",
    "    fig, axs = plt.subplots(2, 1, figsize=(8, 8), sharex=True)\n",
    "\n",
    "    # --- Loss Plot ---\n",
    "    axs[0].plot(epochs, hist.history['loss'], label='train loss')\n",
    "    axs[0].plot(epochs, hist.history['val_loss'], label='val loss')\n",
    "    axs[0].scatter(min_val_epoch + 1, min_val_loss, color='red', marker='x', s=50, label='min val loss')\n",
    "    axs[0].set_title(f'{title} - Categorical Cross-Entropy Loss')\n",
    "    axs[0].set_ylabel('Loss')\n",
    "    axs[0].legend()\n",
    "    axs[0].grid(True)\n",
    "\n",
    "    # --- Accuracy Plot ---\n",
    "    axs[1].plot(epochs, hist.history['accuracy'], label='train acc')\n",
    "    axs[1].plot(epochs, hist.history['val_accuracy'], label='val acc')\n",
    "    axs[1].scatter(min_val_epoch + 1, val_acc_at_min_loss, color='red', marker='x', s=50, label='acc @ min val loss')\n",
    "    axs[1].set_title(f'{title} - Accuracy')\n",
    "    axs[1].set_xlabel('Epoch')\n",
    "    axs[1].set_ylabel('Accuracy')\n",
    "    axs[1].legend()\n",
    "    axs[1].grid(True)\n",
    "    axs[1].set_ylim(0, 1.05)\n",
    "\n",
    "    plt.tight_layout()\n",
    "    plt.show()\n",
    "\n",
    "    if verbose:\n",
    "        print(f\"Final Training Loss:            {hist.history['loss'][-1]:.4f}\")\n",
    "        print(f\"Final Training Accuracy:        {hist.history['accuracy'][-1]:.4f}\")\n",
    "        print(f\"Final Validation Loss:          {hist.history['val_loss'][-1]:.4f}\")\n",
    "        print(f\"Final Validation Accuracy:      {hist.history['val_accuracy'][-1]:.4f}\")\n",
    "        print(f\"Minimum Validation Loss:        {min_val_loss:.4f} (Epoch {min_val_epoch + 1})\")\n",
    "        print(f\"Validation Accuracy @ Min Loss: {val_acc_at_min_loss:.4f}\")\n",
    "\n",
    "    results[title] = (val_acc_at_min_loss,{min_val_epoch + 1})\n",
    "\n",
    "results = {}"
   ]
  },
  {
   "cell_type": "markdown",
   "id": "150efd62-0b3d-43f9-99c5-5e6ffd2a7775",
   "metadata": {},
   "source": [
    "**The plotting function will record the validation accuracy for each experiment, using the plot title as key. The next function will print these out (see the last cell in the notebook).**\n",
    "\n",
    "\n",
    "In order to see all results, you must give a different plot title to each experiment."
   ]
  },
  {
   "cell_type": "code",
   "execution_count": 3,
   "id": "6ad4815c-54bc-4bcb-b275-ac96dda6ae28",
   "metadata": {},
   "outputs": [],
   "source": [
    "def print_results():\n",
    "    for title, (acc, ep) in sorted(results.items(), \n",
    "                                   key=lambda kv: kv[1][0],   # kv[1] is (acc, epoch); [0] is acc\n",
    "                                   reverse=True\n",
    "                                  ):\n",
    "        print(f\"{title:<40}\\t{acc:.4f}\")"
   ]
  },
  {
   "cell_type": "markdown",
   "id": "abdba1b4-f572-4b8b-a2eb-d5fd5b253d94",
   "metadata": {},
   "source": [
    "### Wrapper to train, display results, and run test set\n",
    "\n",
    "We assume multi-class classification, and allow setting various parameters for training. "
   ]
  },
  {
   "cell_type": "code",
   "execution_count": null,
   "id": "1639012c-346c-4ac6-80fe-0e4a05155e3d",
   "metadata": {},
   "outputs": [],
   "source": [
    "# Uses globals X_train,y_train,X_val,y_val\n",
    "\n",
    "def train_and_test(model, \n",
    "                   epochs        = 500,                   # Just needs to be bigger than early stop point\n",
    "                   lr_schedule   = 0.001,                 # Adam default / 10 seems to work well for this dataset\n",
    "                   optimizer     = \"Adam\",\n",
    "                   title         = \"Learning Curves\",\n",
    "                   batch_size    = 64,                     # experiments confirmed this was optimal with other parameters at default\n",
    "                   use_early_stopping = True,\n",
    "                   patience      = 10,                                       \n",
    "                   min_delta     = 0.0001,                 \n",
    "                   callbacks     = [],                     # for extra callbacks other than early stopping\n",
    "                   verbose       = 0,\n",
    "                   return_history = False\n",
    "                  ):\n",
    "\n",
    "    print(f\"\\n{title}\\n\")\n",
    "\n",
    "\n",
    "    if optimizer == \"Adam\":\n",
    "        opt = Adam(learning_rate=lr_schedule) \n",
    "    else:\n",
    "        opt = optimizer\n",
    "    \n",
    "    #Compiling the model\n",
    "    model.compile(optimizer=opt, \n",
    "                  loss=\"sparse_categorical_crossentropy\", \n",
    "                  metrics=[\"accuracy\"]\n",
    "                 )\n",
    "\n",
    "    early_stop = EarlyStopping(\n",
    "        monitor='val_loss',\n",
    "        patience=patience,\n",
    "        min_delta=min_delta,\n",
    "        restore_best_weights=True,               # this will mean that the model which produced the smallest validation loss will be returned\n",
    "        verbose=verbose\n",
    "    )\n",
    "    \n",
    "\n",
    "    if use_early_stopping:\n",
    "        cbs=[early_stop] + callbacks\n",
    "    else:\n",
    "        cbs=callbacks\n",
    "\n",
    "    # start timer\n",
    "    start = time.time()\n",
    "    \n",
    "    # Fit the model with early stopping\n",
    "    history = model.fit(X_train, y_train,\n",
    "                        epochs=epochs,\n",
    "                        batch_size=batch_size,\n",
    "                        validation_data=(X_val, y_val),       # must use stratified validation set\n",
    "                        callbacks=cbs,\n",
    "                        verbose=verbose\n",
    "                       )\n",
    "\n",
    "    if use_early_stopping:\n",
    "        best_epoch = early_stop.best_epoch\n",
    "        best_acc   = history.history['val_accuracy'][best_epoch]\n",
    "    else:\n",
    "        best_epoch = np.argmax(history.history['val_accuracy'])\n",
    "        best_acc   = history.history['val_accuracy'][best_epoch]\n",
    "    \n",
    "    # Plot training history\n",
    "    plot_learning_curves(history, title=title)\n",
    "\n",
    "    # Evaluate on test data\n",
    "    test_loss, test_accuracy = model.evaluate(X_test, y_test, verbose=0)\n",
    "    \n",
    "    print(f\"\\nTest Loss: {test_loss:.4f}\")\n",
    "    print(f\"Test Accuracy: {test_accuracy:.4f}\")\n",
    "\n",
    "    print(f\"\\nValidation-Test Gap (accuracy): {abs(best_acc - test_accuracy):.6f}\")\n",
    "    \n",
    "    # Record end time and print execution time\n",
    "    end = time.time()\n",
    "    print(f\"\\nExecution Time: \" + format_hms(end-start))\n",
    "\n",
    "    if return_history:\n",
    "        return history"
   ]
  },
  {
   "cell_type": "markdown",
   "id": "ad02915a-92e8-4079-afba-7ae6229cf2f0",
   "metadata": {},
   "source": [
    "### Load the dataset and extract a stratified subset\n",
    "\n",
    "This datasest is rather large (581,012 samples) and unbalanced, but for the purposes of this homework, we use a much smaller set, and select samples so that it is balanced. "
   ]
  },
  {
   "cell_type": "code",
   "execution_count": 5,
   "id": "6e526b41-6c2e-45dd-8b26-cc72d4da26df",
   "metadata": {},
   "outputs": [
    {
     "name": "stdout",
     "output_type": "stream",
     "text": [
      "full dataset shape: (581012, 54)\n",
      "balanced subset shape: (7000, 54) class counts: {np.int32(2): 1000, np.int32(0): 1000, np.int32(4): 1000, np.int32(5): 1000, np.int32(1): 1000, np.int32(3): 1000, np.int32(6): 1000}\n",
      "shapes: X_train (4200, 54) X_val (1400, 54) X_test (1400, 54)\n",
      "train: total=4200, per-class={np.int32(2): 600, np.int32(1): 600, np.int32(0): 600, np.int32(3): 600, np.int32(5): 600, np.int32(4): 600, np.int32(6): 600}\n",
      "val  : total=1400, per-class={np.int32(1): 200, np.int32(6): 200, np.int32(5): 200, np.int32(4): 200, np.int32(3): 200, np.int32(2): 200, np.int32(0): 200}\n",
      "test : total=1400, per-class={np.int32(0): 200, np.int32(6): 200, np.int32(2): 200, np.int32(3): 200, np.int32(4): 200, np.int32(5): 200, np.int32(1): 200}\n",
      "class labels: [0 1 2 3 4 5 6]\n"
     ]
    }
   ],
   "source": [
    "# complete cell: load, balance, split into X_train/y_train/x_val/y_val/X_test/y_test, and standardize\n",
    "from collections import Counter\n",
    "from sklearn.datasets import fetch_covtype\n",
    "from sklearn.model_selection import train_test_split\n",
    "from sklearn.preprocessing import StandardScaler\n",
    "import numpy as np\n",
    "\n",
    "# 1) load\n",
    "x, y = fetch_covtype(return_X_y=True)  # y in {1..7}\n",
    "print(\"full dataset shape:\", x.shape)\n",
    "\n",
    "# 2) build a perfectly balanced subset across 7 classes (no replacement)\n",
    "classes, counts = np.unique(y, return_counts=True)\n",
    "# min_count = counts.min()  # size of rarest class                         # You can modify this parameter to increase the size of the dataset, but above\n",
    "min_count = 1000                                                           # counts.min() you'll produce an unbalanced set. \n",
    "\n",
    "\n",
    "rng = np.random.default_rng(42)\n",
    "\n",
    "idx_list = []\n",
    "for c in classes:\n",
    "    c_idx = np.where(y == c)[0]\n",
    "    chosen = rng.choice(c_idx, size=min_count, replace=False)\n",
    "    idx_list.append(chosen)\n",
    "\n",
    "idx_bal = np.concatenate(idx_list)\n",
    "rng.shuffle(idx_bal)\n",
    "\n",
    "X_sub = x[idx_bal]\n",
    "y_sub = y[idx_bal] - 1  # relabel to {0..6} for keras\n",
    "print(\"balanced subset shape:\", X_sub.shape, \"class counts:\", dict(Counter(y_sub)))\n",
    "\n",
    "# 3) stratified 60/20/20 split (train/val/test)\n",
    "test_size = 0.20\n",
    "val_size = 0.20  # of the whole dataset\n",
    "\n",
    "X_trainval, X_test, y_trainval, y_test = train_test_split(\n",
    "    X_sub, y_sub, test_size=test_size, random_state=random_seed, stratify=y_sub\n",
    ")\n",
    "val_size_rel = val_size / (1.0 - test_size)  # e.g., 0.20 / 0.80 = 0.25\n",
    "\n",
    "X_train, X_val, y_train, y_val = train_test_split(\n",
    "    X_trainval, y_trainval, test_size=val_size_rel, random_state=random_seed, stratify=y_trainval\n",
    ")\n",
    "\n",
    "# 4) standardize using train-only stats (float32 for tensorflow friendliness)\n",
    "scaler = StandardScaler()\n",
    "X_train = scaler.fit_transform(X_train).astype(np.float32)\n",
    "X_val   = scaler.transform(X_val).astype(np.float32)\n",
    "X_test  = scaler.transform(X_test).astype(np.float32)\n",
    "\n",
    "# 5) quick sanity checks\n",
    "def show_counts(name, y_arr):\n",
    "    c = Counter(y_arr)\n",
    "    total = sum(c.values())\n",
    "    print(f\"{name}: total={total}, per-class={dict(c)}\")\n",
    "\n",
    "print(\"shapes:\", \"X_train\", X_train.shape, \"X_val\", X_val.shape, \"X_test\", X_test.shape)\n",
    "show_counts(\"train\", y_train)\n",
    "show_counts(\"val  \", y_val)\n",
    "show_counts(\"test \", y_test)\n",
    "\n",
    "# you now have: X_train, y_train, X_val, y_val, X_test, y_test\n",
    "\n",
    "# Looks like integer encoded multi-class, let's check and define the global n_classes\n",
    "\n",
    "labels = np.unique(y_train)\n",
    "\n",
    "n_classes = len(labels)\n",
    "\n",
    "print(\"class labels:\",labels)\n"
   ]
  },
  {
   "cell_type": "markdown",
   "id": "4ffebb52-5b6e-4130-bfc3-416a36d9b39b",
   "metadata": {},
   "source": [
    "## Prelude: Defining a model builder\n",
    "\n",
    "In order to facilitate our experimentation, we'll write a function which builds models according to specifications:\n",
    "\n",
    "- How many layers\n",
    "- How wide each layer is\n",
    "- How much dropout in each layer\n",
    "- How much L2 Regularization in each layer\n",
    "\n",
    "This is a fairly standard practice in ML, since the structure of simple models is fairly predictable and can be specified by a few hyperparameters. "
   ]
  },
  {
   "cell_type": "code",
   "execution_count": 6,
   "id": "d7a66816-a103-4477-9693-3936745dbcf1",
   "metadata": {
    "scrolled": true
   },
   "outputs": [],
   "source": [
    "# This function will build a multi-class classifier with dropout and L2 regularization.\n",
    "# You must specify the number of input features, the number of classes, and a list of layer hyperparameters\n",
    "# in the form  [ ...., (width, activation function, L2 lambda, dropout rate), .... ]\n",
    "\n",
    "# Note that when adding dropout, this appears as a separate layer, but it has no parameters to be trained. \n",
    "\n",
    "def build_model(n_inputs,layer_list,n_classes):\n",
    "    layers = [ Input(shape=(n_inputs,)) ]\n",
    "    for (width,act,l2_lambda,dropout_rate) in layer_list:\n",
    "        layers.append( Dense(width, activation=act, kernel_regularizer=regularizers.l2(l2_lambda)) )\n",
    "        if dropout_rate > 0:\n",
    "            layers.append( Dropout(dropout_rate) )\n",
    "    layers.append( Dense(n_classes, activation='softmax') )\n",
    "    return models.Sequential( layers )\n"
   ]
  },
  {
   "cell_type": "markdown",
   "id": "2054cdb1-c764-4d94-9da4-13e138cd7fb4",
   "metadata": {},
   "source": [
    "**Example: To build the following model:**"
   ]
  },
  {
   "cell_type": "code",
   "execution_count": 7,
   "id": "973edccc-a057-402b-be00-3d53e0c8e97c",
   "metadata": {},
   "outputs": [
    {
     "data": {
      "text/html": [
       "<pre style=\"white-space:pre;overflow-x:auto;line-height:normal;font-family:Menlo,'DejaVu Sans Mono',consolas,'Courier New',monospace\"><span style=\"font-weight: bold\">Model: \"sequential\"</span>\n",
       "</pre>\n"
      ],
      "text/plain": [
       "\u001b[1mModel: \"sequential\"\u001b[0m\n"
      ]
     },
     "metadata": {},
     "output_type": "display_data"
    },
    {
     "data": {
      "text/html": [
       "<pre style=\"white-space:pre;overflow-x:auto;line-height:normal;font-family:Menlo,'DejaVu Sans Mono',consolas,'Courier New',monospace\">┏━━━━━━━━━━━━━━━━━━━━━━━━━━━━━━━━━┳━━━━━━━━━━━━━━━━━━━━━━━━┳━━━━━━━━━━━━━━━┓\n",
       "┃<span style=\"font-weight: bold\"> Layer (type)                    </span>┃<span style=\"font-weight: bold\"> Output Shape           </span>┃<span style=\"font-weight: bold\">       Param # </span>┃\n",
       "┡━━━━━━━━━━━━━━━━━━━━━━━━━━━━━━━━━╇━━━━━━━━━━━━━━━━━━━━━━━━╇━━━━━━━━━━━━━━━┩\n",
       "│ dense (<span style=\"color: #0087ff; text-decoration-color: #0087ff\">Dense</span>)                   │ (<span style=\"color: #00d7ff; text-decoration-color: #00d7ff\">None</span>, <span style=\"color: #00af00; text-decoration-color: #00af00\">64</span>)             │         <span style=\"color: #00af00; text-decoration-color: #00af00\">3,520</span> │\n",
       "├─────────────────────────────────┼────────────────────────┼───────────────┤\n",
       "│ dense_1 (<span style=\"color: #0087ff; text-decoration-color: #0087ff\">Dense</span>)                 │ (<span style=\"color: #00d7ff; text-decoration-color: #00d7ff\">None</span>, <span style=\"color: #00af00; text-decoration-color: #00af00\">32</span>)             │         <span style=\"color: #00af00; text-decoration-color: #00af00\">2,080</span> │\n",
       "├─────────────────────────────────┼────────────────────────┼───────────────┤\n",
       "│ dropout (<span style=\"color: #0087ff; text-decoration-color: #0087ff\">Dropout</span>)               │ (<span style=\"color: #00d7ff; text-decoration-color: #00d7ff\">None</span>, <span style=\"color: #00af00; text-decoration-color: #00af00\">32</span>)             │             <span style=\"color: #00af00; text-decoration-color: #00af00\">0</span> │\n",
       "├─────────────────────────────────┼────────────────────────┼───────────────┤\n",
       "│ dense_2 (<span style=\"color: #0087ff; text-decoration-color: #0087ff\">Dense</span>)                 │ (<span style=\"color: #00d7ff; text-decoration-color: #00d7ff\">None</span>, <span style=\"color: #00af00; text-decoration-color: #00af00\">7</span>)              │           <span style=\"color: #00af00; text-decoration-color: #00af00\">231</span> │\n",
       "└─────────────────────────────────┴────────────────────────┴───────────────┘\n",
       "</pre>\n"
      ],
      "text/plain": [
       "┏━━━━━━━━━━━━━━━━━━━━━━━━━━━━━━━━━┳━━━━━━━━━━━━━━━━━━━━━━━━┳━━━━━━━━━━━━━━━┓\n",
       "┃\u001b[1m \u001b[0m\u001b[1mLayer (type)                   \u001b[0m\u001b[1m \u001b[0m┃\u001b[1m \u001b[0m\u001b[1mOutput Shape          \u001b[0m\u001b[1m \u001b[0m┃\u001b[1m \u001b[0m\u001b[1m      Param #\u001b[0m\u001b[1m \u001b[0m┃\n",
       "┡━━━━━━━━━━━━━━━━━━━━━━━━━━━━━━━━━╇━━━━━━━━━━━━━━━━━━━━━━━━╇━━━━━━━━━━━━━━━┩\n",
       "│ dense (\u001b[38;5;33mDense\u001b[0m)                   │ (\u001b[38;5;45mNone\u001b[0m, \u001b[38;5;34m64\u001b[0m)             │         \u001b[38;5;34m3,520\u001b[0m │\n",
       "├─────────────────────────────────┼────────────────────────┼───────────────┤\n",
       "│ dense_1 (\u001b[38;5;33mDense\u001b[0m)                 │ (\u001b[38;5;45mNone\u001b[0m, \u001b[38;5;34m32\u001b[0m)             │         \u001b[38;5;34m2,080\u001b[0m │\n",
       "├─────────────────────────────────┼────────────────────────┼───────────────┤\n",
       "│ dropout (\u001b[38;5;33mDropout\u001b[0m)               │ (\u001b[38;5;45mNone\u001b[0m, \u001b[38;5;34m32\u001b[0m)             │             \u001b[38;5;34m0\u001b[0m │\n",
       "├─────────────────────────────────┼────────────────────────┼───────────────┤\n",
       "│ dense_2 (\u001b[38;5;33mDense\u001b[0m)                 │ (\u001b[38;5;45mNone\u001b[0m, \u001b[38;5;34m7\u001b[0m)              │           \u001b[38;5;34m231\u001b[0m │\n",
       "└─────────────────────────────────┴────────────────────────┴───────────────┘\n"
      ]
     },
     "metadata": {},
     "output_type": "display_data"
    },
    {
     "data": {
      "text/html": [
       "<pre style=\"white-space:pre;overflow-x:auto;line-height:normal;font-family:Menlo,'DejaVu Sans Mono',consolas,'Courier New',monospace\"><span style=\"font-weight: bold\"> Total params: </span><span style=\"color: #00af00; text-decoration-color: #00af00\">5,831</span> (22.78 KB)\n",
       "</pre>\n"
      ],
      "text/plain": [
       "\u001b[1m Total params: \u001b[0m\u001b[38;5;34m5,831\u001b[0m (22.78 KB)\n"
      ]
     },
     "metadata": {},
     "output_type": "display_data"
    },
    {
     "data": {
      "text/html": [
       "<pre style=\"white-space:pre;overflow-x:auto;line-height:normal;font-family:Menlo,'DejaVu Sans Mono',consolas,'Courier New',monospace\"><span style=\"font-weight: bold\"> Trainable params: </span><span style=\"color: #00af00; text-decoration-color: #00af00\">5,831</span> (22.78 KB)\n",
       "</pre>\n"
      ],
      "text/plain": [
       "\u001b[1m Trainable params: \u001b[0m\u001b[38;5;34m5,831\u001b[0m (22.78 KB)\n"
      ]
     },
     "metadata": {},
     "output_type": "display_data"
    },
    {
     "data": {
      "text/html": [
       "<pre style=\"white-space:pre;overflow-x:auto;line-height:normal;font-family:Menlo,'DejaVu Sans Mono',consolas,'Courier New',monospace\"><span style=\"font-weight: bold\"> Non-trainable params: </span><span style=\"color: #00af00; text-decoration-color: #00af00\">0</span> (0.00 B)\n",
       "</pre>\n"
      ],
      "text/plain": [
       "\u001b[1m Non-trainable params: \u001b[0m\u001b[38;5;34m0\u001b[0m (0.00 B)\n"
      ]
     },
     "metadata": {},
     "output_type": "display_data"
    }
   ],
   "source": [
    "model = models.Sequential(\n",
    "   [\n",
    "    Input(shape=(X_train.shape[1],)),                              \n",
    "    Dense(64, activation='relu', kernel_regularizer=regularizers.l2(0.0)),              # 0.0 means no regularization applied; no dropout, so no Dropout layer necessary\n",
    "    Dense(32, activation='relu', kernel_regularizer=regularizers.l2(0.001)),\n",
    "    Dropout(0.3),\n",
    "    Dense(n_classes, activation='softmax')\n",
    "   ]\n",
    ")\n",
    "\n",
    "model.summary()"
   ]
  },
  {
   "cell_type": "markdown",
   "id": "275f8700-34e8-44c8-a05e-a18c2d331e51",
   "metadata": {},
   "source": [
    "**We call `build_model` as shown here:**"
   ]
  },
  {
   "cell_type": "code",
   "execution_count": 8,
   "id": "733bc4a8-3480-4a21-aec3-91404d795035",
   "metadata": {},
   "outputs": [
    {
     "data": {
      "text/html": [
       "<pre style=\"white-space:pre;overflow-x:auto;line-height:normal;font-family:Menlo,'DejaVu Sans Mono',consolas,'Courier New',monospace\"><span style=\"font-weight: bold\">Model: \"sequential_1\"</span>\n",
       "</pre>\n"
      ],
      "text/plain": [
       "\u001b[1mModel: \"sequential_1\"\u001b[0m\n"
      ]
     },
     "metadata": {},
     "output_type": "display_data"
    },
    {
     "data": {
      "text/html": [
       "<pre style=\"white-space:pre;overflow-x:auto;line-height:normal;font-family:Menlo,'DejaVu Sans Mono',consolas,'Courier New',monospace\">┏━━━━━━━━━━━━━━━━━━━━━━━━━━━━━━━━━┳━━━━━━━━━━━━━━━━━━━━━━━━┳━━━━━━━━━━━━━━━┓\n",
       "┃<span style=\"font-weight: bold\"> Layer (type)                    </span>┃<span style=\"font-weight: bold\"> Output Shape           </span>┃<span style=\"font-weight: bold\">       Param # </span>┃\n",
       "┡━━━━━━━━━━━━━━━━━━━━━━━━━━━━━━━━━╇━━━━━━━━━━━━━━━━━━━━━━━━╇━━━━━━━━━━━━━━━┩\n",
       "│ dense_3 (<span style=\"color: #0087ff; text-decoration-color: #0087ff\">Dense</span>)                 │ (<span style=\"color: #00d7ff; text-decoration-color: #00d7ff\">None</span>, <span style=\"color: #00af00; text-decoration-color: #00af00\">64</span>)             │         <span style=\"color: #00af00; text-decoration-color: #00af00\">3,520</span> │\n",
       "├─────────────────────────────────┼────────────────────────┼───────────────┤\n",
       "│ dense_4 (<span style=\"color: #0087ff; text-decoration-color: #0087ff\">Dense</span>)                 │ (<span style=\"color: #00d7ff; text-decoration-color: #00d7ff\">None</span>, <span style=\"color: #00af00; text-decoration-color: #00af00\">32</span>)             │         <span style=\"color: #00af00; text-decoration-color: #00af00\">2,080</span> │\n",
       "├─────────────────────────────────┼────────────────────────┼───────────────┤\n",
       "│ dropout_1 (<span style=\"color: #0087ff; text-decoration-color: #0087ff\">Dropout</span>)             │ (<span style=\"color: #00d7ff; text-decoration-color: #00d7ff\">None</span>, <span style=\"color: #00af00; text-decoration-color: #00af00\">32</span>)             │             <span style=\"color: #00af00; text-decoration-color: #00af00\">0</span> │\n",
       "├─────────────────────────────────┼────────────────────────┼───────────────┤\n",
       "│ dense_5 (<span style=\"color: #0087ff; text-decoration-color: #0087ff\">Dense</span>)                 │ (<span style=\"color: #00d7ff; text-decoration-color: #00d7ff\">None</span>, <span style=\"color: #00af00; text-decoration-color: #00af00\">7</span>)              │           <span style=\"color: #00af00; text-decoration-color: #00af00\">231</span> │\n",
       "└─────────────────────────────────┴────────────────────────┴───────────────┘\n",
       "</pre>\n"
      ],
      "text/plain": [
       "┏━━━━━━━━━━━━━━━━━━━━━━━━━━━━━━━━━┳━━━━━━━━━━━━━━━━━━━━━━━━┳━━━━━━━━━━━━━━━┓\n",
       "┃\u001b[1m \u001b[0m\u001b[1mLayer (type)                   \u001b[0m\u001b[1m \u001b[0m┃\u001b[1m \u001b[0m\u001b[1mOutput Shape          \u001b[0m\u001b[1m \u001b[0m┃\u001b[1m \u001b[0m\u001b[1m      Param #\u001b[0m\u001b[1m \u001b[0m┃\n",
       "┡━━━━━━━━━━━━━━━━━━━━━━━━━━━━━━━━━╇━━━━━━━━━━━━━━━━━━━━━━━━╇━━━━━━━━━━━━━━━┩\n",
       "│ dense_3 (\u001b[38;5;33mDense\u001b[0m)                 │ (\u001b[38;5;45mNone\u001b[0m, \u001b[38;5;34m64\u001b[0m)             │         \u001b[38;5;34m3,520\u001b[0m │\n",
       "├─────────────────────────────────┼────────────────────────┼───────────────┤\n",
       "│ dense_4 (\u001b[38;5;33mDense\u001b[0m)                 │ (\u001b[38;5;45mNone\u001b[0m, \u001b[38;5;34m32\u001b[0m)             │         \u001b[38;5;34m2,080\u001b[0m │\n",
       "├─────────────────────────────────┼────────────────────────┼───────────────┤\n",
       "│ dropout_1 (\u001b[38;5;33mDropout\u001b[0m)             │ (\u001b[38;5;45mNone\u001b[0m, \u001b[38;5;34m32\u001b[0m)             │             \u001b[38;5;34m0\u001b[0m │\n",
       "├─────────────────────────────────┼────────────────────────┼───────────────┤\n",
       "│ dense_5 (\u001b[38;5;33mDense\u001b[0m)                 │ (\u001b[38;5;45mNone\u001b[0m, \u001b[38;5;34m7\u001b[0m)              │           \u001b[38;5;34m231\u001b[0m │\n",
       "└─────────────────────────────────┴────────────────────────┴───────────────┘\n"
      ]
     },
     "metadata": {},
     "output_type": "display_data"
    },
    {
     "data": {
      "text/html": [
       "<pre style=\"white-space:pre;overflow-x:auto;line-height:normal;font-family:Menlo,'DejaVu Sans Mono',consolas,'Courier New',monospace\"><span style=\"font-weight: bold\"> Total params: </span><span style=\"color: #00af00; text-decoration-color: #00af00\">5,831</span> (22.78 KB)\n",
       "</pre>\n"
      ],
      "text/plain": [
       "\u001b[1m Total params: \u001b[0m\u001b[38;5;34m5,831\u001b[0m (22.78 KB)\n"
      ]
     },
     "metadata": {},
     "output_type": "display_data"
    },
    {
     "data": {
      "text/html": [
       "<pre style=\"white-space:pre;overflow-x:auto;line-height:normal;font-family:Menlo,'DejaVu Sans Mono',consolas,'Courier New',monospace\"><span style=\"font-weight: bold\"> Trainable params: </span><span style=\"color: #00af00; text-decoration-color: #00af00\">5,831</span> (22.78 KB)\n",
       "</pre>\n"
      ],
      "text/plain": [
       "\u001b[1m Trainable params: \u001b[0m\u001b[38;5;34m5,831\u001b[0m (22.78 KB)\n"
      ]
     },
     "metadata": {},
     "output_type": "display_data"
    },
    {
     "data": {
      "text/html": [
       "<pre style=\"white-space:pre;overflow-x:auto;line-height:normal;font-family:Menlo,'DejaVu Sans Mono',consolas,'Courier New',monospace\"><span style=\"font-weight: bold\"> Non-trainable params: </span><span style=\"color: #00af00; text-decoration-color: #00af00\">0</span> (0.00 B)\n",
       "</pre>\n"
      ],
      "text/plain": [
       "\u001b[1m Non-trainable params: \u001b[0m\u001b[38;5;34m0\u001b[0m (0.00 B)\n"
      ]
     },
     "metadata": {},
     "output_type": "display_data"
    }
   ],
   "source": [
    "build_model(X_train.shape[1], [ (64,'relu',0.0,0.0), (32,'relu',0.001,0.3)], n_classes).summary()"
   ]
  },
  {
   "cell_type": "markdown",
   "id": "9efc2026-137c-4241-bd52-65b0abaec4ca",
   "metadata": {},
   "source": [
    "-------------------\n",
    "\n",
    "\n",
    "\n",
    "### Baseline Model Architecture\n",
    "\n",
    "**Problems 1–5 will use the following baseline model structure,** implemented with the provided `build_model` function and trained using `train_and_test`:\n",
    "\n",
    "```\n",
    "input → 64 → 32 → output\n",
    "```\n",
    "\n",
    "* Two hidden layers of widths 64 and 32.\n",
    "* Activation function, dropout rate, and L2 regularization term (λ) will vary as specified in each problem.\n",
    "* **Early stopping** is always applied to select the model at the epoch of **minimum validation loss**.\n",
    "* We will report the **validation accuracy** of the selected model as the primary metric.\n"
   ]
  },
  {
   "cell_type": "markdown",
   "id": "feb7b1c9-30f0-42ef-9785-4254ceee89bb",
   "metadata": {},
   "source": [
    "### Problem One: Which Activation Function?\n",
    "\n",
    "In this problem, you will train the **baseline neural network** and investigate which activation function produces the best performance. The model you create will be the one saved by **early stopping** — that is, the epoch where validation loss is minimized.\n",
    "\n",
    "**Steps to follow:**\n",
    "\n",
    "* Use the provided functions `train_and_test` and `build_model` to create a model named **`model_baseline`**.\n",
    "* Train and evaluate this model using each of the following activation functions in the hidden layers:\n",
    "\n",
    "  * `relu`\n",
    "  * `sigmoid`\n",
    "  * `tanh`\n",
    "* Identify which activation function produces the **best validation accuracy** at the epoch of **minimum validation loss**.\n",
    "* Answer the graded questions.\n"
   ]
  },
  {
   "cell_type": "code",
   "execution_count": 44,
   "id": "c480aa5a-21cc-4b50-a49f-87dcb3eaa9ba",
   "metadata": {},
   "outputs": [
    {
     "name": "stdout",
     "output_type": "stream",
     "text": [
      "\n",
      "Activation Function: relu\n",
      "\n",
      "Epoch 1/500\n",
      "\u001b[1m66/66\u001b[0m \u001b[32m━━━━━━━━━━━━━━━━━━━━\u001b[0m\u001b[37m\u001b[0m \u001b[1m1s\u001b[0m 3ms/step - accuracy: 0.4114 - loss: 1.6555 - val_accuracy: 0.5779 - val_loss: 1.2256\n",
      "Epoch 2/500\n",
      "\u001b[1m66/66\u001b[0m \u001b[32m━━━━━━━━━━━━━━━━━━━━\u001b[0m\u001b[37m\u001b[0m \u001b[1m0s\u001b[0m 2ms/step - accuracy: 0.6002 - loss: 1.0547 - val_accuracy: 0.6350 - val_loss: 0.9259\n",
      "Epoch 3/500\n",
      "\u001b[1m66/66\u001b[0m \u001b[32m━━━━━━━━━━━━━━━━━━━━\u001b[0m\u001b[37m\u001b[0m \u001b[1m0s\u001b[0m 2ms/step - accuracy: 0.6395 - loss: 0.8748 - val_accuracy: 0.6586 - val_loss: 0.8355\n",
      "Epoch 4/500\n",
      "\u001b[1m66/66\u001b[0m \u001b[32m━━━━━━━━━━━━━━━━━━━━\u001b[0m\u001b[37m\u001b[0m \u001b[1m0s\u001b[0m 2ms/step - accuracy: 0.6631 - loss: 0.8110 - val_accuracy: 0.6671 - val_loss: 0.8038\n",
      "Epoch 5/500\n",
      "\u001b[1m66/66\u001b[0m \u001b[32m━━━━━━━━━━━━━━━━━━━━\u001b[0m\u001b[37m\u001b[0m \u001b[1m0s\u001b[0m 2ms/step - accuracy: 0.6798 - loss: 0.7738 - val_accuracy: 0.6871 - val_loss: 0.7687\n",
      "Epoch 6/500\n",
      "\u001b[1m66/66\u001b[0m \u001b[32m━━━━━━━━━━━━━━━━━━━━\u001b[0m\u001b[37m\u001b[0m \u001b[1m0s\u001b[0m 2ms/step - accuracy: 0.6950 - loss: 0.7439 - val_accuracy: 0.6929 - val_loss: 0.7487\n",
      "Epoch 7/500\n",
      "\u001b[1m66/66\u001b[0m \u001b[32m━━━━━━━━━━━━━━━━━━━━\u001b[0m\u001b[37m\u001b[0m \u001b[1m0s\u001b[0m 2ms/step - accuracy: 0.7048 - loss: 0.7202 - val_accuracy: 0.7071 - val_loss: 0.7341\n",
      "Epoch 8/500\n",
      "\u001b[1m66/66\u001b[0m \u001b[32m━━━━━━━━━━━━━━━━━━━━\u001b[0m\u001b[37m\u001b[0m \u001b[1m0s\u001b[0m 2ms/step - accuracy: 0.7102 - loss: 0.6994 - val_accuracy: 0.7029 - val_loss: 0.7240\n",
      "Epoch 9/500\n",
      "\u001b[1m66/66\u001b[0m \u001b[32m━━━━━━━━━━━━━━━━━━━━\u001b[0m\u001b[37m\u001b[0m \u001b[1m0s\u001b[0m 2ms/step - accuracy: 0.7252 - loss: 0.6804 - val_accuracy: 0.7200 - val_loss: 0.7027\n",
      "Epoch 10/500\n",
      "\u001b[1m66/66\u001b[0m \u001b[32m━━━━━━━━━━━━━━━━━━━━\u001b[0m\u001b[37m\u001b[0m \u001b[1m0s\u001b[0m 2ms/step - accuracy: 0.7338 - loss: 0.6634 - val_accuracy: 0.7186 - val_loss: 0.6875\n",
      "Epoch 11/500\n",
      "\u001b[1m66/66\u001b[0m \u001b[32m━━━━━━━━━━━━━━━━━━━━\u001b[0m\u001b[37m\u001b[0m \u001b[1m0s\u001b[0m 2ms/step - accuracy: 0.7314 - loss: 0.6499 - val_accuracy: 0.7250 - val_loss: 0.6805\n",
      "Epoch 12/500\n",
      "\u001b[1m66/66\u001b[0m \u001b[32m━━━━━━━━━━━━━━━━━━━━\u001b[0m\u001b[37m\u001b[0m \u001b[1m0s\u001b[0m 2ms/step - accuracy: 0.7426 - loss: 0.6376 - val_accuracy: 0.7286 - val_loss: 0.6687\n",
      "Epoch 13/500\n",
      "\u001b[1m66/66\u001b[0m \u001b[32m━━━━━━━━━━━━━━━━━━━━\u001b[0m\u001b[37m\u001b[0m \u001b[1m0s\u001b[0m 2ms/step - accuracy: 0.7486 - loss: 0.6241 - val_accuracy: 0.7400 - val_loss: 0.6641\n",
      "Epoch 14/500\n",
      "\u001b[1m66/66\u001b[0m \u001b[32m━━━━━━━━━━━━━━━━━━━━\u001b[0m\u001b[37m\u001b[0m \u001b[1m0s\u001b[0m 2ms/step - accuracy: 0.7436 - loss: 0.6161 - val_accuracy: 0.7371 - val_loss: 0.6634\n",
      "Epoch 15/500\n",
      "\u001b[1m66/66\u001b[0m \u001b[32m━━━━━━━━━━━━━━━━━━━━\u001b[0m\u001b[37m\u001b[0m \u001b[1m0s\u001b[0m 2ms/step - accuracy: 0.7519 - loss: 0.6027 - val_accuracy: 0.7371 - val_loss: 0.6505\n",
      "Epoch 16/500\n",
      "\u001b[1m66/66\u001b[0m \u001b[32m━━━━━━━━━━━━━━━━━━━━\u001b[0m\u001b[37m\u001b[0m \u001b[1m0s\u001b[0m 2ms/step - accuracy: 0.7526 - loss: 0.5956 - val_accuracy: 0.7379 - val_loss: 0.6498\n",
      "Epoch 17/500\n",
      "\u001b[1m66/66\u001b[0m \u001b[32m━━━━━━━━━━━━━━━━━━━━\u001b[0m\u001b[37m\u001b[0m \u001b[1m0s\u001b[0m 2ms/step - accuracy: 0.7583 - loss: 0.5852 - val_accuracy: 0.7300 - val_loss: 0.6445\n",
      "Epoch 18/500\n",
      "\u001b[1m66/66\u001b[0m \u001b[32m━━━━━━━━━━━━━━━━━━━━\u001b[0m\u001b[37m\u001b[0m \u001b[1m0s\u001b[0m 2ms/step - accuracy: 0.7619 - loss: 0.5791 - val_accuracy: 0.7393 - val_loss: 0.6448\n",
      "Epoch 19/500\n",
      "\u001b[1m66/66\u001b[0m \u001b[32m━━━━━━━━━━━━━━━━━━━━\u001b[0m\u001b[37m\u001b[0m \u001b[1m0s\u001b[0m 2ms/step - accuracy: 0.7683 - loss: 0.5705 - val_accuracy: 0.7507 - val_loss: 0.6323\n",
      "Epoch 20/500\n",
      "\u001b[1m66/66\u001b[0m \u001b[32m━━━━━━━━━━━━━━━━━━━━\u001b[0m\u001b[37m\u001b[0m \u001b[1m0s\u001b[0m 2ms/step - accuracy: 0.7721 - loss: 0.5596 - val_accuracy: 0.7407 - val_loss: 0.6384\n",
      "Epoch 21/500\n",
      "\u001b[1m66/66\u001b[0m \u001b[32m━━━━━━━━━━━━━━━━━━━━\u001b[0m\u001b[37m\u001b[0m \u001b[1m0s\u001b[0m 2ms/step - accuracy: 0.7748 - loss: 0.5555 - val_accuracy: 0.7429 - val_loss: 0.6248\n",
      "Epoch 22/500\n",
      "\u001b[1m66/66\u001b[0m \u001b[32m━━━━━━━━━━━━━━━━━━━━\u001b[0m\u001b[37m\u001b[0m \u001b[1m0s\u001b[0m 2ms/step - accuracy: 0.7779 - loss: 0.5490 - val_accuracy: 0.7486 - val_loss: 0.6291\n",
      "Epoch 23/500\n",
      "\u001b[1m66/66\u001b[0m \u001b[32m━━━━━━━━━━━━━━━━━━━━\u001b[0m\u001b[37m\u001b[0m \u001b[1m0s\u001b[0m 2ms/step - accuracy: 0.7800 - loss: 0.5428 - val_accuracy: 0.7500 - val_loss: 0.6258\n",
      "Epoch 24/500\n",
      "\u001b[1m66/66\u001b[0m \u001b[32m━━━━━━━━━━━━━━━━━━━━\u001b[0m\u001b[37m\u001b[0m \u001b[1m0s\u001b[0m 2ms/step - accuracy: 0.7829 - loss: 0.5401 - val_accuracy: 0.7443 - val_loss: 0.6149\n",
      "Epoch 25/500\n",
      "\u001b[1m66/66\u001b[0m \u001b[32m━━━━━━━━━━━━━━━━━━━━\u001b[0m\u001b[37m\u001b[0m \u001b[1m0s\u001b[0m 2ms/step - accuracy: 0.7867 - loss: 0.5286 - val_accuracy: 0.7457 - val_loss: 0.6237\n",
      "Epoch 26/500\n",
      "\u001b[1m66/66\u001b[0m \u001b[32m━━━━━━━━━━━━━━━━━━━━\u001b[0m\u001b[37m\u001b[0m \u001b[1m0s\u001b[0m 2ms/step - accuracy: 0.7862 - loss: 0.5223 - val_accuracy: 0.7493 - val_loss: 0.6197\n",
      "Epoch 27/500\n",
      "\u001b[1m66/66\u001b[0m \u001b[32m━━━━━━━━━━━━━━━━━━━━\u001b[0m\u001b[37m\u001b[0m \u001b[1m0s\u001b[0m 2ms/step - accuracy: 0.7869 - loss: 0.5208 - val_accuracy: 0.7543 - val_loss: 0.6186\n",
      "Epoch 28/500\n",
      "\u001b[1m66/66\u001b[0m \u001b[32m━━━━━━━━━━━━━━━━━━━━\u001b[0m\u001b[37m\u001b[0m \u001b[1m0s\u001b[0m 2ms/step - accuracy: 0.7926 - loss: 0.5133 - val_accuracy: 0.7507 - val_loss: 0.6135\n",
      "Epoch 29/500\n",
      "\u001b[1m66/66\u001b[0m \u001b[32m━━━━━━━━━━━━━━━━━━━━\u001b[0m\u001b[37m\u001b[0m \u001b[1m0s\u001b[0m 2ms/step - accuracy: 0.7924 - loss: 0.5073 - val_accuracy: 0.7443 - val_loss: 0.6165\n",
      "Epoch 30/500\n",
      "\u001b[1m66/66\u001b[0m \u001b[32m━━━━━━━━━━━━━━━━━━━━\u001b[0m\u001b[37m\u001b[0m \u001b[1m0s\u001b[0m 2ms/step - accuracy: 0.7962 - loss: 0.5009 - val_accuracy: 0.7443 - val_loss: 0.6111\n",
      "Epoch 31/500\n",
      "\u001b[1m66/66\u001b[0m \u001b[32m━━━━━━━━━━━━━━━━━━━━\u001b[0m\u001b[37m\u001b[0m \u001b[1m0s\u001b[0m 2ms/step - accuracy: 0.7976 - loss: 0.4955 - val_accuracy: 0.7621 - val_loss: 0.6014\n",
      "Epoch 32/500\n",
      "\u001b[1m66/66\u001b[0m \u001b[32m━━━━━━━━━━━━━━━━━━━━\u001b[0m\u001b[37m\u001b[0m \u001b[1m0s\u001b[0m 2ms/step - accuracy: 0.7993 - loss: 0.4908 - val_accuracy: 0.7536 - val_loss: 0.6084\n",
      "Epoch 33/500\n",
      "\u001b[1m66/66\u001b[0m \u001b[32m━━━━━━━━━━━━━━━━━━━━\u001b[0m\u001b[37m\u001b[0m \u001b[1m0s\u001b[0m 2ms/step - accuracy: 0.8000 - loss: 0.4901 - val_accuracy: 0.7457 - val_loss: 0.6030\n",
      "Epoch 34/500\n",
      "\u001b[1m66/66\u001b[0m \u001b[32m━━━━━━━━━━━━━━━━━━━━\u001b[0m\u001b[37m\u001b[0m \u001b[1m0s\u001b[0m 2ms/step - accuracy: 0.7952 - loss: 0.4827 - val_accuracy: 0.7543 - val_loss: 0.5985\n",
      "Epoch 35/500\n",
      "\u001b[1m66/66\u001b[0m \u001b[32m━━━━━━━━━━━━━━━━━━━━\u001b[0m\u001b[37m\u001b[0m \u001b[1m0s\u001b[0m 2ms/step - accuracy: 0.8052 - loss: 0.4783 - val_accuracy: 0.7543 - val_loss: 0.6016\n",
      "Epoch 36/500\n",
      "\u001b[1m66/66\u001b[0m \u001b[32m━━━━━━━━━━━━━━━━━━━━\u001b[0m\u001b[37m\u001b[0m \u001b[1m0s\u001b[0m 2ms/step - accuracy: 0.8000 - loss: 0.4718 - val_accuracy: 0.7507 - val_loss: 0.5964\n",
      "Epoch 37/500\n",
      "\u001b[1m66/66\u001b[0m \u001b[32m━━━━━━━━━━━━━━━━━━━━\u001b[0m\u001b[37m\u001b[0m \u001b[1m0s\u001b[0m 2ms/step - accuracy: 0.8079 - loss: 0.4689 - val_accuracy: 0.7586 - val_loss: 0.6025\n",
      "Epoch 38/500\n",
      "\u001b[1m66/66\u001b[0m \u001b[32m━━━━━━━━━━━━━━━━━━━━\u001b[0m\u001b[37m\u001b[0m \u001b[1m0s\u001b[0m 2ms/step - accuracy: 0.8040 - loss: 0.4665 - val_accuracy: 0.7543 - val_loss: 0.6022\n",
      "Epoch 39/500\n",
      "\u001b[1m66/66\u001b[0m \u001b[32m━━━━━━━━━━━━━━━━━━━━\u001b[0m\u001b[37m\u001b[0m \u001b[1m0s\u001b[0m 2ms/step - accuracy: 0.8086 - loss: 0.4667 - val_accuracy: 0.7536 - val_loss: 0.6015\n",
      "Epoch 40/500\n",
      "\u001b[1m66/66\u001b[0m \u001b[32m━━━━━━━━━━━━━━━━━━━━\u001b[0m\u001b[37m\u001b[0m \u001b[1m0s\u001b[0m 2ms/step - accuracy: 0.8140 - loss: 0.4563 - val_accuracy: 0.7636 - val_loss: 0.5986\n",
      "Epoch 41/500\n",
      "\u001b[1m66/66\u001b[0m \u001b[32m━━━━━━━━━━━━━━━━━━━━\u001b[0m\u001b[37m\u001b[0m \u001b[1m0s\u001b[0m 2ms/step - accuracy: 0.8114 - loss: 0.4539 - val_accuracy: 0.7614 - val_loss: 0.5884\n",
      "Epoch 42/500\n",
      "\u001b[1m66/66\u001b[0m \u001b[32m━━━━━━━━━━━━━━━━━━━━\u001b[0m\u001b[37m\u001b[0m \u001b[1m0s\u001b[0m 2ms/step - accuracy: 0.8150 - loss: 0.4523 - val_accuracy: 0.7614 - val_loss: 0.5901\n",
      "Epoch 43/500\n",
      "\u001b[1m66/66\u001b[0m \u001b[32m━━━━━━━━━━━━━━━━━━━━\u001b[0m\u001b[37m\u001b[0m \u001b[1m0s\u001b[0m 2ms/step - accuracy: 0.8136 - loss: 0.4476 - val_accuracy: 0.7686 - val_loss: 0.5940\n",
      "Epoch 44/500\n",
      "\u001b[1m66/66\u001b[0m \u001b[32m━━━━━━━━━━━━━━━━━━━━\u001b[0m\u001b[37m\u001b[0m \u001b[1m0s\u001b[0m 2ms/step - accuracy: 0.8171 - loss: 0.4437 - val_accuracy: 0.7693 - val_loss: 0.5861\n",
      "Epoch 45/500\n",
      "\u001b[1m66/66\u001b[0m \u001b[32m━━━━━━━━━━━━━━━━━━━━\u001b[0m\u001b[37m\u001b[0m \u001b[1m0s\u001b[0m 2ms/step - accuracy: 0.8233 - loss: 0.4386 - val_accuracy: 0.7557 - val_loss: 0.6042\n",
      "Epoch 46/500\n",
      "\u001b[1m66/66\u001b[0m \u001b[32m━━━━━━━━━━━━━━━━━━━━\u001b[0m\u001b[37m\u001b[0m \u001b[1m0s\u001b[0m 2ms/step - accuracy: 0.8155 - loss: 0.4442 - val_accuracy: 0.7564 - val_loss: 0.5848\n",
      "Epoch 47/500\n",
      "\u001b[1m66/66\u001b[0m \u001b[32m━━━━━━━━━━━━━━━━━━━━\u001b[0m\u001b[37m\u001b[0m \u001b[1m0s\u001b[0m 2ms/step - accuracy: 0.8219 - loss: 0.4359 - val_accuracy: 0.7557 - val_loss: 0.5988\n",
      "Epoch 48/500\n",
      "\u001b[1m66/66\u001b[0m \u001b[32m━━━━━━━━━━━━━━━━━━━━\u001b[0m\u001b[37m\u001b[0m \u001b[1m0s\u001b[0m 2ms/step - accuracy: 0.8243 - loss: 0.4304 - val_accuracy: 0.7664 - val_loss: 0.5855\n",
      "Epoch 49/500\n",
      "\u001b[1m66/66\u001b[0m \u001b[32m━━━━━━━━━━━━━━━━━━━━\u001b[0m\u001b[37m\u001b[0m \u001b[1m0s\u001b[0m 2ms/step - accuracy: 0.8269 - loss: 0.4264 - val_accuracy: 0.7607 - val_loss: 0.5938\n",
      "Epoch 50/500\n",
      "\u001b[1m66/66\u001b[0m \u001b[32m━━━━━━━━━━━━━━━━━━━━\u001b[0m\u001b[37m\u001b[0m \u001b[1m0s\u001b[0m 2ms/step - accuracy: 0.8267 - loss: 0.4236 - val_accuracy: 0.7736 - val_loss: 0.5943\n",
      "Epoch 51/500\n",
      "\u001b[1m66/66\u001b[0m \u001b[32m━━━━━━━━━━━━━━━━━━━━\u001b[0m\u001b[37m\u001b[0m \u001b[1m0s\u001b[0m 2ms/step - accuracy: 0.8310 - loss: 0.4207 - val_accuracy: 0.7707 - val_loss: 0.5926\n",
      "Epoch 52/500\n",
      "\u001b[1m66/66\u001b[0m \u001b[32m━━━━━━━━━━━━━━━━━━━━\u001b[0m\u001b[37m\u001b[0m \u001b[1m0s\u001b[0m 2ms/step - accuracy: 0.8286 - loss: 0.4208 - val_accuracy: 0.7679 - val_loss: 0.6003\n",
      "Epoch 53/500\n",
      "\u001b[1m66/66\u001b[0m \u001b[32m━━━━━━━━━━━━━━━━━━━━\u001b[0m\u001b[37m\u001b[0m \u001b[1m0s\u001b[0m 2ms/step - accuracy: 0.8307 - loss: 0.4144 - val_accuracy: 0.7693 - val_loss: 0.5890\n",
      "Epoch 54/500\n",
      "\u001b[1m66/66\u001b[0m \u001b[32m━━━━━━━━━━━━━━━━━━━━\u001b[0m\u001b[37m\u001b[0m \u001b[1m0s\u001b[0m 2ms/step - accuracy: 0.8336 - loss: 0.4112 - val_accuracy: 0.7736 - val_loss: 0.5823\n",
      "Epoch 55/500\n",
      "\u001b[1m66/66\u001b[0m \u001b[32m━━━━━━━━━━━━━━━━━━━━\u001b[0m\u001b[37m\u001b[0m \u001b[1m0s\u001b[0m 2ms/step - accuracy: 0.8352 - loss: 0.4112 - val_accuracy: 0.7729 - val_loss: 0.5993\n",
      "Epoch 56/500\n",
      "\u001b[1m66/66\u001b[0m \u001b[32m━━━━━━━━━━━━━━━━━━━━\u001b[0m\u001b[37m\u001b[0m \u001b[1m0s\u001b[0m 2ms/step - accuracy: 0.8321 - loss: 0.4035 - val_accuracy: 0.7721 - val_loss: 0.5855\n",
      "Epoch 57/500\n",
      "\u001b[1m66/66\u001b[0m \u001b[32m━━━━━━━━━━━━━━━━━━━━\u001b[0m\u001b[37m\u001b[0m \u001b[1m0s\u001b[0m 2ms/step - accuracy: 0.8331 - loss: 0.4019 - val_accuracy: 0.7686 - val_loss: 0.5898\n",
      "Epoch 58/500\n",
      "\u001b[1m66/66\u001b[0m \u001b[32m━━━━━━━━━━━━━━━━━━━━\u001b[0m\u001b[37m\u001b[0m \u001b[1m0s\u001b[0m 2ms/step - accuracy: 0.8367 - loss: 0.4000 - val_accuracy: 0.7750 - val_loss: 0.5889\n",
      "Epoch 59/500\n",
      "\u001b[1m66/66\u001b[0m \u001b[32m━━━━━━━━━━━━━━━━━━━━\u001b[0m\u001b[37m\u001b[0m \u001b[1m0s\u001b[0m 2ms/step - accuracy: 0.8412 - loss: 0.3936 - val_accuracy: 0.7657 - val_loss: 0.5927\n",
      "Epoch 60/500\n",
      "\u001b[1m66/66\u001b[0m \u001b[32m━━━━━━━━━━━━━━━━━━━━\u001b[0m\u001b[37m\u001b[0m \u001b[1m0s\u001b[0m 2ms/step - accuracy: 0.8417 - loss: 0.3925 - val_accuracy: 0.7700 - val_loss: 0.5873\n",
      "Epoch 61/500\n",
      "\u001b[1m66/66\u001b[0m \u001b[32m━━━━━━━━━━━━━━━━━━━━\u001b[0m\u001b[37m\u001b[0m \u001b[1m0s\u001b[0m 2ms/step - accuracy: 0.8369 - loss: 0.3930 - val_accuracy: 0.7736 - val_loss: 0.5892\n",
      "Epoch 62/500\n",
      "\u001b[1m66/66\u001b[0m \u001b[32m━━━━━━━━━━━━━━━━━━━━\u001b[0m\u001b[37m\u001b[0m \u001b[1m0s\u001b[0m 2ms/step - accuracy: 0.8455 - loss: 0.3887 - val_accuracy: 0.7664 - val_loss: 0.6080\n",
      "Epoch 63/500\n",
      "\u001b[1m66/66\u001b[0m \u001b[32m━━━━━━━━━━━━━━━━━━━━\u001b[0m\u001b[37m\u001b[0m \u001b[1m0s\u001b[0m 2ms/step - accuracy: 0.8460 - loss: 0.3840 - val_accuracy: 0.7671 - val_loss: 0.5946\n",
      "Epoch 64/500\n",
      "\u001b[1m66/66\u001b[0m \u001b[32m━━━━━━━━━━━━━━━━━━━━\u001b[0m\u001b[37m\u001b[0m \u001b[1m0s\u001b[0m 2ms/step - accuracy: 0.8457 - loss: 0.3863 - val_accuracy: 0.7750 - val_loss: 0.5880\n",
      "Epoch 64: early stopping\n",
      "Restoring model weights from the end of the best epoch: 54.\n"
     ]
    },
    {
     "data": {
      "image/png": "[encoded data removed]",
      "text/plain": [
       "<Figure size 800x800 with 2 Axes>"
      ]
     },
     "metadata": {},
     "output_type": "display_data"
    },
    {
     "name": "stdout",
     "output_type": "stream",
     "text": [
      "Final Training Loss:            0.3863\n",
      "Final Training Accuracy:        0.8457\n",
      "Final Validation Loss:          0.5880\n",
      "Final Validation Accuracy:      0.7750\n",
      "Minimum Validation Loss:        0.5823 (Epoch 54)\n",
      "Validation Accuracy @ Min Loss: 0.7736\n",
      "\n",
      "Test Loss: 0.6032\n",
      "Test Accuracy: 0.7586\n",
      "\n",
      "Validation-Test Gap (accuracy): 0.015000\n",
      "\n",
      "Execution Time: 00:00:09\n",
      "\n",
      "Activation Function: tanh\n",
      "\n",
      "Epoch 1/500\n",
      "\u001b[1m66/66\u001b[0m \u001b[32m━━━━━━━━━━━━━━━━━━━━\u001b[0m\u001b[37m\u001b[0m \u001b[1m1s\u001b[0m 4ms/step - accuracy: 0.4243 - loss: 1.5438 - val_accuracy: 0.5721 - val_loss: 1.1388\n",
      "Epoch 2/500\n",
      "\u001b[1m66/66\u001b[0m \u001b[32m━━━━━━━━━━━━━━━━━━━━\u001b[0m\u001b[37m\u001b[0m \u001b[1m0s\u001b[0m 2ms/step - accuracy: 0.6017 - loss: 1.0240 - val_accuracy: 0.6079 - val_loss: 0.9485\n",
      "Epoch 3/500\n",
      "\u001b[1m66/66\u001b[0m \u001b[32m━━━━━━━━━━━━━━━━━━━━\u001b[0m\u001b[37m\u001b[0m \u001b[1m0s\u001b[0m 2ms/step - accuracy: 0.6345 - loss: 0.9067 - val_accuracy: 0.6414 - val_loss: 0.8765\n",
      "Epoch 4/500\n",
      "\u001b[1m66/66\u001b[0m \u001b[32m━━━━━━━━━━━━━━━━━━━━\u001b[0m\u001b[37m\u001b[0m \u001b[1m0s\u001b[0m 2ms/step - accuracy: 0.6583 - loss: 0.8518 - val_accuracy: 0.6564 - val_loss: 0.8329\n",
      "Epoch 5/500\n",
      "\u001b[1m66/66\u001b[0m \u001b[32m━━━━━━━━━━━━━━━━━━━━\u001b[0m\u001b[37m\u001b[0m \u001b[1m0s\u001b[0m 2ms/step - accuracy: 0.6669 - loss: 0.8163 - val_accuracy: 0.6657 - val_loss: 0.8034\n",
      "Epoch 6/500\n",
      "\u001b[1m66/66\u001b[0m \u001b[32m━━━━━━━━━━━━━━━━━━━━\u001b[0m\u001b[37m\u001b[0m \u001b[1m0s\u001b[0m 2ms/step - accuracy: 0.6810 - loss: 0.7863 - val_accuracy: 0.6779 - val_loss: 0.7801\n",
      "Epoch 7/500\n",
      "\u001b[1m66/66\u001b[0m \u001b[32m━━━━━━━━━━━━━━━━━━━━\u001b[0m\u001b[37m\u001b[0m \u001b[1m0s\u001b[0m 2ms/step - accuracy: 0.6938 - loss: 0.7599 - val_accuracy: 0.6864 - val_loss: 0.7595\n",
      "Epoch 8/500\n",
      "\u001b[1m66/66\u001b[0m \u001b[32m━━━━━━━━━━━━━━━━━━━━\u001b[0m\u001b[37m\u001b[0m \u001b[1m0s\u001b[0m 2ms/step - accuracy: 0.7045 - loss: 0.7371 - val_accuracy: 0.6971 - val_loss: 0.7375\n",
      "Epoch 9/500\n",
      "\u001b[1m66/66\u001b[0m \u001b[32m━━━━━━━━━━━━━━━━━━━━\u001b[0m\u001b[37m\u001b[0m \u001b[1m0s\u001b[0m 2ms/step - accuracy: 0.7071 - loss: 0.7172 - val_accuracy: 0.7050 - val_loss: 0.7187\n",
      "Epoch 10/500\n",
      "\u001b[1m66/66\u001b[0m \u001b[32m━━━━━━━━━━━━━━━━━━━━\u001b[0m\u001b[37m\u001b[0m \u001b[1m0s\u001b[0m 2ms/step - accuracy: 0.7183 - loss: 0.6980 - val_accuracy: 0.7100 - val_loss: 0.7007\n",
      "Epoch 11/500\n",
      "\u001b[1m66/66\u001b[0m \u001b[32m━━━━━━━━━━━━━━━━━━━━\u001b[0m\u001b[37m\u001b[0m \u001b[1m0s\u001b[0m 2ms/step - accuracy: 0.7224 - loss: 0.6828 - val_accuracy: 0.7114 - val_loss: 0.6926\n",
      "Epoch 12/500\n",
      "\u001b[1m66/66\u001b[0m \u001b[32m━━━━━━━━━━━━━━━━━━━━\u001b[0m\u001b[37m\u001b[0m \u001b[1m0s\u001b[0m 2ms/step - accuracy: 0.7329 - loss: 0.6671 - val_accuracy: 0.7150 - val_loss: 0.6892\n",
      "Epoch 13/500\n",
      "\u001b[1m66/66\u001b[0m \u001b[32m━━━━━━━━━━━━━━━━━━━━\u001b[0m\u001b[37m\u001b[0m \u001b[1m0s\u001b[0m 2ms/step - accuracy: 0.7407 - loss: 0.6551 - val_accuracy: 0.7157 - val_loss: 0.6693\n",
      "Epoch 14/500\n",
      "\u001b[1m66/66\u001b[0m \u001b[32m━━━━━━━━━━━━━━━━━━━━\u001b[0m\u001b[37m\u001b[0m \u001b[1m0s\u001b[0m 2ms/step - accuracy: 0.7357 - loss: 0.6424 - val_accuracy: 0.7257 - val_loss: 0.6598\n",
      "Epoch 15/500\n",
      "\u001b[1m66/66\u001b[0m \u001b[32m━━━━━━━━━━━━━━━━━━━━\u001b[0m\u001b[37m\u001b[0m \u001b[1m0s\u001b[0m 2ms/step - accuracy: 0.7469 - loss: 0.6300 - val_accuracy: 0.7293 - val_loss: 0.6526\n",
      "Epoch 16/500\n",
      "\u001b[1m66/66\u001b[0m \u001b[32m━━━━━━━━━━━━━━━━━━━━\u001b[0m\u001b[37m\u001b[0m \u001b[1m0s\u001b[0m 2ms/step - accuracy: 0.7521 - loss: 0.6195 - val_accuracy: 0.7343 - val_loss: 0.6425\n",
      "Epoch 17/500\n",
      "\u001b[1m66/66\u001b[0m \u001b[32m━━━━━━━━━━━━━━━━━━━━\u001b[0m\u001b[37m\u001b[0m \u001b[1m0s\u001b[0m 2ms/step - accuracy: 0.7548 - loss: 0.6082 - val_accuracy: 0.7400 - val_loss: 0.6361\n",
      "Epoch 18/500\n",
      "\u001b[1m66/66\u001b[0m \u001b[32m━━━━━━━━━━━━━━━━━━━━\u001b[0m\u001b[37m\u001b[0m \u001b[1m0s\u001b[0m 2ms/step - accuracy: 0.7576 - loss: 0.6024 - val_accuracy: 0.7386 - val_loss: 0.6285\n",
      "Epoch 19/500\n",
      "\u001b[1m66/66\u001b[0m \u001b[32m━━━━━━━━━━━━━━━━━━━━\u001b[0m\u001b[37m\u001b[0m \u001b[1m0s\u001b[0m 2ms/step - accuracy: 0.7629 - loss: 0.5912 - val_accuracy: 0.7407 - val_loss: 0.6259\n",
      "Epoch 20/500\n",
      "\u001b[1m66/66\u001b[0m \u001b[32m━━━━━━━━━━━━━━━━━━━━\u001b[0m\u001b[37m\u001b[0m \u001b[1m0s\u001b[0m 2ms/step - accuracy: 0.7700 - loss: 0.5806 - val_accuracy: 0.7314 - val_loss: 0.6241\n",
      "Epoch 21/500\n",
      "\u001b[1m66/66\u001b[0m \u001b[32m━━━━━━━━━━━━━━━━━━━━\u001b[0m\u001b[37m\u001b[0m \u001b[1m0s\u001b[0m 2ms/step - accuracy: 0.7714 - loss: 0.5750 - val_accuracy: 0.7500 - val_loss: 0.6138\n",
      "Epoch 22/500\n",
      "\u001b[1m66/66\u001b[0m \u001b[32m━━━━━━━━━━━━━━━━━━━━\u001b[0m\u001b[37m\u001b[0m \u001b[1m0s\u001b[0m 2ms/step - accuracy: 0.7752 - loss: 0.5651 - val_accuracy: 0.7464 - val_loss: 0.6171\n",
      "Epoch 23/500\n",
      "\u001b[1m66/66\u001b[0m \u001b[32m━━━━━━━━━━━━━━━━━━━━\u001b[0m\u001b[37m\u001b[0m \u001b[1m0s\u001b[0m 2ms/step - accuracy: 0.7783 - loss: 0.5604 - val_accuracy: 0.7500 - val_loss: 0.6096\n",
      "Epoch 24/500\n",
      "\u001b[1m66/66\u001b[0m \u001b[32m━━━━━━━━━━━━━━━━━━━━\u001b[0m\u001b[37m\u001b[0m \u001b[1m0s\u001b[0m 2ms/step - accuracy: 0.7869 - loss: 0.5517 - val_accuracy: 0.7429 - val_loss: 0.6149\n",
      "Epoch 25/500\n",
      "\u001b[1m66/66\u001b[0m \u001b[32m━━━━━━━━━━━━━━━━━━━━\u001b[0m\u001b[37m\u001b[0m \u001b[1m0s\u001b[0m 2ms/step - accuracy: 0.7795 - loss: 0.5460 - val_accuracy: 0.7564 - val_loss: 0.6004\n",
      "Epoch 26/500\n",
      "\u001b[1m66/66\u001b[0m \u001b[32m━━━━━━━━━━━━━━━━━━━━\u001b[0m\u001b[37m\u001b[0m \u001b[1m0s\u001b[0m 2ms/step - accuracy: 0.7883 - loss: 0.5385 - val_accuracy: 0.7593 - val_loss: 0.5980\n",
      "Epoch 27/500\n",
      "\u001b[1m66/66\u001b[0m \u001b[32m━━━━━━━━━━━━━━━━━━━━\u001b[0m\u001b[37m\u001b[0m \u001b[1m0s\u001b[0m 2ms/step - accuracy: 0.7907 - loss: 0.5338 - val_accuracy: 0.7571 - val_loss: 0.5985\n",
      "Epoch 28/500\n",
      "\u001b[1m66/66\u001b[0m \u001b[32m━━━━━━━━━━━━━━━━━━━━\u001b[0m\u001b[37m\u001b[0m \u001b[1m0s\u001b[0m 2ms/step - accuracy: 0.7929 - loss: 0.5284 - val_accuracy: 0.7550 - val_loss: 0.5972\n",
      "Epoch 29/500\n",
      "\u001b[1m66/66\u001b[0m \u001b[32m━━━━━━━━━━━━━━━━━━━━\u001b[0m\u001b[37m\u001b[0m \u001b[1m0s\u001b[0m 2ms/step - accuracy: 0.7936 - loss: 0.5204 - val_accuracy: 0.7529 - val_loss: 0.6003\n",
      "Epoch 30/500\n",
      "\u001b[1m66/66\u001b[0m \u001b[32m━━━━━━━━━━━━━━━━━━━━\u001b[0m\u001b[37m\u001b[0m \u001b[1m0s\u001b[0m 2ms/step - accuracy: 0.8005 - loss: 0.5157 - val_accuracy: 0.7571 - val_loss: 0.5935\n",
      "Epoch 31/500\n",
      "\u001b[1m66/66\u001b[0m \u001b[32m━━━━━━━━━━━━━━━━━━━━\u001b[0m\u001b[37m\u001b[0m \u001b[1m0s\u001b[0m 2ms/step - accuracy: 0.7974 - loss: 0.5118 - val_accuracy: 0.7593 - val_loss: 0.5867\n",
      "Epoch 32/500\n",
      "\u001b[1m66/66\u001b[0m \u001b[32m━━━━━━━━━━━━━━━━━━━━\u001b[0m\u001b[37m\u001b[0m \u001b[1m0s\u001b[0m 2ms/step - accuracy: 0.7995 - loss: 0.5056 - val_accuracy: 0.7643 - val_loss: 0.5895\n",
      "Epoch 33/500\n",
      "\u001b[1m66/66\u001b[0m \u001b[32m━━━━━━━━━━━━━━━━━━━━\u001b[0m\u001b[37m\u001b[0m \u001b[1m0s\u001b[0m 2ms/step - accuracy: 0.8033 - loss: 0.4991 - val_accuracy: 0.7614 - val_loss: 0.5869\n",
      "Epoch 34/500\n",
      "\u001b[1m66/66\u001b[0m \u001b[32m━━━━━━━━━━━━━━━━━━━━\u001b[0m\u001b[37m\u001b[0m \u001b[1m0s\u001b[0m 2ms/step - accuracy: 0.8040 - loss: 0.4939 - val_accuracy: 0.7664 - val_loss: 0.5833\n",
      "Epoch 35/500\n",
      "\u001b[1m66/66\u001b[0m \u001b[32m━━━━━━━━━━━━━━━━━━━━\u001b[0m\u001b[37m\u001b[0m \u001b[1m0s\u001b[0m 2ms/step - accuracy: 0.8038 - loss: 0.4895 - val_accuracy: 0.7671 - val_loss: 0.5822\n",
      "Epoch 36/500\n",
      "\u001b[1m66/66\u001b[0m \u001b[32m━━━━━━━━━━━━━━━━━━━━\u001b[0m\u001b[37m\u001b[0m \u001b[1m0s\u001b[0m 2ms/step - accuracy: 0.8055 - loss: 0.4850 - val_accuracy: 0.7707 - val_loss: 0.5831\n",
      "Epoch 37/500\n",
      "\u001b[1m66/66\u001b[0m \u001b[32m━━━━━━━━━━━━━━━━━━━━\u001b[0m\u001b[37m\u001b[0m \u001b[1m0s\u001b[0m 2ms/step - accuracy: 0.8088 - loss: 0.4776 - val_accuracy: 0.7636 - val_loss: 0.5851\n",
      "Epoch 38/500\n",
      "\u001b[1m66/66\u001b[0m \u001b[32m━━━━━━━━━━━━━━━━━━━━\u001b[0m\u001b[37m\u001b[0m \u001b[1m0s\u001b[0m 2ms/step - accuracy: 0.8117 - loss: 0.4748 - val_accuracy: 0.7621 - val_loss: 0.5859\n",
      "Epoch 39/500\n",
      "\u001b[1m66/66\u001b[0m \u001b[32m━━━━━━━━━━━━━━━━━━━━\u001b[0m\u001b[37m\u001b[0m \u001b[1m0s\u001b[0m 2ms/step - accuracy: 0.8157 - loss: 0.4714 - val_accuracy: 0.7657 - val_loss: 0.5799\n",
      "Epoch 40/500\n",
      "\u001b[1m66/66\u001b[0m \u001b[32m━━━━━━━━━━━━━━━━━━━━\u001b[0m\u001b[37m\u001b[0m \u001b[1m0s\u001b[0m 2ms/step - accuracy: 0.8136 - loss: 0.4665 - val_accuracy: 0.7700 - val_loss: 0.5736\n",
      "Epoch 41/500\n",
      "\u001b[1m66/66\u001b[0m \u001b[32m━━━━━━━━━━━━━━━━━━━━\u001b[0m\u001b[37m\u001b[0m \u001b[1m0s\u001b[0m 2ms/step - accuracy: 0.8221 - loss: 0.4594 - val_accuracy: 0.7693 - val_loss: 0.5783\n",
      "Epoch 42/500\n",
      "\u001b[1m66/66\u001b[0m \u001b[32m━━━━━━━━━━━━━━━━━━━━\u001b[0m\u001b[37m\u001b[0m \u001b[1m0s\u001b[0m 2ms/step - accuracy: 0.8233 - loss: 0.4548 - val_accuracy: 0.7650 - val_loss: 0.5784\n",
      "Epoch 43/500\n",
      "\u001b[1m66/66\u001b[0m \u001b[32m━━━━━━━━━━━━━━━━━━━━\u001b[0m\u001b[37m\u001b[0m \u001b[1m0s\u001b[0m 2ms/step - accuracy: 0.8205 - loss: 0.4515 - val_accuracy: 0.7686 - val_loss: 0.5703\n",
      "Epoch 44/500\n",
      "\u001b[1m66/66\u001b[0m \u001b[32m━━━━━━━━━━━━━━━━━━━━\u001b[0m\u001b[37m\u001b[0m \u001b[1m0s\u001b[0m 2ms/step - accuracy: 0.8219 - loss: 0.4458 - val_accuracy: 0.7614 - val_loss: 0.5806\n",
      "Epoch 45/500\n",
      "\u001b[1m66/66\u001b[0m \u001b[32m━━━━━━━━━━━━━━━━━━━━\u001b[0m\u001b[37m\u001b[0m \u001b[1m0s\u001b[0m 2ms/step - accuracy: 0.8267 - loss: 0.4396 - val_accuracy: 0.7729 - val_loss: 0.5706\n",
      "Epoch 46/500\n",
      "\u001b[1m66/66\u001b[0m \u001b[32m━━━━━━━━━━━━━━━━━━━━\u001b[0m\u001b[37m\u001b[0m \u001b[1m0s\u001b[0m 2ms/step - accuracy: 0.8281 - loss: 0.4373 - val_accuracy: 0.7721 - val_loss: 0.5752\n",
      "Epoch 47/500\n",
      "\u001b[1m66/66\u001b[0m \u001b[32m━━━━━━━━━━━━━━━━━━━━\u001b[0m\u001b[37m\u001b[0m \u001b[1m0s\u001b[0m 2ms/step - accuracy: 0.8314 - loss: 0.4346 - val_accuracy: 0.7700 - val_loss: 0.5700\n",
      "Epoch 48/500\n",
      "\u001b[1m66/66\u001b[0m \u001b[32m━━━━━━━━━━━━━━━━━━━━\u001b[0m\u001b[37m\u001b[0m \u001b[1m0s\u001b[0m 2ms/step - accuracy: 0.8286 - loss: 0.4296 - val_accuracy: 0.7643 - val_loss: 0.5736\n",
      "Epoch 49/500\n",
      "\u001b[1m66/66\u001b[0m \u001b[32m━━━━━━━━━━━━━━━━━━━━\u001b[0m\u001b[37m\u001b[0m \u001b[1m0s\u001b[0m 2ms/step - accuracy: 0.8314 - loss: 0.4257 - val_accuracy: 0.7836 - val_loss: 0.5644\n",
      "Epoch 50/500\n",
      "\u001b[1m66/66\u001b[0m \u001b[32m━━━━━━━━━━━━━━━━━━━━\u001b[0m\u001b[37m\u001b[0m \u001b[1m0s\u001b[0m 2ms/step - accuracy: 0.8317 - loss: 0.4202 - val_accuracy: 0.7679 - val_loss: 0.5718\n",
      "Epoch 51/500\n",
      "\u001b[1m66/66\u001b[0m \u001b[32m━━━━━━━━━━━━━━━━━━━━\u001b[0m\u001b[37m\u001b[0m \u001b[1m0s\u001b[0m 2ms/step - accuracy: 0.8360 - loss: 0.4185 - val_accuracy: 0.7664 - val_loss: 0.5746\n",
      "Epoch 52/500\n",
      "\u001b[1m66/66\u001b[0m \u001b[32m━━━━━━━━━━━━━━━━━━━━\u001b[0m\u001b[37m\u001b[0m \u001b[1m0s\u001b[0m 2ms/step - accuracy: 0.8426 - loss: 0.4095 - val_accuracy: 0.7793 - val_loss: 0.5648\n",
      "Epoch 53/500\n",
      "\u001b[1m66/66\u001b[0m \u001b[32m━━━━━━━━━━━━━━━━━━━━\u001b[0m\u001b[37m\u001b[0m \u001b[1m0s\u001b[0m 2ms/step - accuracy: 0.8371 - loss: 0.4084 - val_accuracy: 0.7743 - val_loss: 0.5703\n",
      "Epoch 54/500\n",
      "\u001b[1m66/66\u001b[0m \u001b[32m━━━━━━━━━━━━━━━━━━━━\u001b[0m\u001b[37m\u001b[0m \u001b[1m0s\u001b[0m 2ms/step - accuracy: 0.8405 - loss: 0.4069 - val_accuracy: 0.7757 - val_loss: 0.5672\n",
      "Epoch 55/500\n",
      "\u001b[1m66/66\u001b[0m \u001b[32m━━━━━━━━━━━━━━━━━━━━\u001b[0m\u001b[37m\u001b[0m \u001b[1m0s\u001b[0m 2ms/step - accuracy: 0.8412 - loss: 0.3998 - val_accuracy: 0.7714 - val_loss: 0.5646\n",
      "Epoch 56/500\n",
      "\u001b[1m66/66\u001b[0m \u001b[32m━━━━━━━━━━━━━━━━━━━━\u001b[0m\u001b[37m\u001b[0m \u001b[1m0s\u001b[0m 2ms/step - accuracy: 0.8455 - loss: 0.3980 - val_accuracy: 0.7771 - val_loss: 0.5633\n",
      "Epoch 57/500\n",
      "\u001b[1m66/66\u001b[0m \u001b[32m━━━━━━━━━━━━━━━━━━━━\u001b[0m\u001b[37m\u001b[0m \u001b[1m0s\u001b[0m 2ms/step - accuracy: 0.8462 - loss: 0.3919 - val_accuracy: 0.7671 - val_loss: 0.5732\n",
      "Epoch 58/500\n",
      "\u001b[1m66/66\u001b[0m \u001b[32m━━━━━━━━━━━━━━━━━━━━\u001b[0m\u001b[37m\u001b[0m \u001b[1m0s\u001b[0m 2ms/step - accuracy: 0.8431 - loss: 0.3903 - val_accuracy: 0.7693 - val_loss: 0.5685\n",
      "Epoch 59/500\n",
      "\u001b[1m66/66\u001b[0m \u001b[32m━━━━━━━━━━━━━━━━━━━━\u001b[0m\u001b[37m\u001b[0m \u001b[1m0s\u001b[0m 2ms/step - accuracy: 0.8510 - loss: 0.3852 - val_accuracy: 0.7757 - val_loss: 0.5647\n",
      "Epoch 60/500\n",
      "\u001b[1m66/66\u001b[0m \u001b[32m━━━━━━━━━━━━━━━━━━━━\u001b[0m\u001b[37m\u001b[0m \u001b[1m0s\u001b[0m 2ms/step - accuracy: 0.8519 - loss: 0.3798 - val_accuracy: 0.7700 - val_loss: 0.5701\n",
      "Epoch 61/500\n",
      "\u001b[1m66/66\u001b[0m \u001b[32m━━━━━━━━━━━━━━━━━━━━\u001b[0m\u001b[37m\u001b[0m \u001b[1m0s\u001b[0m 2ms/step - accuracy: 0.8543 - loss: 0.3762 - val_accuracy: 0.7707 - val_loss: 0.5654\n",
      "Epoch 62/500\n",
      "\u001b[1m66/66\u001b[0m \u001b[32m━━━━━━━━━━━━━━━━━━━━\u001b[0m\u001b[37m\u001b[0m \u001b[1m0s\u001b[0m 2ms/step - accuracy: 0.8526 - loss: 0.3729 - val_accuracy: 0.7700 - val_loss: 0.5686\n",
      "Epoch 63/500\n",
      "\u001b[1m66/66\u001b[0m \u001b[32m━━━━━━━━━━━━━━━━━━━━\u001b[0m\u001b[37m\u001b[0m \u001b[1m0s\u001b[0m 2ms/step - accuracy: 0.8569 - loss: 0.3691 - val_accuracy: 0.7714 - val_loss: 0.5677\n",
      "Epoch 64/500\n",
      "\u001b[1m66/66\u001b[0m \u001b[32m━━━━━━━━━━━━━━━━━━━━\u001b[0m\u001b[37m\u001b[0m \u001b[1m0s\u001b[0m 2ms/step - accuracy: 0.8590 - loss: 0.3667 - val_accuracy: 0.7671 - val_loss: 0.5667\n",
      "Epoch 65/500\n",
      "\u001b[1m66/66\u001b[0m \u001b[32m━━━━━━━━━━━━━━━━━━━━\u001b[0m\u001b[37m\u001b[0m \u001b[1m0s\u001b[0m 2ms/step - accuracy: 0.8581 - loss: 0.3626 - val_accuracy: 0.7693 - val_loss: 0.5702\n",
      "Epoch 66/500\n",
      "\u001b[1m66/66\u001b[0m \u001b[32m━━━━━━━━━━━━━━━━━━━━\u001b[0m\u001b[37m\u001b[0m \u001b[1m0s\u001b[0m 2ms/step - accuracy: 0.8614 - loss: 0.3588 - val_accuracy: 0.7686 - val_loss: 0.5718\n",
      "Epoch 66: early stopping\n",
      "Restoring model weights from the end of the best epoch: 56.\n"
     ]
    },
    {
     "data": {
      "image/png": "[encoded data removed]",
      "text/plain": [
       "<Figure size 800x800 with 2 Axes>"
      ]
     },
     "metadata": {},
     "output_type": "display_data"
    },
    {
     "name": "stdout",
     "output_type": "stream",
     "text": [
      "Final Training Loss:            0.3588\n",
      "Final Training Accuracy:        0.8614\n",
      "Final Validation Loss:          0.5718\n",
      "Final Validation Accuracy:      0.7686\n",
      "Minimum Validation Loss:        0.5633 (Epoch 56)\n",
      "Validation Accuracy @ Min Loss: 0.7771\n",
      "\n",
      "Test Loss: 0.5792\n",
      "Test Accuracy: 0.7600\n",
      "\n",
      "Validation-Test Gap (accuracy): 0.017143\n",
      "\n",
      "Execution Time: 00:00:10\n",
      "\n",
      "Activation Function: sigmoid\n",
      "\n",
      "Epoch 1/500\n",
      "\u001b[1m66/66\u001b[0m \u001b[32m━━━━━━━━━━━━━━━━━━━━\u001b[0m\u001b[37m\u001b[0m \u001b[1m1s\u001b[0m 4ms/step - accuracy: 0.3012 - loss: 1.9046 - val_accuracy: 0.4529 - val_loss: 1.8159\n",
      "Epoch 2/500\n",
      "\u001b[1m66/66\u001b[0m \u001b[32m━━━━━━━━━━━━━━━━━━━━\u001b[0m\u001b[37m\u001b[0m \u001b[1m0s\u001b[0m 2ms/step - accuracy: 0.5069 - loss: 1.7069 - val_accuracy: 0.5593 - val_loss: 1.5634\n",
      "Epoch 3/500\n",
      "\u001b[1m66/66\u001b[0m \u001b[32m━━━━━━━━━━━━━━━━━━━━\u001b[0m\u001b[37m\u001b[0m \u001b[1m0s\u001b[0m 2ms/step - accuracy: 0.5717 - loss: 1.4280 - val_accuracy: 0.5900 - val_loss: 1.2969\n",
      "Epoch 4/500\n",
      "\u001b[1m66/66\u001b[0m \u001b[32m━━━━━━━━━━━━━━━━━━━━\u001b[0m\u001b[37m\u001b[0m \u001b[1m0s\u001b[0m 2ms/step - accuracy: 0.5902 - loss: 1.2135 - val_accuracy: 0.6007 - val_loss: 1.1357\n",
      "Epoch 5/500\n",
      "\u001b[1m66/66\u001b[0m \u001b[32m━━━━━━━━━━━━━━━━━━━━\u001b[0m\u001b[37m\u001b[0m \u001b[1m0s\u001b[0m 2ms/step - accuracy: 0.5948 - loss: 1.0937 - val_accuracy: 0.6079 - val_loss: 1.0481\n",
      "Epoch 6/500\n",
      "\u001b[1m66/66\u001b[0m \u001b[32m━━━━━━━━━━━━━━━━━━━━\u001b[0m\u001b[37m\u001b[0m \u001b[1m0s\u001b[0m 2ms/step - accuracy: 0.6002 - loss: 1.0245 - val_accuracy: 0.6214 - val_loss: 0.9956\n",
      "Epoch 7/500\n",
      "\u001b[1m66/66\u001b[0m \u001b[32m━━━━━━━━━━━━━━━━━━━━\u001b[0m\u001b[37m\u001b[0m \u001b[1m0s\u001b[0m 2ms/step - accuracy: 0.6060 - loss: 0.9802 - val_accuracy: 0.6243 - val_loss: 0.9604\n",
      "Epoch 8/500\n",
      "\u001b[1m66/66\u001b[0m \u001b[32m━━━━━━━━━━━━━━━━━━━━\u001b[0m\u001b[37m\u001b[0m \u001b[1m0s\u001b[0m 2ms/step - accuracy: 0.6238 - loss: 0.9479 - val_accuracy: 0.6321 - val_loss: 0.9329\n",
      "Epoch 9/500\n",
      "\u001b[1m66/66\u001b[0m \u001b[32m━━━━━━━━━━━━━━━━━━━━\u001b[0m\u001b[37m\u001b[0m \u001b[1m0s\u001b[0m 2ms/step - accuracy: 0.6250 - loss: 0.9218 - val_accuracy: 0.6336 - val_loss: 0.9116\n",
      "Epoch 10/500\n",
      "\u001b[1m66/66\u001b[0m \u001b[32m━━━━━━━━━━━━━━━━━━━━\u001b[0m\u001b[37m\u001b[0m \u001b[1m0s\u001b[0m 2ms/step - accuracy: 0.6298 - loss: 0.9021 - val_accuracy: 0.6279 - val_loss: 0.8952\n",
      "Epoch 11/500\n",
      "\u001b[1m66/66\u001b[0m \u001b[32m━━━━━━━━━━━━━━━━━━━━\u001b[0m\u001b[37m\u001b[0m \u001b[1m0s\u001b[0m 2ms/step - accuracy: 0.6383 - loss: 0.8833 - val_accuracy: 0.6429 - val_loss: 0.8766\n",
      "Epoch 12/500\n",
      "\u001b[1m66/66\u001b[0m \u001b[32m━━━━━━━━━━━━━━━━━━━━\u001b[0m\u001b[37m\u001b[0m \u001b[1m0s\u001b[0m 2ms/step - accuracy: 0.6462 - loss: 0.8672 - val_accuracy: 0.6479 - val_loss: 0.8616\n",
      "Epoch 13/500\n",
      "\u001b[1m66/66\u001b[0m \u001b[32m━━━━━━━━━━━━━━━━━━━━\u001b[0m\u001b[37m\u001b[0m \u001b[1m0s\u001b[0m 2ms/step - accuracy: 0.6564 - loss: 0.8519 - val_accuracy: 0.6500 - val_loss: 0.8477\n",
      "Epoch 14/500\n",
      "\u001b[1m66/66\u001b[0m \u001b[32m━━━━━━━━━━━━━━━━━━━━\u001b[0m\u001b[37m\u001b[0m \u001b[1m0s\u001b[0m 2ms/step - accuracy: 0.6562 - loss: 0.8398 - val_accuracy: 0.6586 - val_loss: 0.8362\n",
      "Epoch 15/500\n",
      "\u001b[1m66/66\u001b[0m \u001b[32m━━━━━━━━━━━━━━━━━━━━\u001b[0m\u001b[37m\u001b[0m \u001b[1m0s\u001b[0m 2ms/step - accuracy: 0.6617 - loss: 0.8263 - val_accuracy: 0.6743 - val_loss: 0.8233\n",
      "Epoch 16/500\n",
      "\u001b[1m66/66\u001b[0m \u001b[32m━━━━━━━━━━━━━━━━━━━━\u001b[0m\u001b[37m\u001b[0m \u001b[1m0s\u001b[0m 2ms/step - accuracy: 0.6740 - loss: 0.8163 - val_accuracy: 0.6750 - val_loss: 0.8117\n",
      "Epoch 17/500\n",
      "\u001b[1m66/66\u001b[0m \u001b[32m━━━━━━━━━━━━━━━━━━━━\u001b[0m\u001b[37m\u001b[0m \u001b[1m0s\u001b[0m 2ms/step - accuracy: 0.6767 - loss: 0.8035 - val_accuracy: 0.6807 - val_loss: 0.8022\n",
      "Epoch 18/500\n",
      "\u001b[1m66/66\u001b[0m \u001b[32m━━━━━━━━━━━━━━━━━━━━\u001b[0m\u001b[37m\u001b[0m \u001b[1m0s\u001b[0m 2ms/step - accuracy: 0.6821 - loss: 0.7931 - val_accuracy: 0.6771 - val_loss: 0.7928\n",
      "Epoch 19/500\n",
      "\u001b[1m66/66\u001b[0m \u001b[32m━━━━━━━━━━━━━━━━━━━━\u001b[0m\u001b[37m\u001b[0m \u001b[1m0s\u001b[0m 2ms/step - accuracy: 0.6819 - loss: 0.7835 - val_accuracy: 0.6771 - val_loss: 0.7864\n",
      "Epoch 20/500\n",
      "\u001b[1m66/66\u001b[0m \u001b[32m━━━━━━━━━━━━━━━━━━━━\u001b[0m\u001b[37m\u001b[0m \u001b[1m0s\u001b[0m 2ms/step - accuracy: 0.6871 - loss: 0.7751 - val_accuracy: 0.6886 - val_loss: 0.7752\n",
      "Epoch 21/500\n",
      "\u001b[1m66/66\u001b[0m \u001b[32m━━━━━━━━━━━━━━━━━━━━\u001b[0m\u001b[37m\u001b[0m \u001b[1m0s\u001b[0m 2ms/step - accuracy: 0.6926 - loss: 0.7675 - val_accuracy: 0.6893 - val_loss: 0.7668\n",
      "Epoch 22/500\n",
      "\u001b[1m66/66\u001b[0m \u001b[32m━━━━━━━━━━━━━━━━━━━━\u001b[0m\u001b[37m\u001b[0m \u001b[1m0s\u001b[0m 2ms/step - accuracy: 0.6933 - loss: 0.7588 - val_accuracy: 0.6893 - val_loss: 0.7587\n",
      "Epoch 23/500\n",
      "\u001b[1m66/66\u001b[0m \u001b[32m━━━━━━━━━━━━━━━━━━━━\u001b[0m\u001b[37m\u001b[0m \u001b[1m0s\u001b[0m 2ms/step - accuracy: 0.6957 - loss: 0.7509 - val_accuracy: 0.6907 - val_loss: 0.7541\n",
      "Epoch 24/500\n",
      "\u001b[1m66/66\u001b[0m \u001b[32m━━━━━━━━━━━━━━━━━━━━\u001b[0m\u001b[37m\u001b[0m \u001b[1m0s\u001b[0m 2ms/step - accuracy: 0.6998 - loss: 0.7459 - val_accuracy: 0.7043 - val_loss: 0.7457\n",
      "Epoch 25/500\n",
      "\u001b[1m66/66\u001b[0m \u001b[32m━━━━━━━━━━━━━━━━━━━━\u001b[0m\u001b[37m\u001b[0m \u001b[1m0s\u001b[0m 2ms/step - accuracy: 0.6967 - loss: 0.7396 - val_accuracy: 0.7014 - val_loss: 0.7391\n",
      "Epoch 26/500\n",
      "\u001b[1m66/66\u001b[0m \u001b[32m━━━━━━━━━━━━━━━━━━━━\u001b[0m\u001b[37m\u001b[0m \u001b[1m0s\u001b[0m 2ms/step - accuracy: 0.6983 - loss: 0.7339 - val_accuracy: 0.6979 - val_loss: 0.7347\n",
      "Epoch 27/500\n",
      "\u001b[1m66/66\u001b[0m \u001b[32m━━━━━━━━━━━━━━━━━━━━\u001b[0m\u001b[37m\u001b[0m \u001b[1m0s\u001b[0m 2ms/step - accuracy: 0.6993 - loss: 0.7257 - val_accuracy: 0.6964 - val_loss: 0.7305\n",
      "Epoch 28/500\n",
      "\u001b[1m66/66\u001b[0m \u001b[32m━━━━━━━━━━━━━━━━━━━━\u001b[0m\u001b[37m\u001b[0m \u001b[1m0s\u001b[0m 2ms/step - accuracy: 0.7033 - loss: 0.7225 - val_accuracy: 0.7000 - val_loss: 0.7232\n",
      "Epoch 29/500\n",
      "\u001b[1m66/66\u001b[0m \u001b[32m━━━━━━━━━━━━━━━━━━━━\u001b[0m\u001b[37m\u001b[0m \u001b[1m0s\u001b[0m 2ms/step - accuracy: 0.7086 - loss: 0.7158 - val_accuracy: 0.7021 - val_loss: 0.7191\n",
      "Epoch 30/500\n",
      "\u001b[1m66/66\u001b[0m \u001b[32m━━━━━━━━━━━━━━━━━━━━\u001b[0m\u001b[37m\u001b[0m \u001b[1m0s\u001b[0m 2ms/step - accuracy: 0.7114 - loss: 0.7111 - val_accuracy: 0.7036 - val_loss: 0.7142\n",
      "Epoch 31/500\n",
      "\u001b[1m66/66\u001b[0m \u001b[32m━━━━━━━━━━━━━━━━━━━━\u001b[0m\u001b[37m\u001b[0m \u001b[1m0s\u001b[0m 2ms/step - accuracy: 0.7088 - loss: 0.7055 - val_accuracy: 0.7050 - val_loss: 0.7111\n",
      "Epoch 32/500\n",
      "\u001b[1m66/66\u001b[0m \u001b[32m━━━━━━━━━━━━━━━━━━━━\u001b[0m\u001b[37m\u001b[0m \u001b[1m0s\u001b[0m 2ms/step - accuracy: 0.7157 - loss: 0.7007 - val_accuracy: 0.7100 - val_loss: 0.7073\n",
      "Epoch 33/500\n",
      "\u001b[1m66/66\u001b[0m \u001b[32m━━━━━━━━━━━━━━━━━━━━\u001b[0m\u001b[37m\u001b[0m \u001b[1m0s\u001b[0m 2ms/step - accuracy: 0.7138 - loss: 0.6965 - val_accuracy: 0.7007 - val_loss: 0.7058\n",
      "Epoch 34/500\n",
      "\u001b[1m66/66\u001b[0m \u001b[32m━━━━━━━━━━━━━━━━━━━━\u001b[0m\u001b[37m\u001b[0m \u001b[1m0s\u001b[0m 2ms/step - accuracy: 0.7140 - loss: 0.6911 - val_accuracy: 0.7129 - val_loss: 0.7000\n",
      "Epoch 35/500\n",
      "\u001b[1m66/66\u001b[0m \u001b[32m━━━━━━━━━━━━━━━━━━━━\u001b[0m\u001b[37m\u001b[0m \u001b[1m0s\u001b[0m 2ms/step - accuracy: 0.7186 - loss: 0.6875 - val_accuracy: 0.7129 - val_loss: 0.6977\n",
      "Epoch 36/500\n",
      "\u001b[1m66/66\u001b[0m \u001b[32m━━━━━━━━━━━━━━━━━━━━\u001b[0m\u001b[37m\u001b[0m \u001b[1m0s\u001b[0m 2ms/step - accuracy: 0.7160 - loss: 0.6840 - val_accuracy: 0.7093 - val_loss: 0.6953\n",
      "Epoch 37/500\n",
      "\u001b[1m66/66\u001b[0m \u001b[32m━━━━━━━━━━━━━━━━━━━━\u001b[0m\u001b[37m\u001b[0m \u001b[1m0s\u001b[0m 2ms/step - accuracy: 0.7202 - loss: 0.6803 - val_accuracy: 0.7143 - val_loss: 0.6903\n",
      "Epoch 38/500\n",
      "\u001b[1m66/66\u001b[0m \u001b[32m━━━━━━━━━━━━━━━━━━━━\u001b[0m\u001b[37m\u001b[0m \u001b[1m0s\u001b[0m 2ms/step - accuracy: 0.7198 - loss: 0.6769 - val_accuracy: 0.7143 - val_loss: 0.6865\n",
      "Epoch 39/500\n",
      "\u001b[1m66/66\u001b[0m \u001b[32m━━━━━━━━━━━━━━━━━━━━\u001b[0m\u001b[37m\u001b[0m \u001b[1m0s\u001b[0m 2ms/step - accuracy: 0.7217 - loss: 0.6725 - val_accuracy: 0.7171 - val_loss: 0.6836\n",
      "Epoch 40/500\n",
      "\u001b[1m66/66\u001b[0m \u001b[32m━━━━━━━━━━━━━━━━━━━━\u001b[0m\u001b[37m\u001b[0m \u001b[1m0s\u001b[0m 2ms/step - accuracy: 0.7250 - loss: 0.6684 - val_accuracy: 0.7193 - val_loss: 0.6823\n",
      "Epoch 41/500\n",
      "\u001b[1m66/66\u001b[0m \u001b[32m━━━━━━━━━━━━━━━━━━━━\u001b[0m\u001b[37m\u001b[0m \u001b[1m0s\u001b[0m 2ms/step - accuracy: 0.7262 - loss: 0.6643 - val_accuracy: 0.7179 - val_loss: 0.6798\n",
      "Epoch 42/500\n",
      "\u001b[1m66/66\u001b[0m \u001b[32m━━━━━━━━━━━━━━━━━━━━\u001b[0m\u001b[37m\u001b[0m \u001b[1m0s\u001b[0m 2ms/step - accuracy: 0.7271 - loss: 0.6620 - val_accuracy: 0.7171 - val_loss: 0.6768\n",
      "Epoch 43/500\n",
      "\u001b[1m66/66\u001b[0m \u001b[32m━━━━━━━━━━━━━━━━━━━━\u001b[0m\u001b[37m\u001b[0m \u001b[1m0s\u001b[0m 2ms/step - accuracy: 0.7281 - loss: 0.6574 - val_accuracy: 0.7157 - val_loss: 0.6741\n",
      "Epoch 44/500\n",
      "\u001b[1m66/66\u001b[0m \u001b[32m━━━━━━━━━━━━━━━━━━━━\u001b[0m\u001b[37m\u001b[0m \u001b[1m0s\u001b[0m 2ms/step - accuracy: 0.7288 - loss: 0.6533 - val_accuracy: 0.7229 - val_loss: 0.6709\n",
      "Epoch 45/500\n",
      "\u001b[1m66/66\u001b[0m \u001b[32m━━━━━━━━━━━━━━━━━━━━\u001b[0m\u001b[37m\u001b[0m \u001b[1m0s\u001b[0m 2ms/step - accuracy: 0.7307 - loss: 0.6512 - val_accuracy: 0.7193 - val_loss: 0.6687\n",
      "Epoch 46/500\n",
      "\u001b[1m66/66\u001b[0m \u001b[32m━━━━━━━━━━━━━━━━━━━━\u001b[0m\u001b[37m\u001b[0m \u001b[1m0s\u001b[0m 2ms/step - accuracy: 0.7338 - loss: 0.6474 - val_accuracy: 0.7221 - val_loss: 0.6679\n",
      "Epoch 47/500\n",
      "\u001b[1m66/66\u001b[0m \u001b[32m━━━━━━━━━━━━━━━━━━━━\u001b[0m\u001b[37m\u001b[0m \u001b[1m0s\u001b[0m 2ms/step - accuracy: 0.7364 - loss: 0.6434 - val_accuracy: 0.7229 - val_loss: 0.6631\n",
      "Epoch 48/500\n",
      "\u001b[1m66/66\u001b[0m \u001b[32m━━━━━━━━━━━━━━━━━━━━\u001b[0m\u001b[37m\u001b[0m \u001b[1m0s\u001b[0m 2ms/step - accuracy: 0.7331 - loss: 0.6417 - val_accuracy: 0.7286 - val_loss: 0.6632\n",
      "Epoch 49/500\n",
      "\u001b[1m66/66\u001b[0m \u001b[32m━━━━━━━━━━━━━━━━━━━━\u001b[0m\u001b[37m\u001b[0m \u001b[1m0s\u001b[0m 2ms/step - accuracy: 0.7324 - loss: 0.6374 - val_accuracy: 0.7257 - val_loss: 0.6588\n",
      "Epoch 50/500\n",
      "\u001b[1m66/66\u001b[0m \u001b[32m━━━━━━━━━━━━━━━━━━━━\u001b[0m\u001b[37m\u001b[0m \u001b[1m0s\u001b[0m 2ms/step - accuracy: 0.7345 - loss: 0.6341 - val_accuracy: 0.7279 - val_loss: 0.6564\n",
      "Epoch 51/500\n",
      "\u001b[1m66/66\u001b[0m \u001b[32m━━━━━━━━━━━━━━━━━━━━\u001b[0m\u001b[37m\u001b[0m \u001b[1m0s\u001b[0m 2ms/step - accuracy: 0.7360 - loss: 0.6313 - val_accuracy: 0.7243 - val_loss: 0.6550\n",
      "Epoch 52/500\n",
      "\u001b[1m66/66\u001b[0m \u001b[32m━━━━━━━━━━━━━━━━━━━━\u001b[0m\u001b[37m\u001b[0m \u001b[1m0s\u001b[0m 2ms/step - accuracy: 0.7383 - loss: 0.6278 - val_accuracy: 0.7236 - val_loss: 0.6543\n",
      "Epoch 53/500\n",
      "\u001b[1m66/66\u001b[0m \u001b[32m━━━━━━━━━━━━━━━━━━━━\u001b[0m\u001b[37m\u001b[0m \u001b[1m0s\u001b[0m 2ms/step - accuracy: 0.7417 - loss: 0.6244 - val_accuracy: 0.7257 - val_loss: 0.6535\n",
      "Epoch 54/500\n",
      "\u001b[1m66/66\u001b[0m \u001b[32m━━━━━━━━━━━━━━━━━━━━\u001b[0m\u001b[37m\u001b[0m \u001b[1m0s\u001b[0m 2ms/step - accuracy: 0.7429 - loss: 0.6245 - val_accuracy: 0.7200 - val_loss: 0.6513\n",
      "Epoch 55/500\n",
      "\u001b[1m66/66\u001b[0m \u001b[32m━━━━━━━━━━━━━━━━━━━━\u001b[0m\u001b[37m\u001b[0m \u001b[1m0s\u001b[0m 2ms/step - accuracy: 0.7436 - loss: 0.6198 - val_accuracy: 0.7279 - val_loss: 0.6478\n",
      "Epoch 56/500\n",
      "\u001b[1m66/66\u001b[0m \u001b[32m━━━━━━━━━━━━━━━━━━━━\u001b[0m\u001b[37m\u001b[0m \u001b[1m0s\u001b[0m 2ms/step - accuracy: 0.7424 - loss: 0.6200 - val_accuracy: 0.7229 - val_loss: 0.6482\n",
      "Epoch 57/500\n",
      "\u001b[1m66/66\u001b[0m \u001b[32m━━━━━━━━━━━━━━━━━━━━\u001b[0m\u001b[37m\u001b[0m \u001b[1m0s\u001b[0m 2ms/step - accuracy: 0.7467 - loss: 0.6139 - val_accuracy: 0.7264 - val_loss: 0.6495\n",
      "Epoch 58/500\n",
      "\u001b[1m66/66\u001b[0m \u001b[32m━━━━━━━━━━━━━━━━━━━━\u001b[0m\u001b[37m\u001b[0m \u001b[1m0s\u001b[0m 2ms/step - accuracy: 0.7452 - loss: 0.6124 - val_accuracy: 0.7236 - val_loss: 0.6580\n",
      "Epoch 59/500\n",
      "\u001b[1m66/66\u001b[0m \u001b[32m━━━━━━━━━━━━━━━━━━━━\u001b[0m\u001b[37m\u001b[0m \u001b[1m0s\u001b[0m 2ms/step - accuracy: 0.7464 - loss: 0.6094 - val_accuracy: 0.7307 - val_loss: 0.6418\n",
      "Epoch 60/500\n",
      "\u001b[1m66/66\u001b[0m \u001b[32m━━━━━━━━━━━━━━━━━━━━\u001b[0m\u001b[37m\u001b[0m \u001b[1m0s\u001b[0m 2ms/step - accuracy: 0.7457 - loss: 0.6062 - val_accuracy: 0.7286 - val_loss: 0.6441\n",
      "Epoch 61/500\n",
      "\u001b[1m66/66\u001b[0m \u001b[32m━━━━━━━━━━━━━━━━━━━━\u001b[0m\u001b[37m\u001b[0m \u001b[1m0s\u001b[0m 2ms/step - accuracy: 0.7495 - loss: 0.6039 - val_accuracy: 0.7250 - val_loss: 0.6395\n",
      "Epoch 62/500\n",
      "\u001b[1m66/66\u001b[0m \u001b[32m━━━━━━━━━━━━━━━━━━━━\u001b[0m\u001b[37m\u001b[0m \u001b[1m0s\u001b[0m 2ms/step - accuracy: 0.7540 - loss: 0.6006 - val_accuracy: 0.7293 - val_loss: 0.6376\n",
      "Epoch 63/500\n",
      "\u001b[1m66/66\u001b[0m \u001b[32m━━━━━━━━━━━━━━━━━━━━\u001b[0m\u001b[37m\u001b[0m \u001b[1m0s\u001b[0m 2ms/step - accuracy: 0.7529 - loss: 0.5970 - val_accuracy: 0.7371 - val_loss: 0.6374\n",
      "Epoch 64/500\n",
      "\u001b[1m66/66\u001b[0m \u001b[32m━━━━━━━━━━━━━━━━━━━━\u001b[0m\u001b[37m\u001b[0m \u001b[1m0s\u001b[0m 2ms/step - accuracy: 0.7555 - loss: 0.5953 - val_accuracy: 0.7314 - val_loss: 0.6339\n",
      "Epoch 65/500\n",
      "\u001b[1m66/66\u001b[0m \u001b[32m━━━━━━━━━━━━━━━━━━━━\u001b[0m\u001b[37m\u001b[0m \u001b[1m0s\u001b[0m 2ms/step - accuracy: 0.7524 - loss: 0.5929 - val_accuracy: 0.7321 - val_loss: 0.6335\n",
      "Epoch 66/500\n",
      "\u001b[1m66/66\u001b[0m \u001b[32m━━━━━━━━━━━━━━━━━━━━\u001b[0m\u001b[37m\u001b[0m \u001b[1m0s\u001b[0m 2ms/step - accuracy: 0.7550 - loss: 0.5905 - val_accuracy: 0.7329 - val_loss: 0.6326\n",
      "Epoch 67/500\n",
      "\u001b[1m66/66\u001b[0m \u001b[32m━━━━━━━━━━━━━━━━━━━━\u001b[0m\u001b[37m\u001b[0m \u001b[1m0s\u001b[0m 2ms/step - accuracy: 0.7614 - loss: 0.5877 - val_accuracy: 0.7314 - val_loss: 0.6323\n",
      "Epoch 68/500\n",
      "\u001b[1m66/66\u001b[0m \u001b[32m━━━━━━━━━━━━━━━━━━━━\u001b[0m\u001b[37m\u001b[0m \u001b[1m0s\u001b[0m 2ms/step - accuracy: 0.7574 - loss: 0.5847 - val_accuracy: 0.7293 - val_loss: 0.6303\n",
      "Epoch 69/500\n",
      "\u001b[1m66/66\u001b[0m \u001b[32m━━━━━━━━━━━━━━━━━━━━\u001b[0m\u001b[37m\u001b[0m \u001b[1m0s\u001b[0m 2ms/step - accuracy: 0.7605 - loss: 0.5844 - val_accuracy: 0.7336 - val_loss: 0.6293\n",
      "Epoch 70/500\n",
      "\u001b[1m66/66\u001b[0m \u001b[32m━━━━━━━━━━━━━━━━━━━━\u001b[0m\u001b[37m\u001b[0m \u001b[1m0s\u001b[0m 2ms/step - accuracy: 0.7583 - loss: 0.5803 - val_accuracy: 0.7321 - val_loss: 0.6327\n",
      "Epoch 71/500\n",
      "\u001b[1m66/66\u001b[0m \u001b[32m━━━━━━━━━━━━━━━━━━━━\u001b[0m\u001b[37m\u001b[0m \u001b[1m0s\u001b[0m 2ms/step - accuracy: 0.7617 - loss: 0.5791 - val_accuracy: 0.7393 - val_loss: 0.6252\n",
      "Epoch 72/500\n",
      "\u001b[1m66/66\u001b[0m \u001b[32m━━━━━━━━━━━━━━━━━━━━\u001b[0m\u001b[37m\u001b[0m \u001b[1m0s\u001b[0m 2ms/step - accuracy: 0.7631 - loss: 0.5759 - val_accuracy: 0.7336 - val_loss: 0.6269\n",
      "Epoch 73/500\n",
      "\u001b[1m66/66\u001b[0m \u001b[32m━━━━━━━━━━━━━━━━━━━━\u001b[0m\u001b[37m\u001b[0m \u001b[1m0s\u001b[0m 2ms/step - accuracy: 0.7633 - loss: 0.5737 - val_accuracy: 0.7400 - val_loss: 0.6219\n",
      "Epoch 74/500\n",
      "\u001b[1m66/66\u001b[0m \u001b[32m━━━━━━━━━━━━━━━━━━━━\u001b[0m\u001b[37m\u001b[0m \u001b[1m0s\u001b[0m 2ms/step - accuracy: 0.7636 - loss: 0.5717 - val_accuracy: 0.7429 - val_loss: 0.6237\n",
      "Epoch 75/500\n",
      "\u001b[1m66/66\u001b[0m \u001b[32m━━━━━━━━━━━━━━━━━━━━\u001b[0m\u001b[37m\u001b[0m \u001b[1m0s\u001b[0m 2ms/step - accuracy: 0.7676 - loss: 0.5685 - val_accuracy: 0.7436 - val_loss: 0.6200\n",
      "Epoch 76/500\n",
      "\u001b[1m66/66\u001b[0m \u001b[32m━━━━━━━━━━━━━━━━━━━━\u001b[0m\u001b[37m\u001b[0m \u001b[1m0s\u001b[0m 2ms/step - accuracy: 0.7702 - loss: 0.5664 - val_accuracy: 0.7443 - val_loss: 0.6175\n",
      "Epoch 77/500\n",
      "\u001b[1m66/66\u001b[0m \u001b[32m━━━━━━━━━━━━━━━━━━━━\u001b[0m\u001b[37m\u001b[0m \u001b[1m0s\u001b[0m 2ms/step - accuracy: 0.7695 - loss: 0.5638 - val_accuracy: 0.7400 - val_loss: 0.6159\n",
      "Epoch 78/500\n",
      "\u001b[1m66/66\u001b[0m \u001b[32m━━━━━━━━━━━━━━━━━━━━\u001b[0m\u001b[37m\u001b[0m \u001b[1m0s\u001b[0m 2ms/step - accuracy: 0.7693 - loss: 0.5625 - val_accuracy: 0.7443 - val_loss: 0.6161\n",
      "Epoch 79/500\n",
      "\u001b[1m66/66\u001b[0m \u001b[32m━━━━━━━━━━━━━━━━━━━━\u001b[0m\u001b[37m\u001b[0m \u001b[1m0s\u001b[0m 2ms/step - accuracy: 0.7743 - loss: 0.5582 - val_accuracy: 0.7443 - val_loss: 0.6138\n",
      "Epoch 80/500\n",
      "\u001b[1m66/66\u001b[0m \u001b[32m━━━━━━━━━━━━━━━━━━━━\u001b[0m\u001b[37m\u001b[0m \u001b[1m0s\u001b[0m 2ms/step - accuracy: 0.7736 - loss: 0.5566 - val_accuracy: 0.7457 - val_loss: 0.6136\n",
      "Epoch 81/500\n",
      "\u001b[1m66/66\u001b[0m \u001b[32m━━━━━━━━━━━━━━━━━━━━\u001b[0m\u001b[37m\u001b[0m \u001b[1m0s\u001b[0m 2ms/step - accuracy: 0.7721 - loss: 0.5555 - val_accuracy: 0.7414 - val_loss: 0.6130\n",
      "Epoch 82/500\n",
      "\u001b[1m66/66\u001b[0m \u001b[32m━━━━━━━━━━━━━━━━━━━━\u001b[0m\u001b[37m\u001b[0m \u001b[1m0s\u001b[0m 2ms/step - accuracy: 0.7764 - loss: 0.5536 - val_accuracy: 0.7421 - val_loss: 0.6151\n",
      "Epoch 83/500\n",
      "\u001b[1m66/66\u001b[0m \u001b[32m━━━━━━━━━━━━━━━━━━━━\u001b[0m\u001b[37m\u001b[0m \u001b[1m0s\u001b[0m 2ms/step - accuracy: 0.7769 - loss: 0.5499 - val_accuracy: 0.7421 - val_loss: 0.6165\n",
      "Epoch 84/500\n",
      "\u001b[1m66/66\u001b[0m \u001b[32m━━━━━━━━━━━━━━━━━━━━\u001b[0m\u001b[37m\u001b[0m \u001b[1m0s\u001b[0m 2ms/step - accuracy: 0.7786 - loss: 0.5484 - val_accuracy: 0.7450 - val_loss: 0.6086\n",
      "Epoch 85/500\n",
      "\u001b[1m66/66\u001b[0m \u001b[32m━━━━━━━━━━━━━━━━━━━━\u001b[0m\u001b[37m\u001b[0m \u001b[1m0s\u001b[0m 2ms/step - accuracy: 0.7767 - loss: 0.5451 - val_accuracy: 0.7436 - val_loss: 0.6082\n",
      "Epoch 86/500\n",
      "\u001b[1m66/66\u001b[0m \u001b[32m━━━━━━━━━━━━━━━━━━━━\u001b[0m\u001b[37m\u001b[0m \u001b[1m0s\u001b[0m 2ms/step - accuracy: 0.7779 - loss: 0.5436 - val_accuracy: 0.7450 - val_loss: 0.6130\n",
      "Epoch 87/500\n",
      "\u001b[1m66/66\u001b[0m \u001b[32m━━━━━━━━━━━━━━━━━━━━\u001b[0m\u001b[37m\u001b[0m \u001b[1m0s\u001b[0m 2ms/step - accuracy: 0.7814 - loss: 0.5402 - val_accuracy: 0.7471 - val_loss: 0.6077\n",
      "Epoch 88/500\n",
      "\u001b[1m66/66\u001b[0m \u001b[32m━━━━━━━━━━━━━━━━━━━━\u001b[0m\u001b[37m\u001b[0m \u001b[1m0s\u001b[0m 2ms/step - accuracy: 0.7814 - loss: 0.5416 - val_accuracy: 0.7436 - val_loss: 0.6072\n",
      "Epoch 89/500\n",
      "\u001b[1m66/66\u001b[0m \u001b[32m━━━━━━━━━━━━━━━━━━━━\u001b[0m\u001b[37m\u001b[0m \u001b[1m0s\u001b[0m 2ms/step - accuracy: 0.7845 - loss: 0.5370 - val_accuracy: 0.7479 - val_loss: 0.6075\n",
      "Epoch 90/500\n",
      "\u001b[1m66/66\u001b[0m \u001b[32m━━━━━━━━━━━━━━━━━━━━\u001b[0m\u001b[37m\u001b[0m \u001b[1m0s\u001b[0m 2ms/step - accuracy: 0.7812 - loss: 0.5352 - val_accuracy: 0.7507 - val_loss: 0.6016\n",
      "Epoch 91/500\n",
      "\u001b[1m66/66\u001b[0m \u001b[32m━━━━━━━━━━━━━━━━━━━━\u001b[0m\u001b[37m\u001b[0m \u001b[1m0s\u001b[0m 2ms/step - accuracy: 0.7857 - loss: 0.5331 - val_accuracy: 0.7514 - val_loss: 0.6026\n",
      "Epoch 92/500\n",
      "\u001b[1m66/66\u001b[0m \u001b[32m━━━━━━━━━━━━━━━━━━━━\u001b[0m\u001b[37m\u001b[0m \u001b[1m0s\u001b[0m 2ms/step - accuracy: 0.7840 - loss: 0.5324 - val_accuracy: 0.7479 - val_loss: 0.5992\n",
      "Epoch 93/500\n",
      "\u001b[1m66/66\u001b[0m \u001b[32m━━━━━━━━━━━━━━━━━━━━\u001b[0m\u001b[37m\u001b[0m \u001b[1m0s\u001b[0m 2ms/step - accuracy: 0.7860 - loss: 0.5286 - val_accuracy: 0.7486 - val_loss: 0.6013\n",
      "Epoch 94/500\n",
      "\u001b[1m66/66\u001b[0m \u001b[32m━━━━━━━━━━━━━━━━━━━━\u001b[0m\u001b[37m\u001b[0m \u001b[1m0s\u001b[0m 2ms/step - accuracy: 0.7862 - loss: 0.5263 - val_accuracy: 0.7536 - val_loss: 0.5974\n",
      "Epoch 95/500\n",
      "\u001b[1m66/66\u001b[0m \u001b[32m━━━━━━━━━━━━━━━━━━━━\u001b[0m\u001b[37m\u001b[0m \u001b[1m0s\u001b[0m 2ms/step - accuracy: 0.7883 - loss: 0.5243 - val_accuracy: 0.7514 - val_loss: 0.6021\n",
      "Epoch 96/500\n",
      "\u001b[1m66/66\u001b[0m \u001b[32m━━━━━━━━━━━━━━━━━━━━\u001b[0m\u001b[37m\u001b[0m \u001b[1m0s\u001b[0m 2ms/step - accuracy: 0.7881 - loss: 0.5229 - val_accuracy: 0.7557 - val_loss: 0.5974\n",
      "Epoch 97/500\n",
      "\u001b[1m66/66\u001b[0m \u001b[32m━━━━━━━━━━━━━━━━━━━━\u001b[0m\u001b[37m\u001b[0m \u001b[1m0s\u001b[0m 2ms/step - accuracy: 0.7895 - loss: 0.5212 - val_accuracy: 0.7486 - val_loss: 0.5954\n",
      "Epoch 98/500\n",
      "\u001b[1m66/66\u001b[0m \u001b[32m━━━━━━━━━━━━━━━━━━━━\u001b[0m\u001b[37m\u001b[0m \u001b[1m0s\u001b[0m 2ms/step - accuracy: 0.7855 - loss: 0.5179 - val_accuracy: 0.7521 - val_loss: 0.5958\n",
      "Epoch 99/500\n",
      "\u001b[1m66/66\u001b[0m \u001b[32m━━━━━━━━━━━━━━━━━━━━\u001b[0m\u001b[37m\u001b[0m \u001b[1m0s\u001b[0m 2ms/step - accuracy: 0.7876 - loss: 0.5164 - val_accuracy: 0.7607 - val_loss: 0.5943\n",
      "Epoch 100/500\n",
      "\u001b[1m66/66\u001b[0m \u001b[32m━━━━━━━━━━━━━━━━━━━━\u001b[0m\u001b[37m\u001b[0m \u001b[1m0s\u001b[0m 2ms/step - accuracy: 0.7917 - loss: 0.5134 - val_accuracy: 0.7514 - val_loss: 0.5942\n",
      "Epoch 101/500\n",
      "\u001b[1m66/66\u001b[0m \u001b[32m━━━━━━━━━━━━━━━━━━━━\u001b[0m\u001b[37m\u001b[0m \u001b[1m0s\u001b[0m 2ms/step - accuracy: 0.7940 - loss: 0.5125 - val_accuracy: 0.7536 - val_loss: 0.5933\n",
      "Epoch 102/500\n",
      "\u001b[1m66/66\u001b[0m \u001b[32m━━━━━━━━━━━━━━━━━━━━\u001b[0m\u001b[37m\u001b[0m \u001b[1m0s\u001b[0m 2ms/step - accuracy: 0.7933 - loss: 0.5098 - val_accuracy: 0.7529 - val_loss: 0.5959\n",
      "Epoch 103/500\n",
      "\u001b[1m66/66\u001b[0m \u001b[32m━━━━━━━━━━━━━━━━━━━━\u001b[0m\u001b[37m\u001b[0m \u001b[1m0s\u001b[0m 2ms/step - accuracy: 0.7950 - loss: 0.5077 - val_accuracy: 0.7550 - val_loss: 0.5896\n",
      "Epoch 104/500\n",
      "\u001b[1m66/66\u001b[0m \u001b[32m━━━━━━━━━━━━━━━━━━━━\u001b[0m\u001b[37m\u001b[0m \u001b[1m0s\u001b[0m 2ms/step - accuracy: 0.7967 - loss: 0.5048 - val_accuracy: 0.7571 - val_loss: 0.5921\n",
      "Epoch 105/500\n",
      "\u001b[1m66/66\u001b[0m \u001b[32m━━━━━━━━━━━━━━━━━━━━\u001b[0m\u001b[37m\u001b[0m \u001b[1m0s\u001b[0m 2ms/step - accuracy: 0.8005 - loss: 0.5036 - val_accuracy: 0.7550 - val_loss: 0.5870\n",
      "Epoch 106/500\n",
      "\u001b[1m66/66\u001b[0m \u001b[32m━━━━━━━━━━━━━━━━━━━━\u001b[0m\u001b[37m\u001b[0m \u001b[1m0s\u001b[0m 2ms/step - accuracy: 0.7976 - loss: 0.5024 - val_accuracy: 0.7607 - val_loss: 0.5865\n",
      "Epoch 107/500\n",
      "\u001b[1m66/66\u001b[0m \u001b[32m━━━━━━━━━━━━━━━━━━━━\u001b[0m\u001b[37m\u001b[0m \u001b[1m0s\u001b[0m 2ms/step - accuracy: 0.8012 - loss: 0.5009 - val_accuracy: 0.7571 - val_loss: 0.5886\n",
      "Epoch 108/500\n",
      "\u001b[1m66/66\u001b[0m \u001b[32m━━━━━━━━━━━━━━━━━━━━\u001b[0m\u001b[37m\u001b[0m \u001b[1m0s\u001b[0m 2ms/step - accuracy: 0.7974 - loss: 0.4991 - val_accuracy: 0.7614 - val_loss: 0.5873\n",
      "Epoch 109/500\n",
      "\u001b[1m66/66\u001b[0m \u001b[32m━━━━━━━━━━━━━━━━━━━━\u001b[0m\u001b[37m\u001b[0m \u001b[1m0s\u001b[0m 2ms/step - accuracy: 0.8045 - loss: 0.4955 - val_accuracy: 0.7550 - val_loss: 0.5914\n",
      "Epoch 110/500\n",
      "\u001b[1m66/66\u001b[0m \u001b[32m━━━━━━━━━━━━━━━━━━━━\u001b[0m\u001b[37m\u001b[0m \u001b[1m0s\u001b[0m 2ms/step - accuracy: 0.7993 - loss: 0.4952 - val_accuracy: 0.7600 - val_loss: 0.5860\n",
      "Epoch 111/500\n",
      "\u001b[1m66/66\u001b[0m \u001b[32m━━━━━━━━━━━━━━━━━━━━\u001b[0m\u001b[37m\u001b[0m \u001b[1m0s\u001b[0m 2ms/step - accuracy: 0.7979 - loss: 0.4924 - val_accuracy: 0.7557 - val_loss: 0.5864\n",
      "Epoch 112/500\n",
      "\u001b[1m66/66\u001b[0m \u001b[32m━━━━━━━━━━━━━━━━━━━━\u001b[0m\u001b[37m\u001b[0m \u001b[1m0s\u001b[0m 2ms/step - accuracy: 0.8083 - loss: 0.4897 - val_accuracy: 0.7550 - val_loss: 0.5851\n",
      "Epoch 113/500\n",
      "\u001b[1m66/66\u001b[0m \u001b[32m━━━━━━━━━━━━━━━━━━━━\u001b[0m\u001b[37m\u001b[0m \u001b[1m0s\u001b[0m 2ms/step - accuracy: 0.8055 - loss: 0.4898 - val_accuracy: 0.7550 - val_loss: 0.5852\n",
      "Epoch 114/500\n",
      "\u001b[1m66/66\u001b[0m \u001b[32m━━━━━━━━━━━━━━━━━━━━\u001b[0m\u001b[37m\u001b[0m \u001b[1m0s\u001b[0m 2ms/step - accuracy: 0.8038 - loss: 0.4870 - val_accuracy: 0.7521 - val_loss: 0.5881\n",
      "Epoch 115/500\n",
      "\u001b[1m66/66\u001b[0m \u001b[32m━━━━━━━━━━━━━━━━━━━━\u001b[0m\u001b[37m\u001b[0m \u001b[1m0s\u001b[0m 2ms/step - accuracy: 0.8050 - loss: 0.4866 - val_accuracy: 0.7600 - val_loss: 0.5814\n",
      "Epoch 116/500\n",
      "\u001b[1m66/66\u001b[0m \u001b[32m━━━━━━━━━━━━━━━━━━━━\u001b[0m\u001b[37m\u001b[0m \u001b[1m0s\u001b[0m 2ms/step - accuracy: 0.8083 - loss: 0.4848 - val_accuracy: 0.7614 - val_loss: 0.5796\n",
      "Epoch 117/500\n",
      "\u001b[1m66/66\u001b[0m \u001b[32m━━━━━━━━━━━━━━━━━━━━\u001b[0m\u001b[37m\u001b[0m \u001b[1m0s\u001b[0m 2ms/step - accuracy: 0.8050 - loss: 0.4828 - val_accuracy: 0.7607 - val_loss: 0.5810\n",
      "Epoch 118/500\n",
      "\u001b[1m66/66\u001b[0m \u001b[32m━━━━━━━━━━━━━━━━━━━━\u001b[0m\u001b[37m\u001b[0m \u001b[1m0s\u001b[0m 2ms/step - accuracy: 0.8071 - loss: 0.4805 - val_accuracy: 0.7657 - val_loss: 0.5797\n",
      "Epoch 119/500\n",
      "\u001b[1m66/66\u001b[0m \u001b[32m━━━━━━━━━━━━━━━━━━━━\u001b[0m\u001b[37m\u001b[0m \u001b[1m0s\u001b[0m 2ms/step - accuracy: 0.8086 - loss: 0.4772 - val_accuracy: 0.7579 - val_loss: 0.5852\n",
      "Epoch 120/500\n",
      "\u001b[1m66/66\u001b[0m \u001b[32m━━━━━━━━━━━━━━━━━━━━\u001b[0m\u001b[37m\u001b[0m \u001b[1m0s\u001b[0m 2ms/step - accuracy: 0.8093 - loss: 0.4774 - val_accuracy: 0.7593 - val_loss: 0.5801\n",
      "Epoch 121/500\n",
      "\u001b[1m66/66\u001b[0m \u001b[32m━━━━━━━━━━━━━━━━━━━━\u001b[0m\u001b[37m\u001b[0m \u001b[1m0s\u001b[0m 2ms/step - accuracy: 0.8086 - loss: 0.4768 - val_accuracy: 0.7600 - val_loss: 0.5839\n",
      "Epoch 122/500\n",
      "\u001b[1m66/66\u001b[0m \u001b[32m━━━━━━━━━━━━━━━━━━━━\u001b[0m\u001b[37m\u001b[0m \u001b[1m0s\u001b[0m 2ms/step - accuracy: 0.8124 - loss: 0.4729 - val_accuracy: 0.7564 - val_loss: 0.5813\n",
      "Epoch 123/500\n",
      "\u001b[1m66/66\u001b[0m \u001b[32m━━━━━━━━━━━━━━━━━━━━\u001b[0m\u001b[37m\u001b[0m \u001b[1m0s\u001b[0m 2ms/step - accuracy: 0.8112 - loss: 0.4719 - val_accuracy: 0.7664 - val_loss: 0.5781\n",
      "Epoch 124/500\n",
      "\u001b[1m66/66\u001b[0m \u001b[32m━━━━━━━━━━━━━━━━━━━━\u001b[0m\u001b[37m\u001b[0m \u001b[1m0s\u001b[0m 2ms/step - accuracy: 0.8119 - loss: 0.4708 - val_accuracy: 0.7586 - val_loss: 0.5796\n",
      "Epoch 125/500\n",
      "\u001b[1m66/66\u001b[0m \u001b[32m━━━━━━━━━━━━━━━━━━━━\u001b[0m\u001b[37m\u001b[0m \u001b[1m0s\u001b[0m 2ms/step - accuracy: 0.8110 - loss: 0.4693 - val_accuracy: 0.7629 - val_loss: 0.5751\n",
      "Epoch 126/500\n",
      "\u001b[1m66/66\u001b[0m \u001b[32m━━━━━━━━━━━━━━━━━━━━\u001b[0m\u001b[37m\u001b[0m \u001b[1m0s\u001b[0m 2ms/step - accuracy: 0.8129 - loss: 0.4654 - val_accuracy: 0.7700 - val_loss: 0.5761\n",
      "Epoch 127/500\n",
      "\u001b[1m66/66\u001b[0m \u001b[32m━━━━━━━━━━━━━━━━━━━━\u001b[0m\u001b[37m\u001b[0m \u001b[1m0s\u001b[0m 2ms/step - accuracy: 0.8150 - loss: 0.4640 - val_accuracy: 0.7693 - val_loss: 0.5757\n",
      "Epoch 128/500\n",
      "\u001b[1m66/66\u001b[0m \u001b[32m━━━━━━━━━━━━━━━━━━━━\u001b[0m\u001b[37m\u001b[0m \u001b[1m0s\u001b[0m 2ms/step - accuracy: 0.8140 - loss: 0.4630 - val_accuracy: 0.7657 - val_loss: 0.5728\n",
      "Epoch 129/500\n",
      "\u001b[1m66/66\u001b[0m \u001b[32m━━━━━━━━━━━━━━━━━━━━\u001b[0m\u001b[37m\u001b[0m \u001b[1m0s\u001b[0m 2ms/step - accuracy: 0.8152 - loss: 0.4612 - val_accuracy: 0.7614 - val_loss: 0.5744\n",
      "Epoch 130/500\n",
      "\u001b[1m66/66\u001b[0m \u001b[32m━━━━━━━━━━━━━━━━━━━━\u001b[0m\u001b[37m\u001b[0m \u001b[1m0s\u001b[0m 2ms/step - accuracy: 0.8167 - loss: 0.4586 - val_accuracy: 0.7593 - val_loss: 0.5740\n",
      "Epoch 131/500\n",
      "\u001b[1m66/66\u001b[0m \u001b[32m━━━━━━━━━━━━━━━━━━━━\u001b[0m\u001b[37m\u001b[0m \u001b[1m0s\u001b[0m 2ms/step - accuracy: 0.8183 - loss: 0.4565 - val_accuracy: 0.7614 - val_loss: 0.5703\n",
      "Epoch 132/500\n",
      "\u001b[1m66/66\u001b[0m \u001b[32m━━━━━━━━━━━━━━━━━━━━\u001b[0m\u001b[37m\u001b[0m \u001b[1m0s\u001b[0m 2ms/step - accuracy: 0.8157 - loss: 0.4553 - val_accuracy: 0.7650 - val_loss: 0.5723\n",
      "Epoch 133/500\n",
      "\u001b[1m66/66\u001b[0m \u001b[32m━━━━━━━━━━━━━━━━━━━━\u001b[0m\u001b[37m\u001b[0m \u001b[1m0s\u001b[0m 2ms/step - accuracy: 0.8148 - loss: 0.4551 - val_accuracy: 0.7636 - val_loss: 0.5718\n",
      "Epoch 134/500\n",
      "\u001b[1m66/66\u001b[0m \u001b[32m━━━━━━━━━━━━━━━━━━━━\u001b[0m\u001b[37m\u001b[0m \u001b[1m0s\u001b[0m 2ms/step - accuracy: 0.8183 - loss: 0.4527 - val_accuracy: 0.7614 - val_loss: 0.5704\n",
      "Epoch 135/500\n",
      "\u001b[1m66/66\u001b[0m \u001b[32m━━━━━━━━━━━━━━━━━━━━\u001b[0m\u001b[37m\u001b[0m \u001b[1m0s\u001b[0m 2ms/step - accuracy: 0.8236 - loss: 0.4511 - val_accuracy: 0.7629 - val_loss: 0.5721\n",
      "Epoch 136/500\n",
      "\u001b[1m66/66\u001b[0m \u001b[32m━━━━━━━━━━━━━━━━━━━━\u001b[0m\u001b[37m\u001b[0m \u001b[1m0s\u001b[0m 2ms/step - accuracy: 0.8195 - loss: 0.4500 - val_accuracy: 0.7621 - val_loss: 0.5693\n",
      "Epoch 137/500\n",
      "\u001b[1m66/66\u001b[0m \u001b[32m━━━━━━━━━━━━━━━━━━━━\u001b[0m\u001b[37m\u001b[0m \u001b[1m0s\u001b[0m 2ms/step - accuracy: 0.8217 - loss: 0.4466 - val_accuracy: 0.7664 - val_loss: 0.5685\n",
      "Epoch 138/500\n",
      "\u001b[1m66/66\u001b[0m \u001b[32m━━━━━━━━━━━━━━━━━━━━\u001b[0m\u001b[37m\u001b[0m \u001b[1m0s\u001b[0m 2ms/step - accuracy: 0.8231 - loss: 0.4464 - val_accuracy: 0.7686 - val_loss: 0.5717\n",
      "Epoch 139/500\n",
      "\u001b[1m66/66\u001b[0m \u001b[32m━━━━━━━━━━━━━━━━━━━━\u001b[0m\u001b[37m\u001b[0m \u001b[1m0s\u001b[0m 2ms/step - accuracy: 0.8257 - loss: 0.4461 - val_accuracy: 0.7650 - val_loss: 0.5653\n",
      "Epoch 140/500\n",
      "\u001b[1m66/66\u001b[0m \u001b[32m━━━━━━━━━━━━━━━━━━━━\u001b[0m\u001b[37m\u001b[0m \u001b[1m0s\u001b[0m 2ms/step - accuracy: 0.8243 - loss: 0.4433 - val_accuracy: 0.7657 - val_loss: 0.5658\n",
      "Epoch 141/500\n",
      "\u001b[1m66/66\u001b[0m \u001b[32m━━━━━━━━━━━━━━━━━━━━\u001b[0m\u001b[37m\u001b[0m \u001b[1m0s\u001b[0m 2ms/step - accuracy: 0.8252 - loss: 0.4412 - val_accuracy: 0.7657 - val_loss: 0.5673\n",
      "Epoch 142/500\n",
      "\u001b[1m66/66\u001b[0m \u001b[32m━━━━━━━━━━━━━━━━━━━━\u001b[0m\u001b[37m\u001b[0m \u001b[1m0s\u001b[0m 2ms/step - accuracy: 0.8255 - loss: 0.4402 - val_accuracy: 0.7664 - val_loss: 0.5686\n",
      "Epoch 143/500\n",
      "\u001b[1m66/66\u001b[0m \u001b[32m━━━━━━━━━━━━━━━━━━━━\u001b[0m\u001b[37m\u001b[0m \u001b[1m0s\u001b[0m 2ms/step - accuracy: 0.8255 - loss: 0.4402 - val_accuracy: 0.7707 - val_loss: 0.5687\n",
      "Epoch 144/500\n",
      "\u001b[1m66/66\u001b[0m \u001b[32m━━━━━━━━━━━━━━━━━━━━\u001b[0m\u001b[37m\u001b[0m \u001b[1m0s\u001b[0m 2ms/step - accuracy: 0.8252 - loss: 0.4371 - val_accuracy: 0.7707 - val_loss: 0.5659\n",
      "Epoch 145/500\n",
      "\u001b[1m66/66\u001b[0m \u001b[32m━━━━━━━━━━━━━━━━━━━━\u001b[0m\u001b[37m\u001b[0m \u001b[1m0s\u001b[0m 2ms/step - accuracy: 0.8271 - loss: 0.4350 - val_accuracy: 0.7664 - val_loss: 0.5652\n",
      "Epoch 146/500\n",
      "\u001b[1m66/66\u001b[0m \u001b[32m━━━━━━━━━━━━━━━━━━━━\u001b[0m\u001b[37m\u001b[0m \u001b[1m0s\u001b[0m 2ms/step - accuracy: 0.8307 - loss: 0.4327 - val_accuracy: 0.7671 - val_loss: 0.5662\n",
      "Epoch 147/500\n",
      "\u001b[1m66/66\u001b[0m \u001b[32m━━━━━━━━━━━━━━━━━━━━\u001b[0m\u001b[37m\u001b[0m \u001b[1m0s\u001b[0m 2ms/step - accuracy: 0.8290 - loss: 0.4327 - val_accuracy: 0.7714 - val_loss: 0.5645\n",
      "Epoch 148/500\n",
      "\u001b[1m66/66\u001b[0m \u001b[32m━━━━━━━━━━━━━━━━━━━━\u001b[0m\u001b[37m\u001b[0m \u001b[1m0s\u001b[0m 2ms/step - accuracy: 0.8321 - loss: 0.4300 - val_accuracy: 0.7686 - val_loss: 0.5613\n",
      "Epoch 149/500\n",
      "\u001b[1m66/66\u001b[0m \u001b[32m━━━━━━━━━━━━━━━━━━━━\u001b[0m\u001b[37m\u001b[0m \u001b[1m0s\u001b[0m 2ms/step - accuracy: 0.8307 - loss: 0.4291 - val_accuracy: 0.7743 - val_loss: 0.5644\n",
      "Epoch 150/500\n",
      "\u001b[1m66/66\u001b[0m \u001b[32m━━━━━━━━━━━━━━━━━━━━\u001b[0m\u001b[37m\u001b[0m \u001b[1m0s\u001b[0m 2ms/step - accuracy: 0.8319 - loss: 0.4273 - val_accuracy: 0.7629 - val_loss: 0.5614\n",
      "Epoch 151/500\n",
      "\u001b[1m66/66\u001b[0m \u001b[32m━━━━━━━━━━━━━━━━━━━━\u001b[0m\u001b[37m\u001b[0m \u001b[1m0s\u001b[0m 2ms/step - accuracy: 0.8305 - loss: 0.4265 - val_accuracy: 0.7650 - val_loss: 0.5702\n",
      "Epoch 152/500\n",
      "\u001b[1m66/66\u001b[0m \u001b[32m━━━━━━━━━━━━━━━━━━━━\u001b[0m\u001b[37m\u001b[0m \u001b[1m0s\u001b[0m 2ms/step - accuracy: 0.8310 - loss: 0.4249 - val_accuracy: 0.7721 - val_loss: 0.5636\n",
      "Epoch 153/500\n",
      "\u001b[1m66/66\u001b[0m \u001b[32m━━━━━━━━━━━━━━━━━━━━\u001b[0m\u001b[37m\u001b[0m \u001b[1m0s\u001b[0m 2ms/step - accuracy: 0.8329 - loss: 0.4226 - val_accuracy: 0.7743 - val_loss: 0.5686\n",
      "Epoch 154/500\n",
      "\u001b[1m66/66\u001b[0m \u001b[32m━━━━━━━━━━━━━━━━━━━━\u001b[0m\u001b[37m\u001b[0m \u001b[1m0s\u001b[0m 2ms/step - accuracy: 0.8305 - loss: 0.4212 - val_accuracy: 0.7686 - val_loss: 0.5669\n",
      "Epoch 155/500\n",
      "\u001b[1m66/66\u001b[0m \u001b[32m━━━━━━━━━━━━━━━━━━━━\u001b[0m\u001b[37m\u001b[0m \u001b[1m0s\u001b[0m 2ms/step - accuracy: 0.8295 - loss: 0.4199 - val_accuracy: 0.7736 - val_loss: 0.5652\n",
      "Epoch 156/500\n",
      "\u001b[1m66/66\u001b[0m \u001b[32m━━━━━━━━━━━━━━━━━━━━\u001b[0m\u001b[37m\u001b[0m \u001b[1m0s\u001b[0m 2ms/step - accuracy: 0.8364 - loss: 0.4183 - val_accuracy: 0.7743 - val_loss: 0.5626\n",
      "Epoch 157/500\n",
      "\u001b[1m66/66\u001b[0m \u001b[32m━━━━━━━━━━━━━━━━━━━━\u001b[0m\u001b[37m\u001b[0m \u001b[1m0s\u001b[0m 2ms/step - accuracy: 0.8340 - loss: 0.4160 - val_accuracy: 0.7707 - val_loss: 0.5628\n",
      "Epoch 158/500\n",
      "\u001b[1m66/66\u001b[0m \u001b[32m━━━━━━━━━━━━━━━━━━━━\u001b[0m\u001b[37m\u001b[0m \u001b[1m0s\u001b[0m 2ms/step - accuracy: 0.8381 - loss: 0.4148 - val_accuracy: 0.7707 - val_loss: 0.5601\n",
      "Epoch 159/500\n",
      "\u001b[1m66/66\u001b[0m \u001b[32m━━━━━━━━━━━━━━━━━━━━\u001b[0m\u001b[37m\u001b[0m \u001b[1m0s\u001b[0m 2ms/step - accuracy: 0.8390 - loss: 0.4140 - val_accuracy: 0.7700 - val_loss: 0.5603\n",
      "Epoch 160/500\n",
      "\u001b[1m66/66\u001b[0m \u001b[32m━━━━━━━━━━━━━━━━━━━━\u001b[0m\u001b[37m\u001b[0m \u001b[1m0s\u001b[0m 2ms/step - accuracy: 0.8336 - loss: 0.4133 - val_accuracy: 0.7721 - val_loss: 0.5619\n",
      "Epoch 161/500\n",
      "\u001b[1m66/66\u001b[0m \u001b[32m━━━━━━━━━━━━━━━━━━━━\u001b[0m\u001b[37m\u001b[0m \u001b[1m0s\u001b[0m 2ms/step - accuracy: 0.8367 - loss: 0.4104 - val_accuracy: 0.7743 - val_loss: 0.5612\n",
      "Epoch 162/500\n",
      "\u001b[1m66/66\u001b[0m \u001b[32m━━━━━━━━━━━━━━━━━━━━\u001b[0m\u001b[37m\u001b[0m \u001b[1m0s\u001b[0m 2ms/step - accuracy: 0.8355 - loss: 0.4103 - val_accuracy: 0.7721 - val_loss: 0.5644\n",
      "Epoch 163/500\n",
      "\u001b[1m66/66\u001b[0m \u001b[32m━━━━━━━━━━━━━━━━━━━━\u001b[0m\u001b[37m\u001b[0m \u001b[1m0s\u001b[0m 2ms/step - accuracy: 0.8388 - loss: 0.4087 - val_accuracy: 0.7843 - val_loss: 0.5602\n",
      "Epoch 164/500\n",
      "\u001b[1m66/66\u001b[0m \u001b[32m━━━━━━━━━━━━━━━━━━━━\u001b[0m\u001b[37m\u001b[0m \u001b[1m0s\u001b[0m 2ms/step - accuracy: 0.8381 - loss: 0.4065 - val_accuracy: 0.7771 - val_loss: 0.5630\n",
      "Epoch 165/500\n",
      "\u001b[1m66/66\u001b[0m \u001b[32m━━━━━━━━━━━━━━━━━━━━\u001b[0m\u001b[37m\u001b[0m \u001b[1m0s\u001b[0m 2ms/step - accuracy: 0.8402 - loss: 0.4056 - val_accuracy: 0.7721 - val_loss: 0.5614\n",
      "Epoch 166/500\n",
      "\u001b[1m66/66\u001b[0m \u001b[32m━━━━━━━━━━━━━━━━━━━━\u001b[0m\u001b[37m\u001b[0m \u001b[1m0s\u001b[0m 2ms/step - accuracy: 0.8414 - loss: 0.4051 - val_accuracy: 0.7707 - val_loss: 0.5610\n",
      "Epoch 167/500\n",
      "\u001b[1m66/66\u001b[0m \u001b[32m━━━━━━━━━━━━━━━━━━━━\u001b[0m\u001b[37m\u001b[0m \u001b[1m0s\u001b[0m 2ms/step - accuracy: 0.8364 - loss: 0.4048 - val_accuracy: 0.7707 - val_loss: 0.5595\n",
      "Epoch 168/500\n",
      "\u001b[1m66/66\u001b[0m \u001b[32m━━━━━━━━━━━━━━━━━━━━\u001b[0m\u001b[37m\u001b[0m \u001b[1m0s\u001b[0m 2ms/step - accuracy: 0.8402 - loss: 0.4021 - val_accuracy: 0.7729 - val_loss: 0.5678\n",
      "Epoch 169/500\n",
      "\u001b[1m66/66\u001b[0m \u001b[32m━━━━━━━━━━━━━━━━━━━━\u001b[0m\u001b[37m\u001b[0m \u001b[1m0s\u001b[0m 2ms/step - accuracy: 0.8398 - loss: 0.3986 - val_accuracy: 0.7736 - val_loss: 0.5572\n",
      "Epoch 170/500\n",
      "\u001b[1m66/66\u001b[0m \u001b[32m━━━━━━━━━━━━━━━━━━━━\u001b[0m\u001b[37m\u001b[0m \u001b[1m0s\u001b[0m 2ms/step - accuracy: 0.8414 - loss: 0.3990 - val_accuracy: 0.7721 - val_loss: 0.5617\n",
      "Epoch 171/500\n",
      "\u001b[1m66/66\u001b[0m \u001b[32m━━━━━━━━━━━━━━━━━━━━\u001b[0m\u001b[37m\u001b[0m \u001b[1m0s\u001b[0m 2ms/step - accuracy: 0.8464 - loss: 0.3956 - val_accuracy: 0.7693 - val_loss: 0.5608\n",
      "Epoch 172/500\n",
      "\u001b[1m66/66\u001b[0m \u001b[32m━━━━━━━━━━━━━━━━━━━━\u001b[0m\u001b[37m\u001b[0m \u001b[1m0s\u001b[0m 2ms/step - accuracy: 0.8436 - loss: 0.3963 - val_accuracy: 0.7786 - val_loss: 0.5554\n",
      "Epoch 173/500\n",
      "\u001b[1m66/66\u001b[0m \u001b[32m━━━━━━━━━━━━━━━━━━━━\u001b[0m\u001b[37m\u001b[0m \u001b[1m0s\u001b[0m 2ms/step - accuracy: 0.8402 - loss: 0.3950 - val_accuracy: 0.7771 - val_loss: 0.5600\n",
      "Epoch 174/500\n",
      "\u001b[1m66/66\u001b[0m \u001b[32m━━━━━━━━━━━━━━━━━━━━\u001b[0m\u001b[37m\u001b[0m \u001b[1m0s\u001b[0m 2ms/step - accuracy: 0.8486 - loss: 0.3927 - val_accuracy: 0.7743 - val_loss: 0.5599\n",
      "Epoch 175/500\n",
      "\u001b[1m66/66\u001b[0m \u001b[32m━━━━━━━━━━━━━━━━━━━━\u001b[0m\u001b[37m\u001b[0m \u001b[1m0s\u001b[0m 2ms/step - accuracy: 0.8421 - loss: 0.3932 - val_accuracy: 0.7729 - val_loss: 0.5596\n",
      "Epoch 176/500\n",
      "\u001b[1m66/66\u001b[0m \u001b[32m━━━━━━━━━━━━━━━━━━━━\u001b[0m\u001b[37m\u001b[0m \u001b[1m0s\u001b[0m 2ms/step - accuracy: 0.8455 - loss: 0.3904 - val_accuracy: 0.7771 - val_loss: 0.5593\n",
      "Epoch 177/500\n",
      "\u001b[1m66/66\u001b[0m \u001b[32m━━━━━━━━━━━━━━━━━━━━\u001b[0m\u001b[37m\u001b[0m \u001b[1m0s\u001b[0m 2ms/step - accuracy: 0.8483 - loss: 0.3891 - val_accuracy: 0.7793 - val_loss: 0.5576\n",
      "Epoch 178/500\n",
      "\u001b[1m66/66\u001b[0m \u001b[32m━━━━━━━━━━━━━━━━━━━━\u001b[0m\u001b[37m\u001b[0m \u001b[1m0s\u001b[0m 2ms/step - accuracy: 0.8476 - loss: 0.3883 - val_accuracy: 0.7750 - val_loss: 0.5574\n",
      "Epoch 179/500\n",
      "\u001b[1m66/66\u001b[0m \u001b[32m━━━━━━━━━━━━━━━━━━━━\u001b[0m\u001b[37m\u001b[0m \u001b[1m0s\u001b[0m 2ms/step - accuracy: 0.8474 - loss: 0.3868 - val_accuracy: 0.7736 - val_loss: 0.5584\n",
      "Epoch 180/500\n",
      "\u001b[1m66/66\u001b[0m \u001b[32m━━━━━━━━━━━━━━━━━━━━\u001b[0m\u001b[37m\u001b[0m \u001b[1m0s\u001b[0m 2ms/step - accuracy: 0.8481 - loss: 0.3861 - val_accuracy: 0.7786 - val_loss: 0.5550\n",
      "Epoch 181/500\n",
      "\u001b[1m66/66\u001b[0m \u001b[32m━━━━━━━━━━━━━━━━━━━━\u001b[0m\u001b[37m\u001b[0m \u001b[1m0s\u001b[0m 2ms/step - accuracy: 0.8467 - loss: 0.3845 - val_accuracy: 0.7757 - val_loss: 0.5574\n",
      "Epoch 182/500\n",
      "\u001b[1m66/66\u001b[0m \u001b[32m━━━━━━━━━━━━━━━━━━━━\u001b[0m\u001b[37m\u001b[0m \u001b[1m0s\u001b[0m 2ms/step - accuracy: 0.8507 - loss: 0.3828 - val_accuracy: 0.7743 - val_loss: 0.5604\n",
      "Epoch 183/500\n",
      "\u001b[1m66/66\u001b[0m \u001b[32m━━━━━━━━━━━━━━━━━━━━\u001b[0m\u001b[37m\u001b[0m \u001b[1m0s\u001b[0m 2ms/step - accuracy: 0.8519 - loss: 0.3818 - val_accuracy: 0.7750 - val_loss: 0.5569\n",
      "Epoch 184/500\n",
      "\u001b[1m66/66\u001b[0m \u001b[32m━━━━━━━━━━━━━━━━━━━━\u001b[0m\u001b[37m\u001b[0m \u001b[1m0s\u001b[0m 2ms/step - accuracy: 0.8495 - loss: 0.3819 - val_accuracy: 0.7771 - val_loss: 0.5543\n",
      "Epoch 185/500\n",
      "\u001b[1m66/66\u001b[0m \u001b[32m━━━━━━━━━━━━━━━━━━━━\u001b[0m\u001b[37m\u001b[0m \u001b[1m0s\u001b[0m 2ms/step - accuracy: 0.8526 - loss: 0.3793 - val_accuracy: 0.7743 - val_loss: 0.5616\n",
      "Epoch 186/500\n",
      "\u001b[1m66/66\u001b[0m \u001b[32m━━━━━━━━━━━━━━━━━━━━\u001b[0m\u001b[37m\u001b[0m \u001b[1m0s\u001b[0m 2ms/step - accuracy: 0.8524 - loss: 0.3780 - val_accuracy: 0.7764 - val_loss: 0.5605\n",
      "Epoch 187/500\n",
      "\u001b[1m66/66\u001b[0m \u001b[32m━━━━━━━━━━━━━━━━━━━━\u001b[0m\u001b[37m\u001b[0m \u001b[1m0s\u001b[0m 2ms/step - accuracy: 0.8545 - loss: 0.3763 - val_accuracy: 0.7750 - val_loss: 0.5596\n",
      "Epoch 188/500\n",
      "\u001b[1m66/66\u001b[0m \u001b[32m━━━━━━━━━━━━━━━━━━━━\u001b[0m\u001b[37m\u001b[0m \u001b[1m0s\u001b[0m 2ms/step - accuracy: 0.8524 - loss: 0.3763 - val_accuracy: 0.7807 - val_loss: 0.5631\n",
      "Epoch 189/500\n",
      "\u001b[1m66/66\u001b[0m \u001b[32m━━━━━━━━━━━━━━━━━━━━\u001b[0m\u001b[37m\u001b[0m \u001b[1m0s\u001b[0m 2ms/step - accuracy: 0.8529 - loss: 0.3753 - val_accuracy: 0.7786 - val_loss: 0.5588\n",
      "Epoch 190/500\n",
      "\u001b[1m66/66\u001b[0m \u001b[32m━━━━━━━━━━━━━━━━━━━━\u001b[0m\u001b[37m\u001b[0m \u001b[1m0s\u001b[0m 2ms/step - accuracy: 0.8548 - loss: 0.3741 - val_accuracy: 0.7771 - val_loss: 0.5574\n",
      "Epoch 191/500\n",
      "\u001b[1m66/66\u001b[0m \u001b[32m━━━━━━━━━━━━━━━━━━━━\u001b[0m\u001b[37m\u001b[0m \u001b[1m0s\u001b[0m 2ms/step - accuracy: 0.8538 - loss: 0.3718 - val_accuracy: 0.7764 - val_loss: 0.5586\n",
      "Epoch 192/500\n",
      "\u001b[1m66/66\u001b[0m \u001b[32m━━━━━━━━━━━━━━━━━━━━\u001b[0m\u001b[37m\u001b[0m \u001b[1m0s\u001b[0m 2ms/step - accuracy: 0.8560 - loss: 0.3705 - val_accuracy: 0.7750 - val_loss: 0.5685\n",
      "Epoch 193/500\n",
      "\u001b[1m66/66\u001b[0m \u001b[32m━━━━━━━━━━━━━━━━━━━━\u001b[0m\u001b[37m\u001b[0m \u001b[1m0s\u001b[0m 2ms/step - accuracy: 0.8571 - loss: 0.3714 - val_accuracy: 0.7721 - val_loss: 0.5630\n",
      "Epoch 194/500\n",
      "\u001b[1m66/66\u001b[0m \u001b[32m━━━━━━━━━━━━━━━━━━━━\u001b[0m\u001b[37m\u001b[0m \u001b[1m0s\u001b[0m 2ms/step - accuracy: 0.8564 - loss: 0.3682 - val_accuracy: 0.7771 - val_loss: 0.5592\n",
      "Epoch 194: early stopping\n",
      "Restoring model weights from the end of the best epoch: 184.\n"
     ]
    },
    {
     "data": {
      "image/png": "[encoded data removed]",
      "text/plain": [
       "<Figure size 800x800 with 2 Axes>"
      ]
     },
     "metadata": {},
     "output_type": "display_data"
    },
    {
     "name": "stdout",
     "output_type": "stream",
     "text": [
      "Final Training Loss:            0.3682\n",
      "Final Training Accuracy:        0.8564\n",
      "Final Validation Loss:          0.5592\n",
      "Final Validation Accuracy:      0.7771\n",
      "Minimum Validation Loss:        0.5543 (Epoch 184)\n",
      "Validation Accuracy @ Min Loss: 0.7771\n",
      "\n",
      "Test Loss: 0.5708\n",
      "Test Accuracy: 0.7700\n",
      "\n",
      "Validation-Test Gap (accuracy): 0.007143\n",
      "\n",
      "Execution Time: 00:00:27\n"
     ]
    }
   ],
   "source": [
    "# Your code here. Add as many cells as you need.\n",
    "activation = ['relu', 'tanh', 'sigmoid']\n",
    "\n",
    "for func in activation:\n",
    "    model = build_model(X_train.shape[1], [ (64, func, 0.0, 0.0), (32, func, 0.0, 0.0)], n_classes)\n",
    "    train_and_test(model, title=f\"Activation Function: {func}\", verbose=1, return_history = True)"
   ]
  },
  {
   "cell_type": "markdown",
   "id": "7599e2fc-dbe4-4ae3-b2e3-d225849c0cc8",
   "metadata": {},
   "source": [
    "### Graded Questions"
   ]
  },
  {
   "cell_type": "code",
   "execution_count": 10,
   "id": "842a7eac-08e9-4fbe-9b49-6eacf9ac0cd0",
   "metadata": {},
   "outputs": [],
   "source": [
    "# Set a1a to the activation function which provided the best validation accuracy at the epoch of minimum validation loss\n",
    "\n",
    "a1a = ...             # Replace with integer 0 (relu), 1 (sigmoid), or 2 (tanh)"
   ]
  },
  {
   "cell_type": "code",
   "execution_count": 11,
   "id": "3a9a0198-5fca-4534-bc32-038d1c9a77b2",
   "metadata": {},
   "outputs": [
    {
     "name": "stdout",
     "output_type": "stream",
     "text": [
      "a1a = Ellipsis\n"
     ]
    }
   ],
   "source": [
    "# Graded Answer\n",
    "# DO NOT change this cell in any way          \n",
    "\n",
    "print(f'a1a = {a1a}') \n"
   ]
  },
  {
   "cell_type": "code",
   "execution_count": 12,
   "id": "3d4178f3-2ec1-4d1f-a0e3-6404b85076d8",
   "metadata": {},
   "outputs": [],
   "source": [
    "# Set a1b to the validation accuracy found by this best activation function\n",
    "\n",
    "a1b = 0.0             # Replace 0.0 with your answer"
   ]
  },
  {
   "cell_type": "code",
   "execution_count": 13,
   "id": "e0d6f803-0faa-4da0-aa22-4218552d4702",
   "metadata": {},
   "outputs": [
    {
     "name": "stdout",
     "output_type": "stream",
     "text": [
      "a1b = 0.0000\n"
     ]
    }
   ],
   "source": [
    "# Graded Answer\n",
    "# DO NOT change this cell in any way          \n",
    "\n",
    "print(f'a1b = {a1b:.4f}') "
   ]
  },
  {
   "cell_type": "markdown",
   "id": "f4133730-e9a5-4b65-96a8-b59a5d7129ae",
   "metadata": {},
   "source": [
    "### Problem Two: Finding the Right Learning Rate\n",
    "\n",
    "In this problem, you will continue working with the **baseline model** and determine which learning rate produces the best performance. As before, the model you evaluate should be the one saved by **early stopping** — the epoch where validation loss is minimized.\n",
    "\n",
    "**Steps to follow:**\n",
    "\n",
    "* Build and train the **baseline model** using the **activation function identified in Problem One**.\n",
    "\n",
    "* Train and evaluate this model using each of the following learning rates:\n",
    "\n",
    "  ```\n",
    "      [1e-3, 5e-4, 1e-4, 5e-5, 1e-5]\n",
    "  ```\n",
    "\n",
    "* Identify which learning rate produces the **best validation accuracy** at the epoch of **minimum validation loss**, within a maximum of **500 epochs**.\n",
    "\n",
    "* Answer the graded questions.\n",
    "\n",
    "\n",
    "**Note: Smaller learning rates will generally take more epochs to reach the optimal point, so some of these will not engage early stopping, but run the full 500 epochs.**\n"
   ]
  },
  {
   "cell_type": "code",
   "execution_count": 14,
   "id": "af5333b3-69f2-422b-9e36-112ad3c38d4a",
   "metadata": {},
   "outputs": [],
   "source": [
    "# Your code here. Add as many cells as you need. \n"
   ]
  },
  {
   "cell_type": "markdown",
   "id": "326704ab-721b-4ae0-8920-8c1ee64deb1c",
   "metadata": {},
   "source": [
    "#### Graded Questions"
   ]
  },
  {
   "cell_type": "code",
   "execution_count": 15,
   "id": "d8df2112-8ee8-47fd-91eb-5925479a709a",
   "metadata": {},
   "outputs": [],
   "source": [
    "# Set a2a to the learning rate which provided the best validation accuracy at the epoch of minimum validation loss\n",
    "\n",
    "a2a = 0.0           # Replace 0.0 with your answer"
   ]
  },
  {
   "cell_type": "code",
   "execution_count": 16,
   "id": "d4a04f78-5620-41c8-b7ea-e1a2ae99b87a",
   "metadata": {},
   "outputs": [
    {
     "name": "stdout",
     "output_type": "stream",
     "text": [
      "a2a = 0.000000\n"
     ]
    }
   ],
   "source": [
    "# Graded Answer\n",
    "# DO NOT change this cell in any way          \n",
    "\n",
    "print(f'a2a = {a2a:.6f}') "
   ]
  },
  {
   "cell_type": "code",
   "execution_count": 17,
   "id": "c2abacc0-e2b9-49b0-8156-6b96b26571ac",
   "metadata": {},
   "outputs": [],
   "source": [
    "# Set a2b to the validation accuracy found by this best learning rate\n",
    "\n",
    "a2b = 0.0             # Replace 0.0 with your answer"
   ]
  },
  {
   "cell_type": "code",
   "execution_count": 18,
   "id": "4b7289fe-84e8-4fb4-bf74-83ebcfdfff3e",
   "metadata": {},
   "outputs": [
    {
     "name": "stdout",
     "output_type": "stream",
     "text": [
      "a2b = 0.0000\n"
     ]
    }
   ],
   "source": [
    "# Graded Answer\n",
    "# DO NOT change this cell in any way          \n",
    "\n",
    "print(f'a2b = {a2b:.4f}') "
   ]
  },
  {
   "cell_type": "markdown",
   "id": "6145e838-d392-4044-b627-413645ce1077",
   "metadata": {},
   "source": [
    "### Problem Three: Dropout\n",
    "\n",
    "In this problem, you will explore how **dropout** can help prevent overfitting in neural networks. There are no absolute rules, but some useful hueristics are:\n",
    "\n",
    "* Dropout typically works best in **later dense layers** (e.g., the second hidden layer of width 32) in the range **0.3–0.5**.\n",
    "* If applied to **earlier layers** (e.g., the first hidden layer), dropout should be smaller, typically **0.0–0.2** (where 0.0 means no dropout).\n",
    "\n",
    "**Steps to follow:**\n",
    "\n",
    "* Build and train the **baseline model** using the **activation function from Problem One** and the **learning rate from Problem Two**.\n",
    "* Investigate dropout in the ranges suggested, using increments of **0.1**.\n",
    "* Identify which dropout configuration produces the **best validation accuracy** at the epoch of **minimum validation loss**.\n",
    "* Answer the graded questions.\n"
   ]
  },
  {
   "cell_type": "code",
   "execution_count": 19,
   "id": "779f9f0d-bae4-4f5b-9212-cf72ad8f0331",
   "metadata": {},
   "outputs": [],
   "source": [
    "# Your code here. Add as many cells as you need. \n"
   ]
  },
  {
   "cell_type": "code",
   "execution_count": 20,
   "id": "29a8ab51-f715-4547-a69e-38e581b612eb",
   "metadata": {},
   "outputs": [],
   "source": [
    "# Set a3a to the pair (dropout_rate_64,dropout_rate_32) of dropout rates for the two hidden layers which provided the best \n",
    "# validation accuracy at the epoch of minimum validation loss\n",
    "\n",
    "a3a = (0.0,0.0)             # Replace (0.0,0.0) with your answer"
   ]
  },
  {
   "cell_type": "code",
   "execution_count": 21,
   "id": "a3966b26-5d5d-44e9-840b-9e2e54e3480e",
   "metadata": {},
   "outputs": [
    {
     "name": "stdout",
     "output_type": "stream",
     "text": [
      "a3a = (0.0, 0.0)\n"
     ]
    }
   ],
   "source": [
    "# Graded Answer\n",
    "# DO NOT change this cell in any way          \n",
    "\n",
    "print(f'a3a = {a3a}') "
   ]
  },
  {
   "cell_type": "code",
   "execution_count": 22,
   "id": "76b6a2c7-7d04-4cbb-97b8-a6a319468509",
   "metadata": {},
   "outputs": [],
   "source": [
    "# Set a3b to the validation accuracy found by this best pair of dropout rates\n",
    "\n",
    "a3b = 0.0             # Replace 0.0 with your answer"
   ]
  },
  {
   "cell_type": "code",
   "execution_count": 23,
   "id": "8426d026-e717-4ec0-8b70-ed29401f7b1a",
   "metadata": {},
   "outputs": [
    {
     "name": "stdout",
     "output_type": "stream",
     "text": [
      "a3b = 0.0000\n"
     ]
    }
   ],
   "source": [
    "# Graded Answer\n",
    "# DO NOT change this cell in any way          \n",
    "\n",
    "print(f'a3b = {a3b:.4f}') "
   ]
  },
  {
   "cell_type": "markdown",
   "id": "a5f076b4-3fff-416e-ab3b-fd8c5ea65d47",
   "metadata": {},
   "source": [
    "### Problem Four: L2 Regularization\n",
    "\n",
    "In this problem, you will explore how **L2 regularization** (also called *weight decay*) can help prevent overfitting in neural networks. There are no absolute rules, but some useful heuristics are:\n",
    "\n",
    "* Start simple by using the **same λ in both hidden layers**, with values:\n",
    "\n",
    "  ```\n",
    "      1e-4, 1e-3, 1e-2\n",
    "  ```\n",
    "\n",
    "* If validation results suggest underfitting in the first layer or persistent overfitting in the later one, then try adjusting per layer, for example:\n",
    "\n",
    "  * First hidden layer: λ = 1e-4\n",
    "  * Second hidden layer: λ = 1e-3\n",
    "\n",
    "**Steps to follow:**\n",
    "\n",
    "* Build and train the **baseline model** using the **activation function from Problem One** and the **learning rate from Problem Two**, but **without dropout**.\n",
    "* Investigate at least the four cases suggested (three with the same λ and one with different λ values). You may also consider additional combinations.\n",
    "* Identify which configuration produces the **best validation accuracy** at the epoch of **minimum validation loss**.\n",
    "* Answer the graded questions.\n"
   ]
  },
  {
   "cell_type": "code",
   "execution_count": 24,
   "id": "28648ee2-a0e1-4778-a856-a4a3b388d06d",
   "metadata": {},
   "outputs": [],
   "source": [
    "# Your code here. Add as many cells as you need. \n"
   ]
  },
  {
   "cell_type": "code",
   "execution_count": 25,
   "id": "965f62fe-9bcd-4201-ab1e-6bd08e3694c2",
   "metadata": {},
   "outputs": [],
   "source": [
    "# Set a4a to the pair (L2_lambda_64,L2_lambda_32) of the L2 lambdas for the two hidden layers which provided the best \n",
    "# validation accuracy at the epoch of minimum validation loss\n",
    "\n",
    "a4a = (0.0,0.0)             # Replace (0.0,0.0) with your answer"
   ]
  },
  {
   "cell_type": "code",
   "execution_count": 26,
   "id": "392fb8b5-1f21-4089-b742-fc8079ffd2e5",
   "metadata": {},
   "outputs": [
    {
     "name": "stdout",
     "output_type": "stream",
     "text": [
      "a4a = (0.0, 0.0)\n"
     ]
    }
   ],
   "source": [
    "# Graded Answer\n",
    "# DO NOT change this cell in any way          \n",
    "\n",
    "print(f'a4a = {a4a}') "
   ]
  },
  {
   "cell_type": "code",
   "execution_count": 27,
   "id": "cc94054a-523b-4e82-b59c-f396c9567baf",
   "metadata": {},
   "outputs": [],
   "source": [
    "# Set a4b to the validation accuracy found by this best pair of lambdas\n",
    "\n",
    "a4b = 0.0             # Replace 0.0 with your answer"
   ]
  },
  {
   "cell_type": "code",
   "execution_count": 28,
   "id": "33c400cb-018b-4955-99f6-d827bbe8a838",
   "metadata": {},
   "outputs": [
    {
     "name": "stdout",
     "output_type": "stream",
     "text": [
      "a4b = 0.0000\n"
     ]
    }
   ],
   "source": [
    "# Graded Answer\n",
    "# DO NOT change this cell in any way          \n",
    "\n",
    "print(f'a4b = {a4b:.4f}') "
   ]
  },
  {
   "cell_type": "markdown",
   "id": "05d722c6-0f15-4329-becb-0a2694b3d9d1",
   "metadata": {},
   "source": [
    "### Problem Five: Combining Dropout with L2 Regularization\n",
    "\n",
    "In this problem, you will explore how **dropout** and **L2 regularization** can work together to prevent overfitting. These two methods complement each other, but must be balanced carefully. A useful rule of thumb is:\n",
    "\n",
    "* If dropout is **high**, use a **smaller λ**.\n",
    "* If dropout is **low**, you can afford a **larger λ**.\n",
    "\n",
    "**Steps to follow:**\n",
    "\n",
    "* Build and train the **baseline model** using the **activation function from Problem One** and the **learning rate from Problem Two**.\n",
    "* Investigate combinations of dropout and L2:\n",
    "\n",
    "  * First, use the **dropout rate you identified in Problem Three** as a baseline.\n",
    "  * Then, add L2 to both hidden layers with values:\n",
    "\n",
    "    ```\n",
    "        1e-4, 1e-3, 1e-2\n",
    "    ```\n",
    "\n",
    "    while keeping dropout fixed.\n",
    "  * Finally, try **reducing dropout slightly** when L2 is added to see if performance improves.\n",
    "  * [Optional] You may wish to investigate other combinations not covered here; for example, promising but not optimal choices of dropout rates may provide overall better performance when combines with L2 Regulari \n",
    "* Identify which combination produces the **best validation accuracy** at the epoch of **minimum validation loss**.\n",
    "* Answer the graded questions.\n",
    "\n"
   ]
  },
  {
   "cell_type": "code",
   "execution_count": 29,
   "id": "4bf561b3-72e8-41a1-8d78-f045bd8a78f1",
   "metadata": {},
   "outputs": [],
   "source": [
    "# Your code here. Add as many cells as you need.\n"
   ]
  },
  {
   "cell_type": "code",
   "execution_count": 30,
   "id": "494220ff-038d-479b-a5e0-41ea22689f11",
   "metadata": {},
   "outputs": [],
   "source": [
    "# Set a5 to the validation accuracy found by this best combination of dropout and L2 regularization\n",
    "\n",
    "a5 = 0.0             # Replace 0.0 with your answer"
   ]
  },
  {
   "cell_type": "code",
   "execution_count": 31,
   "id": "4344ea31-ce34-4f22-8c32-b2d129bbe4a3",
   "metadata": {},
   "outputs": [
    {
     "name": "stdout",
     "output_type": "stream",
     "text": [
      "a5 = 0.0000\n"
     ]
    }
   ],
   "source": [
    "# Graded Answer\n",
    "# DO NOT change this cell in any way          \n",
    "\n",
    "print(f'a5 = {a5:.4f}') "
   ]
  },
  {
   "cell_type": "markdown",
   "id": "6e7d6885-1b4e-4816-aa23-b21cc84559a0",
   "metadata": {},
   "source": [
    "### Problem Six: Build and Train Your Best Model\n",
    "\n",
    "In this final problem, you will design and train your **best-performing model** using the techniques explored in the previous problems. You may make your own choices for:\n",
    "\n",
    "* **Model architecture** (number of layers, widths, etc.)\n",
    "* **Learning rate**\n",
    "* **Batch size** (a new hyperparameter not varied in earlier problems)\n",
    "* **Dropout rates** in both layers\n",
    "* **L2 λ values** in both layers\n",
    "* **[Optional but strongly suggested]:** Learning rate scheduling, using either **Exponential Decay** or **Cosine Decay**.\n",
    "\n",
    "  * For Exponential Decay, typical decay rates are **0.90–0.999**, with **0.95** often a good starting point.\n",
    "\n",
    "**Steps to follow:**\n",
    "\n",
    "* Build and train the model according to your design choices.\n",
    "* Use early stopping as before to evaluate performance at the epoch of **minimum validation loss**.\n",
    "* Answer the graded question.\n"
   ]
  },
  {
   "cell_type": "code",
   "execution_count": 32,
   "id": "4cc1efeb-074d-4f5a-af9f-7e0e32a796cc",
   "metadata": {},
   "outputs": [],
   "source": [
    "# Your code here\n"
   ]
  },
  {
   "cell_type": "code",
   "execution_count": 33,
   "id": "6bba4617-49a2-44f7-a3bb-70dbc0022657",
   "metadata": {},
   "outputs": [],
   "source": [
    "# Set a6 to the validation accuracy found by this best model\n",
    "\n",
    "a6 = 0.0             # Replace 0.0 with your answer"
   ]
  },
  {
   "cell_type": "code",
   "execution_count": 34,
   "id": "16703dde-cf87-4c94-94a5-72f66dc08d43",
   "metadata": {},
   "outputs": [
    {
     "name": "stdout",
     "output_type": "stream",
     "text": [
      "a6 = 0.0000\n"
     ]
    }
   ],
   "source": [
    "# Graded Answer\n",
    "# DO NOT change this cell in any way          \n",
    "\n",
    "print(f'a6 = {a6:.4f}') "
   ]
  },
  {
   "cell_type": "markdown",
   "id": "5d88df40-8183-4253-bf6b-ca97a8ddc1b5",
   "metadata": {},
   "source": [
    "### Optional: Print out your results of all experiments"
   ]
  },
  {
   "cell_type": "code",
   "execution_count": 35,
   "id": "df39c1da-e5f7-442d-9903-5f65b3d45ab0",
   "metadata": {},
   "outputs": [],
   "source": [
    "print_results()"
   ]
  },
  {
   "cell_type": "markdown",
   "id": "3eabb07e-e976-4bee-8e6c-1839f67222d6",
   "metadata": {},
   "source": [
    "## Reflection Questions (ungraded)\n",
    "\n",
    "1. Activation Functions:\n",
    "\n",
    "    - Why do you think one activation function worked better than the others for this task?\n",
    "    \n",
    "    - How might this choice differ for deeper or wider networks?\n",
    "\n",
    "2. Learning Rate:\n",
    "\n",
    "    - Would a much smaller learning rate (with many more epochs) likely produce better accuracy?\n",
    "    \n",
    "    - When is it worth training longer with a smaller step size, and when is it unnecessary?\n",
    "\n",
    "3. Dropout vs. L2:\n",
    "\n",
    "    - Which form of regularization — dropout or L2 — gave better results in your experiments?\n",
    "    \n",
    "    - Why might one method be more effective in this setting?\n",
    "\n",
    "4. Combining Dropout and L2:\n",
    "\n",
    "    - Why might the combination of dropout and L2 sometimes perform worse than using one method alone?\n",
    "    \n",
    "    - What does this tell you about the balance between bias and variance in regularization?\n",
    "\n",
    "5. Best Model:\n",
    "\n",
    "    - When you designed your best model, what trade-offs did you notice between model complexity, training stability, and generalization?\n",
    "    \n",
    "    - Did learning rate scheduling (if you tried it) improve results? Why might it help?"
   ]
  }
 ],
 "metadata": {
  "kernelspec": {
   "display_name": "Python 3",
   "language": "python",
   "name": "python3"
  },
  "language_info": {
   "codemirror_mode": {
    "name": "ipython",
    "version": 3
   },
   "file_extension": ".py",
   "mimetype": "text/x-python",
   "name": "python",
   "nbconvert_exporter": "python",
   "pygments_lexer": "ipython3",
   "version": "3.13.2"
  }
 },
 "nbformat": 4,
 "nbformat_minor": 5
}
