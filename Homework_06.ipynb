{
  "cells": [
    {
      "cell_type": "markdown",
      "metadata": {
        "id": "nXx3ui08Ed6g"
      },
      "source": [
        "# Homework 6: N-Gram Language Models with the Brown Corpus\n",
        "\n",
        "## Due: Midnight on October 12th @ Midnight (with 2-hour grace period) and worth 85 points.\n",
        "\n",
        "## As announced, I'll not start to count late days until midnight on 10/13 (with same grace period).\n",
        "\n",
        "In this assignment you’ll practice **probabilistic language modeling (PLM)** by building N-Gram models that generate text. Along the way, you’ll develop the core pieces of a language model: estimating probabilities, calculating sentence likelihoods, and generating text with different strategies. The goal is to understand *how simple statistical models can produce coherent language*, and to explore refinements that make them more expressive.\n",
        "\n",
        "### Learning Objectives\n",
        "\n",
        "* Build and compare **unigram, bigram, and trigram** language models.\n",
        "* Calculate **word and sentence probabilities** (in log-space) and use them to measure **perplexity**.\n",
        "* Implement **probability-based generation** methods, including temperature-scaled sampling.\n",
        "* Explore **beam search** as a way to generate higher-quality sentences.\n",
        "\n",
        "### The four problems (high level)\n",
        "\n",
        "1. **Problem 1 — N-Gram probabilities:**\n",
        "   Build unigram, bigram, and trigram models. Compute next-word probabilities in log space to avoid numerical underflow.\n",
        "\n",
        "2. **Problem 2 — Sentence probability & perplexity:**\n",
        "   Define sentence probability, normalize for sentence length, and calculate perplexity as a measure of model quality.\n",
        "\n",
        "3. **Problem 3 — Controlled generation:**\n",
        "   Implement temperature-controlled sampling to vary randomness in generated sentences. Compare low vs. high temperatures.\n",
        "\n",
        "4. **Problem 4 — Beam search:**\n",
        "   Use perplexity to guide **beam search**, keeping track of the most likely candidate sentences at each step, and compare outputs to greedy generation.\n",
        "\n",
        "By the end, you’ll have a working N-Gram generator capable of producing reasonable and a solid understanding of how early probabilistic approaches to NLP laid the foundation for modern deep learning methods.\n",
        "\n"
      ]
    },
    {
      "cell_type": "markdown",
      "metadata": {
        "id": "TSajLd2AEd6h"
      },
      "source": [
        "### Recommended Workflow (Must Read!)\n",
        "\n",
        "One of the most important skills in machine learning is following a **disciplined workflow** when developing complex code. The basic idea is simple:\n",
        "\n",
        "1. **Start small:** Write and test your code using a tiny subset of your dataset.\n",
        "2. **Inspect your results:** Print out and examine intermediate outputs to verify that each step behaves as expected.\n",
        "3. **Iterate and tune:** Adjust hyperparameters and continue testing, gradually increasing the subset size as needed.\n",
        "4. **Scale up:** Once you are confident your code is bug-free and your hyperparameters are roughly correct, run it on the **full dataset** to obtain your final results.\n",
        "\n",
        "If you don’t have sufficient computing resources for a full run, use **as large a subset as practical** — provided you’ve begun early enough to allow for multiple iterations.\n",
        "\n",
        "\n",
        "To help you follow this workflow in this homework, I’ve included a variable `num_sentences` that controls how many sentences are used from the shuffled Brown Corpus.\n",
        "\n",
        "I recommend the following progression:\n",
        "\n",
        "* **Step 1:** Begin with `num_sentences = 10` to debug and print out intermediate data structures (such as dictionaries) to confirm that your code works as expected.\n",
        "* **Step 2:** Increase to `num_sentences = 100` to verify correctness and complete most of the homework efficiently.\n",
        "* **Step 3:** Finally, if possible, run with the full dataset (`num_sentences = 57_340`), or as large a subset as your resources allow, to answer the graded questions.\n",
        "\n",
        "\n",
        "There are 9 problems in this homework, each worth 9 points each, and you get 4 points free if you otherwise complete the homework."
      ]
    },
    {
      "cell_type": "markdown",
      "metadata": {
        "id": "A1LPSPRaEd6h"
      },
      "source": [
        "#### Useful Imports (add more as needed)"
      ]
    },
    {
      "cell_type": "code",
      "execution_count": 3,
      "metadata": {
        "id": "s9Bhn5WQEd6i"
      },
      "outputs": [],
      "source": [
        "import math\n",
        "import re\n",
        "import string\n",
        "import random\n",
        "import spacy\n",
        "import numpy as np\n",
        "import pandas as pd\n",
        "from tqdm import tqdm\n",
        "from matplotlib import pyplot as plt\n",
        "from collections import Counter\n",
        "\n",
        "random.seed(42)"
      ]
    },
    {
      "cell_type": "code",
      "execution_count": 4,
      "metadata": {
        "id": "Dfj1m-n_Ed6i"
      },
      "outputs": [],
      "source": [
        "'''\n",
        "Reconstruct a human-readable sentence from tokens.\n",
        "- Capitalize the first token (after removing <s>).\n",
        "- Attach any token in string.punctuation with no preceding space.\n",
        "- Attach tokens starting with an apostrophe (e.g., \"'s\", \"'ll\") with no space.\n",
        "- Capitalize standalone 'i' and 'god' wherever they appear.\n",
        "- If the last token is '.', '?', or '!', attach it without a space.\n",
        "- Ignore boundary markers <s> and </s> if present.\n",
        "Returns the sentence string and also prints it depending on flag parameter.\n",
        "'''\n",
        "\n",
        "def print_sentence(tokens, do_print=True):\n",
        "\n",
        "    if not tokens:\n",
        "        print(\"\")\n",
        "        return \"\"\n",
        "\n",
        "    # Drop boundary markers if present\n",
        "    start = 1 if tokens and tokens[0] == \"<s>\" else 0\n",
        "    end = -1 if tokens and tokens[-1] == \"</s>\" else len(tokens)\n",
        "    core = tokens[start:end]\n",
        "\n",
        "    if not core:\n",
        "        print(\"\")\n",
        "        return \"\"\n",
        "\n",
        "    # Capitalize first token\n",
        "    out = core[0].capitalize()\n",
        "\n",
        "    # Process remaining tokens with spacing rules\n",
        "    for i, t in enumerate(core[1:], start=1):\n",
        "        is_last = (i == len(core) - 1)\n",
        "\n",
        "        # Last-token punctuation rule\n",
        "        if is_last and t in {\".\", \"?\", \"!\"}:\n",
        "            out += t\n",
        "            continue\n",
        "\n",
        "        # General punctuation attaches with no space (e.g., ',', ':', ';', ')', etc.)\n",
        "        if t in string.punctuation:\n",
        "            out += t\n",
        "            continue\n",
        "\n",
        "        # Apostrophe-start tokens like \"'s\", \"'d\", \"'ll\"\n",
        "        if t.startswith(\"'\"):\n",
        "            out += t\n",
        "            continue\n",
        "\n",
        "        # Capitalize special standalone words\n",
        "        if t.lower() in {\"i\", \"god\"}:\n",
        "            out += \" \" + t.capitalize()\n",
        "            continue\n",
        "\n",
        "        # Default: add a space before normal words\n",
        "        out += \" \" + t\n",
        "\n",
        "    if do_print:\n",
        "        print(out)\n",
        "    return out\n"
      ]
    },
    {
      "cell_type": "markdown",
      "metadata": {
        "id": "D1QcxlNrEd6i"
      },
      "source": [
        "### Read in the list of all sentences in the Brown Corpus and process using SPaCy."
      ]
    },
    {
      "cell_type": "code",
      "execution_count": 5,
      "metadata": {
        "id": "2Sm1dRWyEd6j"
      },
      "outputs": [],
      "source": [
        "# Must do this the first time to get the Natural Language ToolKit\n",
        "\n",
        "# !pip install nltk"
      ]
    },
    {
      "cell_type": "code",
      "execution_count": 6,
      "metadata": {
        "colab": {
          "base_uri": "https://localhost:8080/"
        },
        "id": "sGAP1lnCEd6j",
        "outputId": "413a240d-91d9-4882-dfdc-34a641f5b202"
      },
      "outputs": [
        {
          "output_type": "stream",
          "name": "stderr",
          "text": [
            "[nltk_data] Downloading package brown to /root/nltk_data...\n",
            "[nltk_data]   Unzipping corpora/brown.zip.\n",
            "/usr/local/lib/python3.12/dist-packages/spacy/pipeline/lemmatizer.py:188: UserWarning: [W108] The rule-based lemmatizer did not find POS annotation for one or more tokens. Check that your pipeline includes components that assign token.pos, typically 'tagger'+'attribute_ruler' or 'morphologizer'.\n",
            "  warnings.warn(Warnings.W108)\n"
          ]
        }
      ],
      "source": [
        "import nltk\n",
        "from nltk.corpus import brown\n",
        "import spacy\n",
        "\n",
        "nltk.download('brown')\n",
        "\n",
        "# Get all Brown corpus sentences as raw text\n",
        "# Brown is organized into categories, we flatten it into one list of sentences and shuffle\n",
        "# so we can create a shorter list for testing\n",
        "\n",
        "brown_texts = [\" \".join(sent) for sent in brown.sents()]\n",
        "\n",
        "random.shuffle(brown_texts)\n",
        "\n",
        "# Brown has 57_340 sentences, set `num_sentences` to 1000 or smaller for testing\n",
        "\n",
        "# num_sentences = 57_340\n",
        "num_sentences = 1000                          # <<<<<=====    Here is where you can change the size of the dataset\n",
        "\n",
        "brown_texts = brown_texts[:num_sentences]\n",
        "\n",
        "# Load spaCy English pipeline\n",
        "nlp = spacy.load(\"en_core_web_sm\")\n",
        "\n",
        "# Process with spaCy: tokenize + sentencize\n",
        "docs = list(nlp.pipe(brown_texts, disable=[\"ner\", \"tagger\", \"parser\"]))\n",
        "\n",
        "# Each doc is one sentence; extract tokens and add beginning and ending tokens <s> ... </s>\n",
        "tokenized_sentences = [ ['<s>'] + [token.text.lower() for token in doc if not token.is_space] + ['</s>'] for doc in docs ]"
      ]
    },
    {
      "cell_type": "markdown",
      "metadata": {
        "id": "EuKOUmN1Ed6j"
      },
      "source": [
        "#### If you have trouble downloading this...\n",
        "\n",
        "\n",
        "I have uploaded a file `brown_sentences.txt` to a Google Drive folder which anyone with the link can read, just\n",
        "uncomment the code in the next cell and run it:"
      ]
    },
    {
      "cell_type": "code",
      "execution_count": 7,
      "metadata": {
        "id": "dWw1pGQoEd6j"
      },
      "outputs": [],
      "source": [
        "\n",
        "import re, requests, random, spacy\n",
        "\n",
        "# Paste the shared Drive link (no need to change anything else)\n",
        "link = \"https://drive.google.com/file/d/1f_BkNDF0ny11Tn4D4jsOoXhgPSUCHKlf/view?usp=drive_link\"\n",
        "\n",
        "# --- Convert to direct download URL ---\n",
        "def get_direct_download_url(link):\n",
        "    match = re.search(r\"/d/([a-zA-Z0-9_-]+)\", link) or re.search(r\"id=([a-zA-Z0-9_-]+)\", link)\n",
        "    if not match:\n",
        "        raise ValueError(\"Could not extract file ID from the link.\")\n",
        "    file_id = match.group(1)\n",
        "    return f\"https://drive.google.com/uc?export=download&id={file_id}\"\n",
        "\n",
        "url = get_direct_download_url(link)\n",
        "\n",
        "# --- Download and prepare the text ---\n",
        "response = requests.get(url)\n",
        "lines = response.text.strip().split(\"\\n\")\n",
        "\n",
        "random.shuffle(lines)\n",
        "\n",
        "\n",
        "# Etc as before\n"
      ]
    },
    {
      "cell_type": "code",
      "execution_count": 8,
      "metadata": {
        "colab": {
          "base_uri": "https://localhost:8080/"
        },
        "id": "_p9Rof2JEd6k",
        "outputId": "2d03135b-d06e-4593-c7cc-006a9070ec66"
      },
      "outputs": [
        {
          "output_type": "stream",
          "name": "stdout",
          "text": [
            "Number of sentences: 1000\n",
            "First sentence:      He let her tell him all about the church.\n",
            "Tokenized sentence: ['<s>', 'he', 'let', 'her', 'tell', 'him', 'all', 'about', 'the', 'church', '.', '</s>']\n"
          ]
        }
      ],
      "source": [
        "print(\"Number of sentences:\", len(tokenized_sentences))\n",
        "print(\"First sentence:      \",end='')\n",
        "print_sentence(tokenized_sentences[0])\n",
        "print(\"Tokenized sentence: \",end='')\n",
        "print(tokenized_sentences[0])"
      ]
    },
    {
      "cell_type": "markdown",
      "metadata": {
        "id": "ehVNaMlVEd6k"
      },
      "source": [
        "### A Little EDA...."
      ]
    },
    {
      "cell_type": "code",
      "execution_count": 9,
      "metadata": {
        "colab": {
          "base_uri": "https://localhost:8080/"
        },
        "id": "uCOkFIMmEd6k",
        "outputId": "cac19263-6409-4ee6-98ff-53fe5b657ba9"
      },
      "outputs": [
        {
          "output_type": "stream",
          "name": "stdout",
          "text": [
            "Total number of characters in the text: 105,598\n",
            "Total number of tokens:    20,695\n",
            "Number of unique tokens:   5,140\n",
            "Total number of sentences: 1,000\n",
            "Total number of words:     17,659\n",
            "Number of unique words:    4,983\n",
            "\n",
            "Top 10 words:\n",
            "the            : 1,220\n",
            "of             : 680\n",
            "and            : 518\n",
            "to             : 450\n",
            "a              : 407\n",
            "in             : 359\n",
            "that           : 183\n",
            "was            : 178\n",
            "is             : 177\n",
            "for            : 168\n",
            "\n",
            "Bottom 10 words:\n",
            "stewardesses   : 1\n",
            "carnegey       : 1\n",
            "toni           : 1\n",
            "besset         : 1\n",
            "barton         : 1\n",
            "dressing       : 1\n",
            "extended       : 1\n",
            "eating         : 1\n",
            "hogan          : 1\n",
            "peacefully     : 1\n"
          ]
        }
      ],
      "source": [
        "# Flatten tokens (exclude spaces)\n",
        "all_tokens = [tok.text.lower() for sent in docs for tok in sent if not tok.is_space]\n",
        "\n",
        "# Define \"word\": alphabetic, or alphabetic after removing internal apostrophes\n",
        "def is_word(tok):\n",
        "    s = tok.text\n",
        "    return s.isalpha() or s.replace(\"'\", \"\").isalpha()\n",
        "\n",
        "# Extract words using the definition above\n",
        "words = [\n",
        "    tok.text.lower()\n",
        "    for sent in docs\n",
        "    for tok in sent\n",
        "    if not tok.is_space and is_word(tok)\n",
        "]\n",
        "\n",
        "# Counts\n",
        "num_chars = sum(len(s) for s in brown_texts)   # or len(text) if you started from one big text\n",
        "num_tokens = len(all_tokens)\n",
        "num_unique_tokens = len(set(all_tokens))\n",
        "num_sentences = len(docs)\n",
        "num_words = len(words)\n",
        "num_unique_words = len(set(words))\n",
        "\n",
        "print(f\"Total number of characters in the text: {num_chars:,}\")\n",
        "print(f\"Total number of tokens:    {num_tokens:,}\")\n",
        "print(f\"Number of unique tokens:   {num_unique_tokens:,}\")\n",
        "print(f\"Total number of sentences: {num_sentences:,}\")\n",
        "print(f\"Total number of words:     {num_words:,}\")\n",
        "print(f\"Number of unique words:    {num_unique_words:,}\")\n",
        "\n",
        "# Frequencies\n",
        "word_counts = Counter(words)\n",
        "most_common_words = word_counts.most_common()\n",
        "\n",
        "# Top 10\n",
        "print(\"\\nTop 10 words:\")\n",
        "for token, freq in most_common_words[:10]:\n",
        "    print(f\"{token:<15}: {freq:,}\")\n",
        "\n",
        "# Bottom 10\n",
        "print(\"\\nBottom 10 words:\")\n",
        "for token, freq in most_common_words[-10:]:\n",
        "    print(f\"{token:<15}: {freq:,}\")"
      ]
    },
    {
      "cell_type": "markdown",
      "metadata": {
        "id": "iusRdThwEd6k"
      },
      "source": [
        "### Digression: Zipf's Law\n",
        "\n",
        "Zipf's Law is an empirical regularity of natural language:  \n",
        "if you rank words by their frequency in a corpus, the frequency \\( f(r) \\) of the word at rank \\( r \\) is approximately inversely proportional to its rank:\n",
        "\n",
        "$$\n",
        "f(r) \\propto \\frac{1}{r^k}\n",
        "$$\n",
        "\n",
        "where $ r = 1, 2, 3, \\dots $ is the rank of a word (1 = most frequent), and $ k \\approx 1 $.  \n",
        "\n",
        "- The most common words (e.g., *the*, *of*, *and*) occur very often.  \n",
        "- A handful of mid-ranked words occur moderately often.  \n",
        "- The vast majority of words occur rarely.  \n",
        "\n",
        "On a **log–log plot** of frequency vs. rank, this relationship appears as a straight line with slope \\(-k\\).  \n",
        "For natural language, empirical studies show that $k \\approx 1$, which is why we plot below a reference line with slope $-1$ to compare against real corpus data.\n",
        "\n",
        "\n",
        "**Why this matters:** Because most words are rare, language models must use techniques like **smoothing, subword modeling, or embeddings** to handle sparsity and represent meaning effectively.  \n"
      ]
    },
    {
      "cell_type": "code",
      "execution_count": 10,
      "metadata": {
        "colab": {
          "base_uri": "https://localhost:8080/",
          "height": 931
        },
        "id": "7Cu_7YXaEd6k",
        "outputId": "cf4d7a58-5cc0-4a38-f18e-5ce9376263ee"
      },
      "outputs": [
        {
          "output_type": "display_data",
          "data": {
            "text/plain": [
              "<Figure size 800x500 with 1 Axes>"
            ],
            "image/png": "[encoded data removed]"
          },
          "metadata": {}
        },
        {
          "output_type": "display_data",
          "data": {
            "text/plain": [
              "<Figure size 800x400 with 1 Axes>"
            ],
            "image/png": "[encoded data removed]"
          },
          "metadata": {}
        },
        {
          "output_type": "stream",
          "name": "stdout",
          "text": [
            "Average sentence length: 20.70 tokens\n",
            "Max sentence length:     75 tokens\n"
          ]
        }
      ],
      "source": [
        "# Frequencies sorted by rank\n",
        "freqs = np.array([freq for token, freq in word_counts.most_common()])\n",
        "ranks = np.arange(1, len(freqs) + 1)\n",
        "\n",
        "plt.figure(figsize=(8, 5))\n",
        "plt.plot(ranks, freqs, label=\"Corpus data\")\n",
        "\n",
        "# Reference line: slope = -1 (Zipf’s law)\n",
        "# Match scale by anchoring at the first frequency\n",
        "ref_line = freqs[0] / ranks\n",
        "plt.plot(ranks, ref_line, \"--\", label=\"Reference slope = -1\")\n",
        "\n",
        "plt.xscale(\"log\")\n",
        "plt.yscale(\"log\")\n",
        "plt.title(\"Token Frequencies vs. Rank (Zipf’s Law)\")\n",
        "plt.xlabel(\"Rank of token\")\n",
        "plt.ylabel(\"Frequency of token\")\n",
        "plt.grid(True, which=\"both\", ls=\"--\", alpha=0.6)\n",
        "plt.legend()\n",
        "plt.tight_layout()\n",
        "plt.show()\n",
        "\n",
        "# Compute sentence lengths from spaCy docs\n",
        "sentence_lengths = [len([tok for tok in sent if not tok.is_space]) for sent in docs]\n",
        "\n",
        "# Plot histogram\n",
        "plt.figure(figsize=(8, 4))\n",
        "plt.hist(\n",
        "    sentence_lengths,\n",
        "    bins=range(1, max(sentence_lengths) + 2),\n",
        "    color=\"skyblue\",\n",
        "    edgecolor=\"black\"\n",
        ")\n",
        "plt.title(\"Histogram of Sentence Lengths\")\n",
        "plt.xlabel(\"Sentence length (in tokens)\")\n",
        "plt.ylabel(\"Number of sentences\")\n",
        "plt.tight_layout()\n",
        "plt.show()\n",
        "\n",
        "print(f\"Average sentence length: {sum(sentence_lengths)/len(sentence_lengths):.2f} tokens\")\n",
        "print(f\"Max sentence length:     {max(sentence_lengths)} tokens\")"
      ]
    },
    {
      "cell_type": "markdown",
      "metadata": {
        "id": "_GDVAsgTEd6k"
      },
      "source": [
        "## Problem One — Build the PLM (bigrams & trigrams)\n",
        "\n",
        "For this problem, you must adapt (mostly cut-and-paste) the code from this week’s Coding Notebook to the new dataset. You are using a trigram model as well as bigrams but your professor has written code that should mostly work for any N.\n",
        "\n",
        "We provide a pre-processed dataset above, with sentences already tokenized and enclosed in the boundary tokens `<s>` and `</s>`.\n",
        "\n",
        "**Set `num_sentences=10` to start!**\n",
        "\n",
        "**ToDo:**\n",
        "\n",
        "**A.** Build N-grams for N = 2, 3\n",
        "\n",
        "- Compute all bigrams and trigrams over the tokenized sentences (boundary tokens included).\n",
        "\n",
        "**B.** Create a dictionary mapping left-contexts to next-word lists\n",
        "\n",
        "- For each N, map each context (length N−1) to a list of next tokens (allow duplicates so frequency = count).\n",
        "\n",
        "**C.** Convert to (log) probability distributions\n",
        "\n",
        "- Turn each context’s next-word list into a distribution of log-probabilities (see **Appendix Two**).\n",
        "\n",
        "**D.** Create the Probability Language Model (PLM)\n",
        "\n",
        "- Create a dictionary `get_next_word` with:\n",
        "\n",
        "    - Key: left context (tuple of 1 token for bigrams; 2 tokens for trigrams).\n",
        "    \n",
        "    - Values: nested dictionary mapping next tokens to log-probabilities `{next_token: log_prob, ...}`.\n",
        "\n",
        "- Create a **single dictionary** (since bigrams and trigrams have a left context of different lengths, and they won't get confused in the dictionary).\n",
        "\n",
        "\n",
        "**E.** Set the variable `num_sentences = 10` and do a sanity check by displaying the distribution for the bigram contexts e.g., `('<s>',)` and `('the',)` and a trigram context `('<s>','the')`. If for some reason these are not present, increase the number of sentences slightly.  \n",
        "\n",
        "**F.**  Generate 5 next words for each of the 3 examples in the previous part.\n",
        "\n",
        "**Then answer the graded questions.**"
      ]
    },
    {
      "cell_type": "code",
      "execution_count": 11,
      "metadata": {
        "colab": {
          "base_uri": "https://localhost:8080/"
        },
        "id": "RYAqf3iSEd6k",
        "outputId": "fd3660f0-241f-4e00-c7cc-2e207d8abf2b"
      },
      "outputs": [
        {
          "output_type": "stream",
          "name": "stdout",
          "text": [
            "['<s>', 'he', 'let', 'her', 'tell', 'him', 'all', 'about', 'the', 'church', '.', '</s>']\n",
            "\n",
            "unigrams:\n",
            "[('<s>',), ('he',), ('let',), ('her',), ('tell',), ('him',), ('all',), ('about',), ('the',), ('church',), ('.',), ('</s>',)]\n",
            "\n",
            "bigrams:\n",
            "[('<s>', 'he'), ('he', 'let'), ('let', 'her'), ('her', 'tell'), ('tell', 'him'), ('him', 'all'), ('all', 'about'), ('about', 'the'), ('the', 'church'), ('church', '.'), ('.', '</s>')]\n",
            "\n",
            "trigrams:\n",
            "[('<s>', 'he', 'let'), ('he', 'let', 'her'), ('let', 'her', 'tell'), ('her', 'tell', 'him'), ('tell', 'him', 'all'), ('him', 'all', 'about'), ('all', 'about', 'the'), ('about', 'the', 'church'), ('the', 'church', '.'), ('church', '.', '</s>')]\n"
          ]
        }
      ],
      "source": [
        "# Create the Get n-gram function\n",
        "def get_ngrams(sent, N):\n",
        "  return [ tuple(sent[i:i+N]) for i in range(len(sent) - N + 1) ]\n",
        "\n",
        "# test\n",
        "print(tokenized_sentences[0])\n",
        "print(\"\\nunigrams:\")\n",
        "print(get_ngrams(tokenized_sentences[0],1))\n",
        "print(\"\\nbigrams:\")\n",
        "print(get_ngrams(tokenized_sentences[0],2))\n",
        "print(\"\\ntrigrams:\")\n",
        "print(get_ngrams(tokenized_sentences[0],3))\n"
      ]
    },
    {
      "cell_type": "code",
      "source": [
        "# Create list of bigrams and trigrams\n",
        "bigrams = []\n",
        "trigrams = []\n",
        "\n",
        "for sent in tokenized_sentences:\n",
        "  bigrams += (get_ngrams(sent,2))\n",
        "  trigrams += (get_ngrams(sent,3))\n",
        "\n",
        "print(f\"There are {len(bigrams)} total bigrams.\")\n",
        "print(f\"There are {len(set(bigrams))} unique bigrams.\")\n",
        "print('\\n')\n",
        "print(f\"There are {len(trigrams)} total bigrams.\")\n",
        "print(f\"There are {len(set(trigrams))} unique bigrams.\")"
      ],
      "metadata": {
        "colab": {
          "base_uri": "https://localhost:8080/"
        },
        "id": "GisR4lEOO9zx",
        "outputId": "ee31568f-7c2b-4971-c273-e6f67ee2208c"
      },
      "execution_count": 12,
      "outputs": [
        {
          "output_type": "stream",
          "name": "stdout",
          "text": [
            "There are 21695 total bigrams.\n",
            "There are 15534 unique bigrams.\n",
            "\n",
            "\n",
            "There are 20695 total bigrams.\n",
            "There are 19628 unique bigrams.\n"
          ]
        }
      ]
    },
    {
      "cell_type": "code",
      "source": [
        "# Create a next work dictionary for each of the ngrams\n",
        "def get_next_word_dict(ngrams):\n",
        "  dict = {}\n",
        "  for ng in ngrams:\n",
        "    lcontext = ng[:-1]\n",
        "    next_word = ng[-1]\n",
        "    dict[lcontext] = dict.get(lcontext, []) + [next_word]\n",
        "  return dict"
      ],
      "metadata": {
        "id": "yWeepWZgQAkV"
      },
      "execution_count": 13,
      "outputs": []
    },
    {
      "cell_type": "code",
      "source": [
        "# generate the bigram and trigram dictionaries\n",
        "bigram_dict = get_next_word_dict(bigrams)\n",
        "trigram_dict = get_next_word_dict(trigrams)"
      ],
      "metadata": {
        "id": "mnruy3rASdgU"
      },
      "execution_count": 14,
      "outputs": []
    },
    {
      "cell_type": "code",
      "source": [
        "# Turn list of tokens into a log probability distribution dictionary\n",
        "def tokens2probs(ws):\n",
        "  k = len(ws)\n",
        "  return { w : math.log(f/k) for (w,f) in Counter(ws).items() }"
      ],
      "metadata": {
        "id": "_fV84jmcVh8T"
      },
      "execution_count": 15,
      "outputs": []
    },
    {
      "cell_type": "code",
      "source": [
        "# Convert a next-word dictionary from contexts in to PLM = a dictionary from left-contxts to a probability distribution of next words\n",
        "def get_PLM(D):\n",
        "  return { lcontext : tokens2probs(next_words)  for (lcontext,next_words) in D.items() }"
      ],
      "metadata": {
        "id": "KiKS187sWUvh"
      },
      "execution_count": 16,
      "outputs": []
    },
    {
      "cell_type": "code",
      "source": [
        "# Generate the PLM dictionaries\n",
        "brown_bigram_PLM = get_PLM(bigram_dict)\n",
        "brown_trigram_PLM = get_PLM(trigram_dict)"
      ],
      "metadata": {
        "id": "KM_TR-_dYX7Q"
      },
      "execution_count": 17,
      "outputs": []
    },
    {
      "cell_type": "code",
      "source": [
        "brown_trigram_PLM[('<s>','the')]"
      ],
      "metadata": {
        "colab": {
          "base_uri": "https://localhost:8080/"
        },
        "id": "52-VYD7UafkX",
        "outputId": "500df13f-958f-4d5a-a749-2e238354c285"
      },
      "execution_count": 18,
      "outputs": [
        {
          "output_type": "execute_result",
          "data": {
            "text/plain": [
              "{'president': -4.804021044733257,\n",
              " 'genuinely': -4.804021044733257,\n",
              " 'church': -4.804021044733257,\n",
              " 'favorite': -4.804021044733257,\n",
              " 'velvet': -4.804021044733257,\n",
              " 'belgians': -4.804021044733257,\n",
              " 'most': -4.110873864173311,\n",
              " 'latter': -4.110873864173311,\n",
              " 'grateful': -4.804021044733257,\n",
              " '`': -4.804021044733257,\n",
              " 'terms': -4.804021044733257,\n",
              " 'two': -4.110873864173311,\n",
              " 'bank': -4.804021044733257,\n",
              " 'tide': -4.804021044733257,\n",
              " 'shot': -4.804021044733257,\n",
              " 'maximum': -4.804021044733257,\n",
              " 'patient': -4.804021044733257,\n",
              " 'mild': -4.804021044733257,\n",
              " 'bringing': -4.804021044733257,\n",
              " 'decoration': -4.804021044733257,\n",
              " 'marriage': -4.804021044733257,\n",
              " 'integrity': -4.804021044733257,\n",
              " 'ferraros': -4.804021044733257,\n",
              " 'fact': -4.804021044733257,\n",
              " 'expenses': -4.804021044733257,\n",
              " 'work': -4.804021044733257,\n",
              " 'phone': -4.804021044733257,\n",
              " 'graphite': -4.804021044733257,\n",
              " 'owner': -4.804021044733257,\n",
              " 'approximate': -4.804021044733257,\n",
              " 'motivations': -4.804021044733257,\n",
              " 'emergency': -4.804021044733257,\n",
              " 'article': -4.804021044733257,\n",
              " 'chancellor': -4.804021044733257,\n",
              " 'element': -4.804021044733257,\n",
              " 'colors': -4.804021044733257,\n",
              " 'second': -4.110873864173311,\n",
              " 'discussion': -4.804021044733257,\n",
              " 'desert': -4.804021044733257,\n",
              " 'platform': -4.110873864173311,\n",
              " 'pro': -4.804021044733257,\n",
              " 'women': -4.804021044733257,\n",
              " 'subjects': -4.804021044733257,\n",
              " 'place': -4.804021044733257,\n",
              " 'young': -4.804021044733257,\n",
              " 'ball': -4.110873864173311,\n",
              " 'callous': -4.804021044733257,\n",
              " 'stanford': -4.804021044733257,\n",
              " 'one': -4.804021044733257,\n",
              " 'very': -4.804021044733257,\n",
              " 'mind': -4.804021044733257,\n",
              " 'grafin': -4.804021044733257,\n",
              " 'land': -4.804021044733257,\n",
              " 'same': -4.804021044733257,\n",
              " 'eagles': -4.804021044733257,\n",
              " 'problems': -4.804021044733257,\n",
              " 'bunk': -4.804021044733257,\n",
              " 'poodle': -4.804021044733257,\n",
              " 'kirov': -4.804021044733257,\n",
              " 'resolution': -4.804021044733257,\n",
              " 'school': -4.804021044733257,\n",
              " 'italian': -4.804021044733257,\n",
              " 'first': -4.110873864173311,\n",
              " 'lieutenant': -4.804021044733257,\n",
              " 'creative': -4.804021044733257,\n",
              " 'numerical': -4.804021044733257,\n",
              " 'girl': -4.804021044733257,\n",
              " 'door': -4.804021044733257,\n",
              " 'council': -4.804021044733257,\n",
              " 'existing': -4.804021044733257,\n",
              " 'bod': -4.110873864173311,\n",
              " 'city': -4.804021044733257,\n",
              " 'saline': -4.804021044733257,\n",
              " 'automatic': -4.804021044733257,\n",
              " 'wizard': -4.804021044733257,\n",
              " 'appropriate': -4.804021044733257,\n",
              " 'editorial': -4.804021044733257,\n",
              " 'lush': -4.804021044733257,\n",
              " 'initial': -4.804021044733257,\n",
              " 'mayor': -4.804021044733257,\n",
              " 'teeth': -4.804021044733257,\n",
              " 'pattern': -4.804021044733257,\n",
              " 'word': -4.804021044733257,\n",
              " 'case': -4.804021044733257,\n",
              " 'final': -4.804021044733257,\n",
              " 'infant': -4.804021044733257,\n",
              " 'acceptance': -4.804021044733257,\n",
              " 'foaming': -4.804021044733257,\n",
              " 'rehearsal': -4.804021044733257,\n",
              " 'finding': -4.804021044733257,\n",
              " 'gun': -4.804021044733257,\n",
              " 'congress': -4.804021044733257,\n",
              " 'beliefs': -4.804021044733257,\n",
              " 'congressman': -4.804021044733257,\n",
              " 'pressure': -4.804021044733257,\n",
              " 'subcommittee': -4.804021044733257,\n",
              " 'fat': -4.804021044733257,\n",
              " 'volume': -4.110873864173311,\n",
              " 'answer': -4.804021044733257,\n",
              " 'railroad': -4.804021044733257,\n",
              " 'peter': -4.804021044733257,\n",
              " 'bottle': -4.804021044733257,\n",
              " 'question': -4.804021044733257,\n",
              " 'religions': -4.804021044733257,\n",
              " 'other': -4.804021044733257,\n",
              " 'conclusion': -4.804021044733257,\n",
              " 'lower': -4.804021044733257,\n",
              " 'purpose': -4.804021044733257,\n",
              " 'deployment': -4.804021044733257,\n",
              " 'bills': -4.804021044733257,\n",
              " 'order': -4.804021044733257,\n",
              " 'screen': -4.804021044733257,\n",
              " 'oracle': -4.804021044733257}"
            ]
          },
          "metadata": {},
          "execution_count": 18
        }
      ]
    },
    {
      "cell_type": "markdown",
      "metadata": {
        "id": "k7WgLLeuEd6l"
      },
      "source": [
        "### Graded Question:\n",
        "\n",
        "In the next cell, set `a1` to the list of 5 next words for the trigram context `('<s>','the')` (unlikely, but you may have to adjust `num_sentences` as indicated)."
      ]
    },
    {
      "cell_type": "code",
      "execution_count": 19,
      "metadata": {
        "id": "knnD6fcmEd6l"
      },
      "outputs": [],
      "source": [
        "# Your answer here\n",
        "\n",
        "a1 = list(brown_trigram_PLM[('<s>','the')])[:5]"
      ]
    },
    {
      "cell_type": "code",
      "execution_count": 20,
      "metadata": {
        "colab": {
          "base_uri": "https://localhost:8080/"
        },
        "id": "bhFG86VfEd6l",
        "outputId": "b4612bcb-7354-4c70-e654-c51c498bf95b"
      },
      "outputs": [
        {
          "output_type": "stream",
          "name": "stdout",
          "text": [
            "a1 = ['president', 'genuinely', 'church', 'favorite', 'velvet']\n"
          ]
        }
      ],
      "source": [
        "# Graded Answer\n",
        "# DO NOT change this cell in any way and do not make any other assignments to variable a1 in this problem\n",
        "\n",
        "print(f'a1 = {a1}')\n"
      ]
    },
    {
      "cell_type": "markdown",
      "metadata": {
        "id": "BTVYsBBAEd6l"
      },
      "source": [
        "## Problem Two: Generating Sentences with Backoff and Temperature\n",
        "\n",
        "\n",
        "The algorithm for generating sentences from a N-Gram PLM is simple: look at the last $N-1$ tokens of the sentence and use the probability distribution of next words to select the continuation word; stop when you generate `'</s>'`.\n",
        "\n",
        "\n",
        "For **bigrams**, this works well: Every token in the text is followed by another token (because `</s>` ends every sentence).\n",
        "\n",
        "However there are two problems when using N-grams for $N>2$:\n",
        "\n",
        "**1. Cold Start (not enough left-context):**  You don't have enough left context in the beginning, so you start with what you have until you have enough left context.   For example, with trigrams:\n",
        "\n",
        "                                          Find next word using:\n",
        "        Step 1:    <s> ?                      bigrams\n",
        "         context:  ---\n",
        "        Step 2:    <s> One ?                  trigrams\n",
        "         context:  ------\n",
        "        Step 3:    <s> One ish ?             continue on with trigrams\n",
        "         context:      ---------\n",
        "\n",
        "\n",
        "**2. Sparsity (not enough N-grams):** For bigrams we always have a continuation for the left context (1 token). However, it is possible for $N>2$ that there is no N-gram which gives you a choice of next words, for example, suppose your sentence so far is\n",
        "\n",
        "            \"One fish dish ...\"\n",
        "\n",
        "and there is no trigram in the form `(\"fish\", \"dish\", ...)`. In this case we use the **backoff** strategy: if there is no trigram left-context `(\"fish\", \"dish\")`,\n",
        "cut out one token and use the (safe) bigram strategy with left context `(\"dish\",)`.  In general, for any $N$,\n",
        "if $N$ does not provide a next word, try $N-1$, $N-2$ etc. until one is found (in the worse case,\n",
        "for $N=1$, you'll just select a likely word without any left-context, but note that with boundary tokens, you'll\n",
        "always have a bigram).\n",
        "\n",
        "\n",
        "**ToDo:**\n",
        "\n",
        "- Adapt the code for generating sentences from the Coding Video to perform the backoff strategy just described, and using your code from Problem One.\n",
        "- Make sure you convert the log probabilities **back into non-log probabilities before you use them as weights in in `np.choice(..., p=weights)`**.\n",
        "- Perform 3 experiments with temperature set at 0.2, 1.0, and 5.0 **with the full dataset if possible**:\n",
        "    - Generate 10 sentences for each temperature, print them out using `print_sentence` and observe whatever differences you can.\n",
        "- Answer the graded questions."
      ]
    },
    {
      "cell_type": "code",
      "metadata": {
        "id": "e39c3b20"
      },
      "source": [
        "def generate_sentence_with_backoff(brown_bigram_PLM, brown_trigram_PLM, temperature=1.0):\n",
        "    tokens = ['<s>']\n",
        "    while tokens[-1] != '</s>':\n",
        "        lcontext = tuple(tokens[-2:]) # Try trigram context\n",
        "        if lcontext in brown_trigram_PLM:\n",
        "            next_word_dist = brown_trigram_PLM[lcontext]\n",
        "        else:\n",
        "            lcontext = tuple(tokens[-1:]) # Backoff to bigram context\n",
        "            if lcontext in brown_bigram_PLM:\n",
        "                next_word_dist = brown_bigram_PLM[lcontext]\n",
        "            else:\n",
        "                break # This statement should rarely be true as we can alsways fall back on bigram context\n",
        "\n",
        "        # Apply temperature to probabilities\n",
        "        # Convert log probabilities back to probabilities, apply temperature, and re-normalize\n",
        "        exp_probs = np.exp(list(next_word_dist.values()))\n",
        "        tempered_probs = exp_probs**(1/temperature)\n",
        "        normalized_probs = tempered_probs / np.sum(tempered_probs)\n",
        "\n",
        "        next_word = random.choices(list(next_word_dist.keys()), weights=normalized_probs)[0]\n",
        "        tokens.append(next_word)\n",
        "    return tokens"
      ],
      "execution_count": 22,
      "outputs": []
    },
    {
      "cell_type": "code",
      "metadata": {
        "colab": {
          "base_uri": "https://localhost:8080/"
        },
        "id": "6e3de795",
        "outputId": "81376967-37a6-4550-f55a-70e99f511811"
      },
      "source": [
        "temperatures = [0.2, .5, 1.0, 2.5, 5.0]\n",
        "\n",
        "for temp in temperatures:\n",
        "    print(f\"\\nGenerating sentences with temperature = {temp}:\\n\")\n",
        "    for i in range(10):\n",
        "        sentence_tokens = generate_sentence_with_backoff(brown_bigram_PLM, brown_trigram_PLM, temperature=temp)\n",
        "        print_sentence(sentence_tokens)"
      ],
      "execution_count": 39,
      "outputs": [
        {
          "output_type": "stream",
          "name": "stdout",
          "text": [
            "\n",
            "Generating sentences with temperature = 0.2:\n",
            "\n",
            "The latter is useful for the same.\n",
            "The ball broke up in aesthetic discussion, seem partly to derive their import from the memory of songs out of the united states, as the first cattle the injuns saw under the direction of special events director jennings dennis.\n",
            "The kirov ballet is firmly booked into the cost analysis were recalculated on terms less prejudicial to the right at all reasonable times to examine such books and records and all lifters practice this in their policies.\n",
            "The first collective confrontation of the united states, an out of a hundred bombs of the most popular dish served in the following days, sleeping in the world.\n",
            "The kirov ballet is firmly booked into the back of the united states, an american culture superior to any in the main stream of historical thinking is a piece of hackwork a sudden phrase of genuine creative art''.\n",
            "The two even look alike.\n",
            "The volume was completed in 1950, public law 920 created civil defense( different from civilian- groups of investigators appear to spark much fighting spirit in the second time.\n",
            "The most varied, complicated and trying type so that the communion between husband and wife is such that their actions are not members of the sixties.\n",
            "The pattern of the government of the most prominent magazine illustrators in america;;\n",
            "The volume is a very much at home in virginia for several weeks.\n",
            "\n",
            "Generating sentences with temperature = 0.5:\n",
            "\n",
            "The bills were principally for hospitalization and doctors' fees during the injection process where initial filling would be omitted.\n",
            "The article also said that schools and synagogues occupied most of the earth without a nickel from the point of view and a thick, remarkably vascular pleura( fig. 9).\n",
            "The stanford achievement test, form the quotation marked`` but john forbad him, we're here to retire.\n",
            "`` you must have been better off if she saw morse with an ax or hatchet in his.\n",
            "`` neutralist'' government, which the united states of america is as follows: 1.\n",
            "The chancellor had as much business there as ulbricht had in east berlin -- and was dispelled.\n",
            "`` old dan tucker'' at the back seat and lay back, from joplin to new york.\n",
            "In the world.\n",
            "The foaming can be calculated.\n",
            "It was not too important.\n",
            "\n",
            "Generating sentences with temperature = 1.0:\n",
            "\n",
            "Several new england realtors were invited to participate in a hurry, handsome''??\n",
            "The callous marines had laughed at each other's retching, while kate lay staring angrily at him.\n",
            "Research continues on the basis of population, matching state expenditures on a west side street and demanded$ 300 to let the weights alone they personally took him to conform to our comfortable conceptions and not to us but to christ, and asked morgan to have two of his headquarters staff accordingly.\n",
            "It was the law as it existed until 1943, the foundation is indebted for its own and only on occasion for virtues and vices on the other brightly capricious, are clever enough in a small colloquium of property lawyers, political scientists, economists, social psychologists, social ethicists and theologians.\n",
            "It is expressed, at a normal rate.\n",
            "Vincent sorrentino, founder and board chairman of the east, designed the massive buttresses that now at the left of the bag.\n",
            "His best horses ready to dispatch to general smallwood with the intelligence obtained.\n",
            "Drinking with meals is also made of them certainly deliberately destroyed themselves.\n",
            "In a bar as`` cult of reassurance'' or the other hand, as an individual craftsman with something to make it a raised platform with golden grillwork, where you can use my shower if you ca n't give and take down here what the hell do you try to treat daniel as if there were men, who was here two years ago has quite dark hair.\n",
            "`` personages'', but leads also to alcibiades and essex.\n",
            "\n",
            "Generating sentences with temperature = 2.5:\n",
            "\n",
            "Each conference should be possible for an enemy to create an aerosol of the department.\n",
            "That pot put pa in an organization determine the type of system, there was considerable michelangelo was not enthusiastic over the world, particularly among the court maids, chose a deep greenish blue lace gown.\n",
            "Labor remained a commodity -- but certain aspects of certain data- processing techniques as a matter best expressed in algebraic formulae.\n",
            "Someone said.\n",
            "Anyone who now doubted that a person had to be in attendance.\n",
            "3.\n",
            "Barton finished his battle cry and marvin goulding fell dead.\n",
            "Brannon timed it so that by announcing plans last night.\n",
            "Brannon timed it so that the writer felt it might -- encourage both mates to be defended by twenty men and women sent overseas by the larger society.\n",
            "All the young men, but that neither he nor his staff shall seek or receive instructions from any government or through private organizations and institutions to help reduce loss of life;;\n",
            "\n",
            "Generating sentences with temperature = 5.0:\n",
            "\n",
            "-- goddamn you!!\n",
            "Virtue is its own and only reward.\n",
            "Fromm's analysis of alienation in the second step in processing was to pass into the air gives the work its central focus.\n",
            "Grabski slurped his way to dress than college students.\n",
            "Still another approach to high school to attend'\n",
            "Metabolic responses to reduced oxygen tension;;\n",
            "Mrs. borden would not remember, since it is sort of as if sherman carried tunnels and bridges in his parents' room, sounded like chickens shut up in streaks of paint.\n",
            "Yes, she jabbed deceit's sharp point -- amy would be writing the same columns as george sokolsky, and orchestra in c minor, made a suitably perky amy, while melisande congdon, as well as bound volumes of important periodicals.\n",
            "High school than henrietta had been on shayol:\n",
            "Governor\n"
          ]
        }
      ]
    },
    {
      "cell_type": "markdown",
      "metadata": {
        "id": "051wfatQEd6l"
      },
      "source": [
        "### Graded Questions:\n",
        "\n",
        "#### Part 2A: In the next cell, set `a2a` to the *most realistic sentence* generated (your call!). Use `print_sentence(..., do_print=False)`."
      ]
    },
    {
      "cell_type": "code",
      "execution_count": 37,
      "metadata": {
        "id": "qsNBhiE9Ed6l"
      },
      "outputs": [],
      "source": [
        "# Your answer here\n",
        "\n",
        "a2a = 'Was she just naturally sloppy about everything but her walk was too steady, too slow, telegraphing her fear.'"
      ]
    },
    {
      "cell_type": "code",
      "execution_count": 38,
      "metadata": {
        "colab": {
          "base_uri": "https://localhost:8080/"
        },
        "id": "h1Cs_CU3Ed6l",
        "outputId": "d67e980f-2f7b-42bc-d983-9b0d7de38e05"
      },
      "outputs": [
        {
          "output_type": "stream",
          "name": "stdout",
          "text": [
            "a2a = Was she just naturally sloppy about everything but her walk was too steady, too slow, telegraphing her fear.\n"
          ]
        }
      ],
      "source": [
        "# Graded Answer\n",
        "# DO NOT change this cell in any way and do not make any other assignments to variable a2a in this problem\n",
        "\n",
        "print(f'a2a = {a2a}')\n"
      ]
    },
    {
      "cell_type": "markdown",
      "metadata": {
        "id": "OaxyPh0KEd6l"
      },
      "source": [
        "#### Part 2B:  Describe in a few sentences what you observed with the different temperature settings (and try more if you wish!). Which seemed to produce the most realistic sentences?\n",
        "\n",
        "Your answer here: The more coherent sentences were generated with lower temperature values, but consisted of similar structure and similar starting words. The larger temperatures consisted of more variation in sentance structure, and more run-on sentences that meshed together different contexts which made them harder to understand.\n",
        "\n"
      ]
    },
    {
      "cell_type": "markdown",
      "metadata": {
        "id": "rD3_H6ZAEd6m"
      },
      "source": [
        "## Problem Three:  Measuring the Quality of Sentences:  Average Log Probability and Perplexity\n",
        "\n",
        "The probabilities involved when we start to calculate the probability of longer token sequences are extremely small, and underflow is common\n",
        "for a large corpus. Therefore we calculate all probabilities in **log space** (see **Appendix Two** for an explanation).\n",
        "\n",
        "Basically, the quality metric for generated sentences is likelihood: If a sentence is more probable, it is better.\n",
        "However, this metric is biased towards short sentences, since we multiply the probabilities of each word,\n",
        "and long sentences end up being very unlikely. But natural language does not behave this way!\n",
        "\n",
        "Therefore, we will remove the length from the calculation using the following measures:\n",
        "\n",
        "**Average of Log Probabilities (ALP)** is a length-agnostic measure of sentence probability. For trigrams:\n",
        "\n",
        "Let the tokenized sentence be $[t_1,\\ldots,t_n]$ with $t_1$ = `<s>` and $t_n$ = `</s>`.\n",
        "\n",
        "\n",
        "$$\n",
        "\\text{ALP}([t_1, t_2, \\dots, t_n])\n",
        "\\ =\\ \\frac{\\log P(t_2 \\mid t_1) + \\log P(t_3 \\mid t_1, t_2) + \\dots + \\log P(t_n \\mid t_{n-2}, t_{n-1})}{n-1}\n",
        "$$\n",
        "\n",
        "**Notes:**\n",
        "- We don't include the first token because it is always present and hence not predicted; think of\n",
        "it as a prompt which gets the sentence going!\n",
        "- To account for backoff, simply use the log probability of the bigram in those cases instead of the trigram.\n",
        "- ALP is in $(-\\infty \\ldots 0.0]$ and larger is better.  It grows more negative as the model performs worse.\n",
        "\n",
        "\n",
        "**Perplexity** is the most common metric in NLP: it rescales the ALP into a more intuitive, positive scale:\n",
        "\n",
        "> Perplexity = np.exp( - ALP ).     \n",
        "\n",
        "Perplexities are $\\ge 1.0$ and smaller is better.   A larger perplexity means the model is “more perplexed,” i.e., on average it is choosing among more equally likely alternatives.\n",
        "\n",
        "Because the exponential is monotonic, minimizing perplexity is exactly the same as maximizing average log probability—so either metric may be used for ranking models, but perplexity is more commonly used by the NLP community.\n",
        "\n",
        "### Before You Start\n",
        "\n",
        "You can compute ALP during generation by carrying **state** along with the partial sentence.\n",
        "Instead of storing:\n",
        "\n",
        "> tokens_so_far = [ `<s>`, $t_2$, $t_3$, … ]\n",
        "\n",
        "store a **pair**:\n",
        "\n",
        "> ( tokens_so_far, sum_log_probs)\n",
        "\n",
        "where\n",
        "\n",
        "* **sum_log_probs** = $( \\log P(t_2\\mid t_1) + \\log P(t_3\\mid t_1,t_2) + \\cdots )$\n",
        "\n",
        "In the case that backoff was used to generate some $t_k$, you just use $\\log P(t_{k}\\mid t_{k-1})$\n",
        "\n",
        "Then your loop is:\n",
        "\n",
        "1. Start with tokens = `['<s>']` and `sum_log_probs = 0.0`.\n",
        "2. Get the left context (trigram preferred; back off to bigram if needed).\n",
        "3. **Sample** the next token using temperature, but **score** with the model’s **true** log-prob for that token (un-tempered): update `sum_log_probs += log P(next|context)`.\n",
        "4. Append the token; if it is `</s>`, stop, else repeat froms step 2.\n",
        "5. Calculate the perplexity of the completed sentence:\n",
        "- Divide the running sum of log probabilities by `len(tokens)-1` to get the final ALP.\n",
        "- Calculate `PP = np.exp(-ALP)` and return the pair `( completed-list-of-tokens, PP)` as the generated sentence.\n",
        "\n",
        "\n",
        "\n",
        "### To Do\n",
        "\n",
        "* Modify your `get_next_word` and sentence generator method to maintain `(tokens, sum_log)` as above and return `(tokens, Perplexity)`.\n",
        "- Perform 3 experiments with temperature set at 0.2, 1.0, and 5.0 **with the full dataset if possible**:\n",
        "    - Generate 10 sentences for each temperature, print them out using `print_sentence` and observe whatever differences you can, comparing them with the perplexity.\n",
        "* Answer the graded questions.\n"
      ]
    },
    {
      "cell_type": "code",
      "execution_count": 43,
      "metadata": {
        "id": "gZk6NVy0Ed6m"
      },
      "outputs": [],
      "source": [
        "# Updated generate sentence function with ALP and perplexity\n",
        "def generate_sentence_with_backoff(brown_bigram_PLM, brown_trigram_PLM, temperature=1.0):\n",
        "    tokens = ['<s>']\n",
        "    sum_log_probs = 0.0  # Initialize sum of log probabilities\n",
        "\n",
        "    while tokens[-1] != '</s>':\n",
        "        lcontext = tuple(tokens[-2:]) # Try trigram context\n",
        "        use_trigram = False\n",
        "        if lcontext in brown_trigram_PLM:\n",
        "            next_word_dist = brown_trigram_PLM[lcontext]\n",
        "            use_trigram = True\n",
        "        else:\n",
        "            lcontext = tuple(tokens[-1:]) # Backoff to bigram context\n",
        "            if lcontext in brown_bigram_PLM:\n",
        "                next_word_dist = brown_bigram_PLM[lcontext]\n",
        "            else:\n",
        "                break # Should rarely happen with bigrams\n",
        "\n",
        "        # Apply temperature to probabilities for sampling\n",
        "        exp_probs = np.exp(list(next_word_dist.values()))\n",
        "        tempered_probs = exp_probs**(1/temperature)\n",
        "        normalized_probs = tempered_probs / np.sum(tempered_probs)\n",
        "\n",
        "        # Sample the next word\n",
        "        next_word = random.choices(list(next_word_dist.keys()), weights=normalized_probs)[0]\n",
        "\n",
        "        # Add the UN-TEMPERED log probability to the sum\n",
        "        sum_log_probs += next_word_dist[next_word]\n",
        "\n",
        "        tokens.append(next_word)\n",
        "\n",
        "    # Calculate ALP and Perplexity\n",
        "    if len(tokens) > 1:\n",
        "        alp = sum_log_probs / (len(tokens) - 1)\n",
        "        perplexity = np.exp(-alp)\n",
        "    else: # Handle cases where only <s> is generated\n",
        "        perplexity = float('inf')\n",
        "\n",
        "    return tokens, perplexity\n",
        "\n"
      ]
    },
    {
      "cell_type": "code",
      "source": [
        "temperatures = [0.2, 1.0, 5.0]\n",
        "\n",
        "for temp in temperatures:\n",
        "    print(f\"\\nGenerating sentences with temperature = {temp}:\\n\")\n",
        "    sentences_with_perplexity = []\n",
        "    for i in range(10):\n",
        "        sentence_tokens, perplexity = generate_sentence_with_backoff(brown_bigram_PLM, brown_trigram_PLM, temperature=temp)\n",
        "        sentences_with_perplexity.append((sentence_tokens, perplexity))\n",
        "        print_sentence(sentence_tokens, do_print=True)\n",
        "        print(f\"Perplexity: {perplexity:.2f}\")\n",
        "    print(\"-\" * 20)"
      ],
      "metadata": {
        "id": "LmKHahNpprbu",
        "outputId": "220a00ca-a8d9-4c78-ae3d-171aab20a0e6",
        "colab": {
          "base_uri": "https://localhost:8080/"
        }
      },
      "execution_count": 44,
      "outputs": [
        {
          "output_type": "stream",
          "name": "stdout",
          "text": [
            "\n",
            "Generating sentences with temperature = 0.2:\n",
            "\n",
            "The first collective confrontation of the united states, as the first courtyard there are a reasonably well- adjusted person, it is suggested that you hold the bar held in front of the causative agent of epidemic typhus( rickettsia prowazwki) over city a and that a lot of time and politicking.\n",
            "Perplexity: 2.23\n",
            "The volume was completed in 1950 and published in 1951.\n",
            "Perplexity: 1.88\n",
            "The integrity of the united states, as the first collective confrontation of the government of the united states, its officers, when amplified by af, the jury said,`` I've got to -- to see that the cold war will remain with us, and the bluebush, has been designated a cavaliere of the united states, as the first program was sponsored by abraham& strauss, hempstead, new fears.\n",
            "Perplexity: 2.40\n",
            "The two governments shall have the time and inclination, walk to the pathet lao, a characteristic of many spanish cattle.\n",
            "Perplexity: 2.36\n",
            "The first annual review of rice availabilities will be necessary.\n",
            "Perplexity: 2.50\n",
            "The second time for no very compelling reason -- I was n't around''.\n",
            "Perplexity: 2.27\n",
            "The first program was sponsored by abraham& strauss, hempstead, new york, under`` I've got this sunburn'', he had been a day of the united states, an out- of- bounds slice.\n",
            "Perplexity: 2.31\n",
            "The first and second milliliter fractions with sweet clover proteins greatly reduced nonspecific fluorescence, especially when the crucial moment arrives.\n",
            "Perplexity: 1.64\n",
            "The most popular dish served in the second time.\n",
            "Perplexity: 3.68\n",
            "The bod data are given.\n",
            "Perplexity: 3.14\n",
            "--------------------\n",
            "\n",
            "Generating sentences with temperature = 1.0:\n",
            "\n",
            "This is an exotic place, so different from the memory of songs others had taught him.\n",
            "Perplexity: 2.39\n",
            "The colors of its own peace corps -- a picture.\n",
            "Perplexity: 2.73\n",
            "Then, brumidi was required, because the subverting action of firms that are not paid on taxes that are reasonable and appropriate for addressing your mother.\n",
            "Perplexity: 1.77\n",
            "The ferraros offered them biscuits with the soviet leader had not been time enough to ridicule hawkins' pronouncement in pleas of the big leagues, but he had never been stained with blood.\n",
            "Perplexity: 2.00\n",
            "A year ago.\n",
            "Perplexity: 5.49\n",
            "The two men in overalls stood just behind the conventions of tragedy.\n",
            "Perplexity: 1.89\n",
            "The congressman who, like himself, had worked some subtle change in him go back to my own cottage to live my own little patch of life and property in disaster, natural or manmade.\n",
            "Perplexity: 1.55\n",
            "He was different.\n",
            "Perplexity: 4.57\n",
            "`` about an hour after nightfall.\n",
            "Perplexity: 2.64\n",
            "It has a bath next to his puzzlement, there was anything he, as reported in your leg''.\n",
            "Perplexity: 2.38\n",
            "--------------------\n",
            "\n",
            "Generating sentences with temperature = 5.0:\n",
            "\n",
            "Many of those that are dropped from musical shows before they reach broadway may really be better than many of those that are dropped from musical shows before they reach broadway may really be better than many of the cathodoluminescent viewing screen.\n",
            "Perplexity: 1.67\n",
            "Through the years??\n",
            "Perplexity: 4.47\n",
            "Long before 1815 the christian conscience was leading some to declare slavery wrong and to increase interest in a coop for the characterization of many commercial materials as well as her subsequent disinclination to speak at all levels to help foreign countries meet their urgent needs for skilled manpower.\n",
            "Perplexity: 1.64\n",
            "Not like us fellas.\n",
            "Perplexity: 3.16\n",
            "Volume 2, contains data for forty- two classes.\n",
            "Perplexity: 2.11\n",
            "Rousseau had to be found in the belief in magic manipulation.\n",
            "Perplexity: 3.47\n",
            "Kennedy administration policies also have been received by such person, indicate brain tumor??\n",
            "Perplexity: 1.89\n",
            "Opposite the number of af with electron line- density greater than or equal to af, and you have planned a noisy, colorful and exuberant greeting to your filtering and vacuuming problems as well lift his shorts lying alongside -- the british government's success in forcing -- and helping -- the british government's plan.\n",
            "Perplexity: 1.63\n",
            "Consultation with architects, clients, real estate men, but they rehash a wornout idiom.\n",
            "Perplexity: 1.94\n",
            "Tactics studied in geneva\n",
            "Perplexity: 3.98\n",
            "--------------------\n"
          ]
        }
      ]
    },
    {
      "cell_type": "markdown",
      "metadata": {
        "id": "p6679pusEd6m"
      },
      "source": [
        "### Graded Questions:\n",
        "\n",
        "#### Part 3A: In the next cell, set `a3a` to the sentence with the smallest perplexity. Use `print_sentence(..., do_print=False)`."
      ]
    },
    {
      "cell_type": "code",
      "execution_count": 45,
      "metadata": {
        "id": "hae7BkVfEd6m"
      },
      "outputs": [],
      "source": [
        "# Your answer here\n",
        "\n",
        "a3a = 'The congressman who, like himself, had worked some subtle change in him go back to my own cottage to live my own little patch of life and property in disaster, natural or manmade.'"
      ]
    },
    {
      "cell_type": "code",
      "execution_count": 46,
      "metadata": {
        "colab": {
          "base_uri": "https://localhost:8080/"
        },
        "id": "MfkEqPpgEd6m",
        "outputId": "9ae95ae3-de1d-486f-feed-ba05697c9732"
      },
      "outputs": [
        {
          "output_type": "stream",
          "name": "stdout",
          "text": [
            "a3a = The congressman who, like himself, had worked some subtle change in him go back to my own cottage to live my own little patch of life and property in disaster, natural or manmade.\n"
          ]
        }
      ],
      "source": [
        "# Graded Answer\n",
        "# DO NOT change this cell in any way and do not make any other assignments to variable a3a\n",
        "print(f'a3a = {a3a}')\n"
      ]
    },
    {
      "cell_type": "markdown",
      "metadata": {
        "id": "JhouEARVEd6m"
      },
      "source": [
        "#### Part 3B:  Set `a3b` to the perplexity for the sentence you provided in Part 3A.\n"
      ]
    },
    {
      "cell_type": "code",
      "execution_count": 47,
      "metadata": {
        "id": "ehoMtiqdEd6m"
      },
      "outputs": [],
      "source": [
        "# Your answer here\n",
        "\n",
        "a3b = 1.57"
      ]
    },
    {
      "cell_type": "code",
      "execution_count": 48,
      "metadata": {
        "colab": {
          "base_uri": "https://localhost:8080/"
        },
        "id": "o_JZ2hiBEd6m",
        "outputId": "895bf0fa-1daa-432d-b105-971fe1de97a0"
      },
      "outputs": [
        {
          "output_type": "stream",
          "name": "stdout",
          "text": [
            "a3b = 1.57\n"
          ]
        }
      ],
      "source": [
        "# Graded Answer\n",
        "# DO NOT change this cell in any way and do not make any other assignments to variable a1 in this problem\n",
        "\n",
        "print(f'a3b = {a3b}')\n"
      ]
    },
    {
      "cell_type": "markdown",
      "metadata": {
        "id": "YGqfIB5xEd6n"
      },
      "source": [
        "#### Part 3C:  Describe in a few sentences what you observed with the different temperature settings (and try more if you wish!). Which produces the sentences with the best perplexity (you might want to take the average of all 10!).\n",
        "\n",
        "Your answer here:\n",
        "\n"
      ]
    },
    {
      "cell_type": "markdown",
      "metadata": {
        "id": "nkYrzDBjEd6n"
      },
      "source": [
        "## Problem Four:  Beam Search\n",
        "\n",
        "For our final problem, we'll implement a common technique for searching for sentences with low perplexity.\n",
        "\n",
        "**Beam search** is a pragmatic middle ground between **greedy decoding** (pick the single best next word each step) and **exhaustive search** (try all sequences).\n",
        "\n",
        "![Screenshot 2025-10-04 at 12.12.48 PM.png](attachment:224d4777-a5b9-4360-9cc3-5651367faeb0.png)\n",
        "\n",
        "The basic idea is reasonably simple:\n",
        "\n",
        "Maintain a list of at most **B** incomplete sentences, sorted in **decreasing order of their ALP (best at the top)**; you'll need to calculate this during the sort, or perhaps store a triple\n",
        "> (list-of-tokens, sum-of-log-probs, ALP-so-far)\n",
        "\n",
        "where\n",
        "> ALP-so-far =sum-of-log-probs/(len(list-of-tokens)-1)\n",
        "\n",
        "**In detail:**\n",
        "\n",
        "Initialize a priority queue `PQ = [ ['<s>'],0.0] ]`\n",
        "\n",
        "1. In each loop:\n",
        "    - Generate **C** continuations of each of the partial sentences in the queue **PQ** (optional but useful: remove duplicates)\n",
        "    - Remove any completed sentences, calculate their perplexity and store them in a separate list `Finished`.\n",
        "    - Sort the list of remaining continuations and delete all but the best **B** candidates.\n",
        "    - Replace **PQ** with this list of new candidates.\n",
        "3. Repeat from step 1 until you get 10 finished sentences in `Finished` or simply iterate 100 times.  \n",
        "4. Sort the list `Finished` in increasing order of perplexity and print it out.\n",
        "\n",
        "  This preserves multiple promising continuations (unlike greedy), but avoids the combinatorial blow-up of exhaustive search. Using **log-probs** makes scoring stable; using a **length-normalized** score (ALP) prevents the search from favoring short fragments. Beam width (B) controls the trade-off: larger (B) explores more but costs more time and can still prune good paths too early. Continuation width (C) controls how widely you search possible continuations, and uses temperature.\n",
        "\n",
        "**ToDo:**\n",
        "\n",
        "- Implement beam search as described, using $B=C=5$.\n",
        "- Experiment with temperatures of 0.2, 1.0, and 5.0 as before.\n",
        "- Print out your finished sentences with perplexities.\n",
        "- Answer the graded questions."
      ]
    },
    {
      "cell_type": "code",
      "execution_count": 31,
      "metadata": {
        "id": "YPPHmW1lEd6n"
      },
      "outputs": [],
      "source": [
        "# Your code here; add as many cells as you wish\n",
        "\n"
      ]
    },
    {
      "cell_type": "markdown",
      "metadata": {
        "id": "mKKmvbZDEd6n"
      },
      "source": [
        "### Graded Questions:\n",
        "\n",
        "#### Part 4A: In the next cell, set `a4a` to the sentence with the smallest perplexity generated by beam search. Use `print_sentence(..., do_print=False)`."
      ]
    },
    {
      "cell_type": "code",
      "execution_count": 32,
      "metadata": {
        "id": "nJgITSCmEd6n"
      },
      "outputs": [],
      "source": [
        "# Your answer here\n",
        "\n",
        "a4a = ''"
      ]
    },
    {
      "cell_type": "code",
      "execution_count": 33,
      "metadata": {
        "colab": {
          "base_uri": "https://localhost:8080/"
        },
        "id": "tlP_4JK7Ed6u",
        "outputId": "4f5076f0-9539-4c42-90b9-bd803e0c0d79"
      },
      "outputs": [
        {
          "output_type": "stream",
          "name": "stdout",
          "text": [
            "a4a = \n"
          ]
        }
      ],
      "source": [
        "# Graded Answer\n",
        "# DO NOT change this cell in any way and do not make any other assignments to variable a3a\n",
        "print(f'a4a = {a4a}')\n"
      ]
    },
    {
      "cell_type": "markdown",
      "metadata": {
        "id": "aQ12lBxEEd6v"
      },
      "source": [
        "#### Part 4B:  Set `a4b` to the perplexity for the sentence you provided in Part 4A.\n"
      ]
    },
    {
      "cell_type": "code",
      "execution_count": 34,
      "metadata": {
        "id": "e4yXpdxXEd6v"
      },
      "outputs": [],
      "source": [
        "# Your answer here\n",
        "\n",
        "a4b = ''"
      ]
    },
    {
      "cell_type": "code",
      "execution_count": 35,
      "metadata": {
        "colab": {
          "base_uri": "https://localhost:8080/"
        },
        "id": "0ka543xnEd6v",
        "outputId": "32f3ea3d-a032-41bd-8304-7bae3130e3df"
      },
      "outputs": [
        {
          "output_type": "stream",
          "name": "stdout",
          "text": [
            "a4b = \n"
          ]
        }
      ],
      "source": [
        "# Graded Answer\n",
        "# DO NOT change this cell in any way and do not make any other assignments to variable a4b in this problem\n",
        "\n",
        "print(f'a4b = {a4b}')\n"
      ]
    },
    {
      "cell_type": "markdown",
      "metadata": {
        "id": "FXkj3TIsEd6v"
      },
      "source": [
        "#### Part 4C:  Describe in a few sentences what you observed with the different temperature settings (and try more if you wish!). Which produces the sentences with the best perplexity (you might want to take the average of all 5!).\n",
        "\n",
        "Your answer here:\n",
        "\n"
      ]
    },
    {
      "cell_type": "markdown",
      "metadata": {
        "id": "eLbkawK2Ed6v"
      },
      "source": [
        "## Appendix One: The Brown Corpus\n",
        "\n",
        "The **Brown Corpus of Standard American English** was compiled at **Brown University** by W. Nelson Francis and Henry Kučera in 1961. It was the **first electronic, balanced corpus of English** ever created and contains about **one million words** drawn from **500 written texts** published in the United States in 1961.\n",
        "\n",
        "At the time, this was groundbreaking: instead of studying isolated examples, linguists and computer scientists could analyze the **statistical properties of language** across many genres. The Brown Corpus became a **benchmark dataset** in early computational linguistics, psycholinguistics, and later in natural language processing.\n",
        "\n",
        "### Genres in the Brown Corpus\n",
        "\n",
        "The 500 texts were divided evenly across **15 categories**, each representing a different register or style of writing:\n",
        "\n",
        "* **Press**: reportage, editorials, reviews\n",
        "* **General prose**: popular lore, belles lettres, essays\n",
        "* **Fiction**: adventure, romance, science fiction, mystery, humor\n",
        "* **Learned writing**: academic and scientific publications\n",
        "* **Religious writing**: sermons, expository texts\n",
        "* **Skills and hobbies**: manuals, do-it-yourself, gardening, sports writing\n",
        "* **Government documents**: official reports, public affairs writing\n",
        "* **Miscellaneous**: popularized non-fiction, biography\n",
        "\n",
        "Each category contributes about 2,000 sentences (roughly 80,000 words), ensuring a **balanced sample** of contemporary written English.\n",
        "\n",
        "### Examples of Source Texts\n",
        "\n",
        "While the Brown Corpus does not preserve full books in sequence, the selections were drawn from published works of the time. Examples include:\n",
        "\n",
        "* **Fiction**: pulp magazines, detective novels, romance stories, humorous fiction.\n",
        "* **Press**: articles from major U.S. newspapers and magazines such as *Time* and *Newsweek*.\n",
        "* **Religion**: sermons, Bible commentary, religious essays.\n",
        "* **Academic**: journal articles in history, sociology, psychology, and linguistics.\n",
        "* **Skills and hobbies**: popular magazines like *Popular Mechanics* and *Field & Stream*.\n",
        "\n",
        "The corpus thus reflects a **snapshot of American English in 1961**: how it was written in popular culture, journalism, science, religion, and government.\n",
        "\n",
        "### Why It Matters\n",
        "\n",
        "* **Historical importance**: the first large corpus, setting the stage for all later corpus linguistics.\n",
        "* **Balanced design**: unlike modern web scrapes (e.g., Wikipedia), Brown was carefully curated to capture a **cross-section of genres**.\n",
        "* **Still used today**: it remains a teaching resource for exploring **word frequencies, n-grams, Zipf’s law, and stylistic differences across genres**.\n",
        "\n",
        "### Categories in the Brown Corpus  \n",
        "\n",
        "The Brown Corpus is divided into 15 genres, each with about 80,000 words (for a total of ~1 million). This balance makes it useful for studying stylistic and lexical variation across English.  \n",
        "\n",
        "| Code | Category              | Description / Examples                                  |\n",
        "|------|-----------------------|---------------------------------------------------------|\n",
        "| A    | Press: Reportage      | Straight news reporting; newspaper and magazine articles |\n",
        "| B    | Press: Editorial      | Opinion pieces and editorials from newspapers/magazines |\n",
        "| C    | Press: Reviews        | Reviews of books, plays, music, films                   |\n",
        "| D    | Religion              | Sermons, religious commentary, Bible studies            |\n",
        "| E    | Skills & Hobbies      | How-to manuals, sports, leisure, do-it-yourself         |\n",
        "| F    | Popular Lore          | Popular science, cultural essays, lore                  |\n",
        "| G    | Belles Lettres        | Literary essays, non-fiction with artistic style        |\n",
        "| H    | Miscellaneous         | Biographies, memoirs, other non-fiction                 |\n",
        "| J    | Learned               | Academic and scientific writing                         |\n",
        "| K    | General Fiction       | Short stories and novels, general fiction               |\n",
        "| L    | Mystery & Detective   | Detective and crime fiction                             |\n",
        "| M    | Science Fiction       | Science fiction stories and novels                      |\n",
        "| N    | Adventure & Western   | Adventure stories, Westerns                             |\n",
        "| P    | Romance               | Romantic fiction                                        |\n",
        "| R    | Humor                 | Humorous fiction and essays                             |\n",
        "\n",
        "Together these categories provide a **snapshot of American English in 1961**, from journalism and government reports to pulp fiction and academic writing.  \n"
      ]
    },
    {
      "cell_type": "code",
      "execution_count": 36,
      "metadata": {
        "colab": {
          "base_uri": "https://localhost:8080/"
        },
        "id": "_j4hOj7FEd6v",
        "outputId": "65b71cda-af10-4e42-86aa-91ddfabd1875"
      },
      "outputs": [
        {
          "output_type": "stream",
          "name": "stdout",
          "text": [
            "0.0\n",
            "-0.6931471805599453\n",
            "-1.0986122886681098\n",
            "-1.3862943611198906\n",
            "-4.605170185988091\n",
            "-23.025850929940457\n"
          ]
        }
      ],
      "source": [
        "for p in [1,1/2,1/3,1/4, 0.01, 1e-10]:\n",
        "          print(math.log(p))"
      ]
    },
    {
      "cell_type": "markdown",
      "metadata": {
        "id": "vfCCiFiaEd6v"
      },
      "source": [
        "## Appendix Two: Using Log-Probabilities in N-Gram Models\n",
        "\n",
        "When working with **n-gram language models**, we calculate the probability of a sentence by multiplying the conditional probabilities of each word:\n",
        "\n",
        "$$\n",
        "P(w_1, w_2, \\dots, w_n) = \\prod_{i=1}^n P(w_i \\mid \\text{context})\n",
        "$$\n",
        "\n",
        "### Do we really need logs for the Brown Corpus?\n",
        "\n",
        "In the Brown Corpus, the **longest sentence has 182 tokens**. That’s not very long compared to modern corpora, so you might think multiplying probabilities directly is fine. For example:\n",
        "\n",
        "* If the average conditional probability were around $0.1$, the longest Brown sentence has probability about\n",
        "  $$(0.1)^{182} = 10^{-182},$$\n",
        "  which is still representable in double precision (smallest positive $\\approx 10^{-324}$).\n",
        "\n",
        "* But if the average probability were closer to $0.01$, then\n",
        "  $$(0.01)^{182} = 10^{-364},$$\n",
        "  which would **underflow to 0**.\n",
        "\n",
        "So in some cases you’d be safe, in others not.\n",
        "\n",
        "### Some Examples of Log Probabilities\n",
        "\n",
        "Since probabilities are always in the range $[0,1.0]$, log probabilities are in the range $[-\\infty,0.0]$. Here are\n",
        "some examples of log probabilities (we'll use natural logs, but the base really doesn't matter):\n",
        "\n",
        "    Probability         Log Probability\n",
        "      1.0                 0.0\n",
        "      1/2                -0.6931471805599453\n",
        "      1/3                -1.0986122886681098\n",
        "      1/4                -1.3862943611198906\n",
        "      0.01               -4.605170185988091\n",
        "      1e-10              -23.025850929940457\n",
        "      1e-1000            -2302.5850929940457\n",
        "\n",
        "(To put this in somewhat real terms, suppose you and a friend could both randomly choose an **atom** somewhere in the observable\n",
        "universe: the probability that you both choose the same atom is approximately 1e-80.)\n",
        "\n",
        "### Why we use log-probabilities anyway\n",
        "\n",
        "Even if underflow is not common in Brown sentences, there are three strong reasons to switch to log-space:\n",
        "\n",
        "1. **Smoothing produces tiny probabilities.** With add-one or Kneser–Ney smoothing, many n-grams have very small values, making underflow more likely.\n",
        "2. **Corpus-level calculations.** Perplexity is often computed over *all tokens* in the corpus. With Brown’s ~1M tokens, multiplying raw probabilities is completely impossible.\n",
        "3. **Consistency with NLP practice.** Modern language models (n-gram and neural alike) always work in log-space. Teaching it here ensures the method scales to larger datasets like Shakespeare, WikiText, or web-scale corpora.\n",
        "\n",
        "### The log-space trick\n",
        "\n",
        "Recall how computing in log-space works:\n",
        "\n",
        "- Convert your numbers to logs\n",
        "- Instead of multiplying, add  \n",
        "- Instead of exponentiation, multiply\n",
        "- If you need to sort, or compare using $\\lt$ or $\\le$, just do it in log-space (since it is monotonic, i.e., preserves order)\n",
        "- Convert back to normal if you want to print it out in human-readable form as a metric or use it with code that expects normal probabilities (e.g., softmax, or sampling).\n",
        "\n",
        "Thus, instead of multiplying probabilities, we sum log probabilities:\n",
        "\n",
        "$$\n",
        "\\log P(w_1, w_2, \\dots, w_n) = \\sum_{i=1}^n \\log P(w_i \\mid \\text{context})\n",
        "$$\n",
        "\n",
        "This prevents underflow, keeps values in a manageable numeric range, and makes computation easier.\n",
        "\n",
        "* **Ranking:** For decoding or beam search, you can use log-probabilities directly, since $\\log$ is monotonic. No conversion back is needed.\n",
        "* **Perplexity:**\n",
        "\n",
        "$$\n",
        "\\text{PP} = \\exp\\left(-\\tfrac{1}{n} \\sum_{i=1}^n \\log P(w_i \\mid \\text{context})\\right)\n",
        "$$\n",
        "\n",
        "Here the exponential is applied only at the end.\n",
        "\n",
        "* **Sampling:** To draw the next word, convert log-probabilities back with `exp()` to normalize.\n",
        "\n",
        "---\n",
        "\n",
        "✅ **TL;DR Summary:** In the Brown Corpus, you *might* get away with raw probabilities for single sentences, but log-space is essential once you apply smoothing, compute perplexity over the whole corpus, or move to larger datasets. It’s also the standard method in NLP, so it’s best to learn it now.\n",
        "\n"
      ]
    }
  ],
  "metadata": {
    "kernelspec": {
      "display_name": "Python 3",
      "name": "python3"
    },
    "language_info": {
      "codemirror_mode": {
        "name": "ipython",
        "version": 3
      },
      "file_extension": ".py",
      "mimetype": "text/x-python",
      "name": "python",
      "nbconvert_exporter": "python",
      "pygments_lexer": "ipython3",
      "version": "3.10.18"
    },
    "colab": {
      "provenance": [],
      "machine_shape": "hm"
    }
  },
  "nbformat": 4,
  "nbformat_minor": 0
}